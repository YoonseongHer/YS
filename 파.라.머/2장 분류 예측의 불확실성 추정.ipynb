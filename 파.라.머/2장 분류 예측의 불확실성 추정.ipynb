{
 "cells": [
  {
   "cell_type": "code",
   "execution_count": 1,
   "metadata": {},
   "outputs": [],
   "source": [
    "import pandas as pd\n",
    "import numpy as np\n",
    "import matplotlib.pyplot as plt\n",
    "import mglearn\n",
    "from IPython.display import display\n",
    "import seaborn as sns\n",
    "from matplotlib import font_manager, rc, rcParams\n",
    "from sklearn.model_selection import train_test_split\n",
    "font_name = font_manager.FontProperties(fname=\"c:/Windows/Fonts/malgun.ttf\").get_name()\n",
    "rc('font', family=font_name)\n",
    "rcParams['axes.unicode_minus'] = False\n",
    "%matplotlib notebook"
   ]
  },
  {
   "cell_type": "code",
   "execution_count": 4,
   "metadata": {},
   "outputs": [],
   "source": [
    "from sklearn.ensemble import GradientBoostingClassifier\n",
    "from sklearn.datasets import make_circles\n",
    "\n",
    "X,y = make_circles(noise=0.25, factor=0.5, random_state=1)\n",
    "\n",
    "y_named = np.array(['blue','red'])[y]\n",
    "\n",
    "X_train,X_test,y_train,y_test,y_train_named,y_test_named = train_test_split(X,y,y_named,random_state=0)\n",
    "\n",
    "gbrt = GradientBoostingClassifier(random_state=0).fit(X_train,y_train_named)"
   ]
  },
  {
   "cell_type": "markdown",
   "metadata": {},
   "source": [
    "## 결정함수\n",
    "\n",
    "- decision_function : 양성(class = 1) 이라고 생각하는 정도를 나타냄\n"
   ]
  },
  {
   "cell_type": "code",
   "execution_count": 6,
   "metadata": {},
   "outputs": [
    {
     "name": "stdout",
     "output_type": "stream",
     "text": [
      "X_tset.shape (25, 2)\n",
      "결정 함수 결과 형태 : (25,)\n"
     ]
    }
   ],
   "source": [
    "print('X_tset.shape',X_test.shape)\n",
    "print('결정 함수 결과 형태 :',gbrt.decision_function(X_test).shape)"
   ]
  },
  {
   "cell_type": "code",
   "execution_count": 7,
   "metadata": {},
   "outputs": [
    {
     "name": "stdout",
     "output_type": "stream",
     "text": [
      "결정 함수:\n",
      " [ 4.13592603 -1.70169917 -3.95106099 -3.62609552  4.28986642  3.66166081\n",
      " -7.69097179  4.11001686  1.10753937  3.40782222 -6.46255955  4.28986642\n",
      "  3.90156346 -1.20031247  3.66166081 -4.17231157 -1.23010079 -3.91576223\n",
      "  4.03602783  4.11001686  4.11001686  0.65709014  2.69826265 -2.65673274\n",
      " -1.86776596]\n"
     ]
    }
   ],
   "source": [
    "print('결정 함수:\\n',gbrt.decision_function(X_test))"
   ]
  },
  {
   "cell_type": "code",
   "execution_count": 9,
   "metadata": {},
   "outputs": [
    {
     "name": "stdout",
     "output_type": "stream",
     "text": [
      "임계치와 결정 함수 결과 비교:\n",
      " [ True False False False  True  True False  True  True  True False  True\n",
      "  True False  True False False False  True  True  True  True  True False\n",
      " False]\n",
      "예측:\n",
      " ['red' 'blue' 'blue' 'blue' 'red' 'red' 'blue' 'red' 'red' 'red' 'blue'\n",
      " 'red' 'red' 'blue' 'red' 'blue' 'blue' 'blue' 'red' 'red' 'red' 'red'\n",
      " 'red' 'blue' 'blue']\n"
     ]
    }
   ],
   "source": [
    "print('임계치와 결정 함수 결과 비교:\\n',gbrt.decision_function(X_test)>0)\n",
    "print('예측:\\n',gbrt.predict(X_test))"
   ]
  },
  {
   "cell_type": "code",
   "execution_count": 14,
   "metadata": {},
   "outputs": [
    {
     "name": "stdout",
     "output_type": "stream",
     "text": [
      "pred는 예측 결과와 같다: True\n"
     ]
    }
   ],
   "source": [
    "greator_zero = (gbrt.decision_function(X_test)>0).astype(int)\n",
    "pred = gbrt.classes_[greator_zero]\n",
    "print('pred는 예측 결과와 같다:',np.all(pred == gbrt.predict(X_test)))"
   ]
  },
  {
   "cell_type": "code",
   "execution_count": 15,
   "metadata": {},
   "outputs": [
    {
     "name": "stdout",
     "output_type": "stream",
     "text": [
      "결정 함수 최솟값 : -7.69 최댓값 : 4.29\n"
     ]
    }
   ],
   "source": [
    "decision_function = gbrt.decision_function(X_test)\n",
    "print('결정 함수 최솟값 : {:.2f} 최댓값 : {:.2f}'.format(np.min(decision_function),np.max(decision_function)))"
   ]
  },
  {
   "cell_type": "markdown",
   "metadata": {},
   "source": [
    "## 예측 확률\n",
    "- predict_proda"
   ]
  },
  {
   "cell_type": "code",
   "execution_count": 17,
   "metadata": {},
   "outputs": [
    {
     "name": "stdout",
     "output_type": "stream",
     "text": [
      "확률 값의 형태 : (25, 2)\n"
     ]
    }
   ],
   "source": [
    "print('확률 값의 형태 :',gbrt.predict_proba(X_test).shape)"
   ]
  },
  {
   "cell_type": "code",
   "execution_count": 19,
   "metadata": {},
   "outputs": [
    {
     "name": "stdout",
     "output_type": "stream",
     "text": [
      "예측 확률:\n",
      " [[0.01573626 0.98426374]\n",
      " [0.84575653 0.15424347]\n",
      " [0.98112869 0.01887131]\n",
      " [0.97407033 0.02592967]\n",
      " [0.01352142 0.98647858]\n",
      " [0.02504637 0.97495363]]\n"
     ]
    }
   ],
   "source": [
    "print('예측 확률:\\n',gbrt.predict_proba(X_test[:6]))"
   ]
  },
  {
   "cell_type": "markdown",
   "metadata": {},
   "source": [
    "## 다중분류에서의 불확실성"
   ]
  },
  {
   "cell_type": "code",
   "execution_count": 21,
   "metadata": {},
   "outputs": [],
   "source": [
    "from sklearn.datasets import load_iris\n",
    "\n",
    "iris = load_iris()\n",
    "X_train,X_test,y_train,y_test = train_test_split(iris.data, iris.target, random_state=42)\n",
    "\n",
    "gbrt = GradientBoostingClassifier(learning_rate=0.01,random_state=0).fit(X_train,y_train)"
   ]
  },
  {
   "cell_type": "code",
   "execution_count": 24,
   "metadata": {},
   "outputs": [
    {
     "name": "stdout",
     "output_type": "stream",
     "text": [
      "결정 함수의 결과형태 : (38, 3)\n",
      "결정 함수 결과 :\n",
      " [[-1.995715    0.04758267 -1.92720695]\n",
      " [ 0.06146394 -1.90755736 -1.92793758]\n",
      " [-1.99058203 -1.87637861  0.09686725]\n",
      " [-1.995715    0.04758267 -1.92720695]\n",
      " [-1.99730159 -0.13469108 -1.20341483]\n",
      " [ 0.06146394 -1.90755736 -1.92793758]\n",
      " [-1.995715    0.04758267 -1.92720695]\n",
      " [-1.99677434 -1.87637861  0.09686725]\n",
      " [-1.995715    0.04758267 -1.92720695]\n",
      " [-1.995715    0.04758267 -1.92720695]\n",
      " [-1.99677434 -1.87637861  0.07863156]\n",
      " [ 0.06146394 -1.90755736 -1.92793758]\n",
      " [ 0.06146394 -1.90755736 -1.92793758]\n",
      " [ 0.06146394 -1.90755736 -1.92793758]\n",
      " [ 0.06146394 -1.90755736 -1.92793758]\n",
      " [-1.995715    0.04758267 -1.92720695]\n",
      " [-1.99087515 -1.87637861  0.09686725]\n",
      " [-1.995715    0.04758267 -1.92720695]\n",
      " [-1.995715    0.04758267 -1.92720695]\n",
      " [-1.99087515 -1.87637861  0.09686725]\n",
      " [ 0.06146394 -1.90755736 -1.92793758]\n",
      " [-1.99730159 -1.86429671  0.04166049]\n",
      " [ 0.06146394 -1.90755736 -1.92793758]\n",
      " [-1.99087515 -1.87637861  0.09686725]\n",
      " [-1.99087515 -1.87637861  0.07863156]\n",
      " [-1.99087515 -1.87637861  0.09686725]\n",
      " [-1.99058203 -1.87637861  0.09686725]\n",
      " [-1.99087515 -1.87637861  0.07863156]\n",
      " [ 0.06146394 -1.90755736 -1.92793758]\n",
      " [ 0.06146394 -1.90755736 -1.92793758]\n",
      " [ 0.06146394 -1.90755736 -1.92793758]\n",
      " [ 0.06146394 -1.90755736 -1.92793758]\n",
      " [-1.995715    0.04758267 -1.92720695]\n",
      " [ 0.06146394 -1.90755736 -1.92793758]\n",
      " [ 0.06146394 -1.90755736 -1.92793758]\n",
      " [-1.99712219 -1.87637861  0.04166049]\n",
      " [-1.995715    0.04758267 -1.92720695]\n",
      " [ 0.06146394 -1.90755736 -1.92793758]]\n"
     ]
    }
   ],
   "source": [
    "print('결정 함수의 결과형태 :', gbrt.decision_function(X_test).shape)\n",
    "print('결정 함수 결과 :\\n',gbrt.decision_function(X_test))"
   ]
  },
  {
   "cell_type": "code",
   "execution_count": 26,
   "metadata": {},
   "outputs": [
    {
     "name": "stdout",
     "output_type": "stream",
     "text": [
      "가장 큰 결정함 수 인덱스:\n",
      " [1 0 2 1 1 0 1 2 1 1 2 0 0 0 0 1 2 1 1 2 0 2 0 2 2 2 2 2 0 0 0 0 1 0 0 2 1\n",
      " 0]\n",
      "예측: \n",
      " [1 0 2 1 1 0 1 2 1 1 2 0 0 0 0 1 2 1 1 2 0 2 0 2 2 2 2 2 0 0 0 0 1 0 0 2 1\n",
      " 0]\n",
      "[1 0 2 1 1 0 1 2 1 1 2 0 0 0 0 1 2 1 1 2 0 2 0 2 2 2 2 2 0 0 0 0 1 0 0 2 1\n",
      " 0]\n"
     ]
    }
   ],
   "source": [
    "print('가장 큰 결정함 수 인덱스:\\n',np.argmax(gbrt.decision_function(X_test),axis=1))\n",
    "print('예측: \\n',gbrt.predict(X_test))\n",
    "print(y_test)"
   ]
  },
  {
   "cell_type": "code",
   "execution_count": 27,
   "metadata": {},
   "outputs": [
    {
     "name": "stdout",
     "output_type": "stream",
     "text": [
      "예측 확률 :\n",
      " [[0.10217718 0.78840034 0.10942248]\n",
      " [0.78347147 0.10936745 0.10716108]\n",
      " [0.09818072 0.11005864 0.79176065]\n",
      " [0.10217718 0.78840034 0.10942248]\n",
      " [0.10360005 0.66723901 0.22916094]\n",
      " [0.78347147 0.10936745 0.10716108]]\n"
     ]
    }
   ],
   "source": [
    "print('예측 확률 :\\n',gbrt.predict_proba(X_test)[:6,:])"
   ]
  }
 ],
 "metadata": {
  "kernelspec": {
   "display_name": "Python 3",
   "language": "python",
   "name": "python3"
  },
  "language_info": {
   "codemirror_mode": {
    "name": "ipython",
    "version": 3
   },
   "file_extension": ".py",
   "mimetype": "text/x-python",
   "name": "python",
   "nbconvert_exporter": "python",
   "pygments_lexer": "ipython3",
   "version": "3.7.7"
  },
  "toc": {
   "base_numbering": 1,
   "nav_menu": {},
   "number_sections": true,
   "sideBar": true,
   "skip_h1_title": true,
   "title_cell": "Table of Contents",
   "title_sidebar": "Contents",
   "toc_cell": false,
   "toc_position": {
    "height": "574.4px",
    "left": "105px",
    "top": "49.6px",
    "width": "212px"
   },
   "toc_section_display": true,
   "toc_window_display": true
  }
 },
 "nbformat": 4,
 "nbformat_minor": 4
}
