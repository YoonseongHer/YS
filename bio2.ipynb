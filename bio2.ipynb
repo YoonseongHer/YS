{
 "cells": [
  {
   "cell_type": "code",
   "execution_count": 2,
   "metadata": {},
   "outputs": [],
   "source": [
    "import numpy as np\n",
    "import pandas as pd\n",
    "import matplotlib.pyplot as plt\n",
    "import seaborn as sns\n",
    "plt.style.use('seaborn')\n",
    "sns.set(font_scale=2.5)\n",
    "import missingno as msno\n",
    "%matplotlib inline\n",
    "from sklearn.ensemble import RandomForestClassifier\n",
    "from sklearn import metrics\n",
    "from sklearn.model_selection import train_test_split"
   ]
  },
  {
   "cell_type": "code",
   "execution_count": 3,
   "metadata": {},
   "outputs": [],
   "source": [
    "df_train = pd.read_csv('databio/train.csv')\n",
    "df_test = pd.read_csv('databio/test.csv')"
   ]
  },
  {
   "cell_type": "code",
   "execution_count": 4,
   "metadata": {},
   "outputs": [
    {
     "data": {
      "text/html": [
       "<div>\n",
       "<style scoped>\n",
       "    .dataframe tbody tr th:only-of-type {\n",
       "        vertical-align: middle;\n",
       "    }\n",
       "\n",
       "    .dataframe tbody tr th {\n",
       "        vertical-align: top;\n",
       "    }\n",
       "\n",
       "    .dataframe thead th {\n",
       "        text-align: right;\n",
       "    }\n",
       "</style>\n",
       "<table border=\"1\" class=\"dataframe\">\n",
       "  <thead>\n",
       "    <tr style=\"text-align: right;\">\n",
       "      <th></th>\n",
       "      <th>id</th>\n",
       "      <th>rho</th>\n",
       "      <th>650_src</th>\n",
       "      <th>660_src</th>\n",
       "      <th>670_src</th>\n",
       "      <th>680_src</th>\n",
       "      <th>690_src</th>\n",
       "      <th>700_src</th>\n",
       "      <th>710_src</th>\n",
       "      <th>720_src</th>\n",
       "      <th>...</th>\n",
       "      <th>940_dst</th>\n",
       "      <th>950_dst</th>\n",
       "      <th>960_dst</th>\n",
       "      <th>970_dst</th>\n",
       "      <th>980_dst</th>\n",
       "      <th>990_dst</th>\n",
       "      <th>hhb</th>\n",
       "      <th>hbo2</th>\n",
       "      <th>ca</th>\n",
       "      <th>na</th>\n",
       "    </tr>\n",
       "  </thead>\n",
       "  <tbody>\n",
       "    <tr>\n",
       "      <th>0</th>\n",
       "      <td>0</td>\n",
       "      <td>25</td>\n",
       "      <td>0.37950</td>\n",
       "      <td>0.42993</td>\n",
       "      <td>0.52076</td>\n",
       "      <td>0.57166</td>\n",
       "      <td>0.67818</td>\n",
       "      <td>0.75476</td>\n",
       "      <td>0.83580</td>\n",
       "      <td>0.93623</td>\n",
       "      <td>...</td>\n",
       "      <td>NaN</td>\n",
       "      <td>0.000000e+00</td>\n",
       "      <td>NaN</td>\n",
       "      <td>1.067504e-18</td>\n",
       "      <td>5.998949e-18</td>\n",
       "      <td>4.378513e-17</td>\n",
       "      <td>5.59</td>\n",
       "      <td>4.32</td>\n",
       "      <td>8.92</td>\n",
       "      <td>4.29</td>\n",
       "    </tr>\n",
       "    <tr>\n",
       "      <th>1</th>\n",
       "      <td>1</td>\n",
       "      <td>10</td>\n",
       "      <td>0.00000</td>\n",
       "      <td>0.00000</td>\n",
       "      <td>0.01813</td>\n",
       "      <td>0.00000</td>\n",
       "      <td>0.00000</td>\n",
       "      <td>0.01974</td>\n",
       "      <td>0.00321</td>\n",
       "      <td>0.00000</td>\n",
       "      <td>...</td>\n",
       "      <td>1.343132e-08</td>\n",
       "      <td>6.112685e-09</td>\n",
       "      <td>2.130547e-09</td>\n",
       "      <td>NaN</td>\n",
       "      <td>9.710091e-09</td>\n",
       "      <td>NaN</td>\n",
       "      <td>0.00</td>\n",
       "      <td>2.83</td>\n",
       "      <td>7.25</td>\n",
       "      <td>4.64</td>\n",
       "    </tr>\n",
       "    <tr>\n",
       "      <th>2</th>\n",
       "      <td>2</td>\n",
       "      <td>25</td>\n",
       "      <td>0.00000</td>\n",
       "      <td>0.03289</td>\n",
       "      <td>0.02416</td>\n",
       "      <td>0.03610</td>\n",
       "      <td>0.05843</td>\n",
       "      <td>0.09015</td>\n",
       "      <td>0.14944</td>\n",
       "      <td>0.18578</td>\n",
       "      <td>...</td>\n",
       "      <td>0.000000e+00</td>\n",
       "      <td>0.000000e+00</td>\n",
       "      <td>0.000000e+00</td>\n",
       "      <td>0.000000e+00</td>\n",
       "      <td>1.329725e-18</td>\n",
       "      <td>NaN</td>\n",
       "      <td>10.64</td>\n",
       "      <td>3.00</td>\n",
       "      <td>8.40</td>\n",
       "      <td>5.16</td>\n",
       "    </tr>\n",
       "    <tr>\n",
       "      <th>3</th>\n",
       "      <td>3</td>\n",
       "      <td>10</td>\n",
       "      <td>0.27503</td>\n",
       "      <td>0.31281</td>\n",
       "      <td>0.32898</td>\n",
       "      <td>0.41041</td>\n",
       "      <td>0.46587</td>\n",
       "      <td>0.52769</td>\n",
       "      <td>0.64369</td>\n",
       "      <td>0.73562</td>\n",
       "      <td>...</td>\n",
       "      <td>2.245998e-10</td>\n",
       "      <td>1.299511e-10</td>\n",
       "      <td>7.782625e-11</td>\n",
       "      <td>NaN</td>\n",
       "      <td>4.088921e-10</td>\n",
       "      <td>NaN</td>\n",
       "      <td>5.67</td>\n",
       "      <td>4.01</td>\n",
       "      <td>5.05</td>\n",
       "      <td>4.35</td>\n",
       "    </tr>\n",
       "    <tr>\n",
       "      <th>4</th>\n",
       "      <td>4</td>\n",
       "      <td>15</td>\n",
       "      <td>1.01521</td>\n",
       "      <td>1.00872</td>\n",
       "      <td>0.98930</td>\n",
       "      <td>0.98874</td>\n",
       "      <td>1.01773</td>\n",
       "      <td>1.01632</td>\n",
       "      <td>1.00009</td>\n",
       "      <td>0.98217</td>\n",
       "      <td>...</td>\n",
       "      <td>1.457955e-13</td>\n",
       "      <td>8.769053e-14</td>\n",
       "      <td>NaN</td>\n",
       "      <td>1.330237e-13</td>\n",
       "      <td>NaN</td>\n",
       "      <td>NaN</td>\n",
       "      <td>11.97</td>\n",
       "      <td>4.41</td>\n",
       "      <td>10.78</td>\n",
       "      <td>2.42</td>\n",
       "    </tr>\n",
       "  </tbody>\n",
       "</table>\n",
       "<p>5 rows × 76 columns</p>\n",
       "</div>"
      ],
      "text/plain": [
       "   id  rho  650_src  660_src  670_src  680_src  690_src  700_src  710_src  \\\n",
       "0   0   25  0.37950  0.42993  0.52076  0.57166  0.67818  0.75476  0.83580   \n",
       "1   1   10  0.00000  0.00000  0.01813  0.00000  0.00000  0.01974  0.00321   \n",
       "2   2   25  0.00000  0.03289  0.02416  0.03610  0.05843  0.09015  0.14944   \n",
       "3   3   10  0.27503  0.31281  0.32898  0.41041  0.46587  0.52769  0.64369   \n",
       "4   4   15  1.01521  1.00872  0.98930  0.98874  1.01773  1.01632  1.00009   \n",
       "\n",
       "   720_src  ...       940_dst       950_dst       960_dst       970_dst  \\\n",
       "0  0.93623  ...           NaN  0.000000e+00           NaN  1.067504e-18   \n",
       "1  0.00000  ...  1.343132e-08  6.112685e-09  2.130547e-09           NaN   \n",
       "2  0.18578  ...  0.000000e+00  0.000000e+00  0.000000e+00  0.000000e+00   \n",
       "3  0.73562  ...  2.245998e-10  1.299511e-10  7.782625e-11           NaN   \n",
       "4  0.98217  ...  1.457955e-13  8.769053e-14           NaN  1.330237e-13   \n",
       "\n",
       "        980_dst       990_dst    hhb  hbo2     ca    na  \n",
       "0  5.998949e-18  4.378513e-17   5.59  4.32   8.92  4.29  \n",
       "1  9.710091e-09           NaN   0.00  2.83   7.25  4.64  \n",
       "2  1.329725e-18           NaN  10.64  3.00   8.40  5.16  \n",
       "3  4.088921e-10           NaN   5.67  4.01   5.05  4.35  \n",
       "4           NaN           NaN  11.97  4.41  10.78  2.42  \n",
       "\n",
       "[5 rows x 76 columns]"
      ]
     },
     "execution_count": 4,
     "metadata": {},
     "output_type": "execute_result"
    }
   ],
   "source": [
    "df_train.head()"
   ]
  },
  {
   "cell_type": "code",
   "execution_count": 5,
   "metadata": {},
   "outputs": [],
   "source": [
    "for i in range(650,1000,10):\n",
    "    df_train[str(i)+'nm'] = df_train[str(i)+'_dst']/df_train[str(i)+'_src']\n",
    "\n",
    "for i in range(650,1000,10):\n",
    "    df_test[str(i)+'nm'] = df_test[str(i)+'_dst']/df_test[str(i)+'_src']"
   ]
  },
  {
   "cell_type": "code",
   "execution_count": 6,
   "metadata": {},
   "outputs": [],
   "source": [
    "df_train = df_train.replace(np.inf,1)\n",
    "df_train = df_train.fillna(1)\n",
    "df_test = df_test.replace(np.inf,1)\n",
    "df_test = df_test.fillna(1)"
   ]
  },
  {
   "cell_type": "code",
   "execution_count": 7,
   "metadata": {},
   "outputs": [],
   "source": [
    "df_nm = df_train[[str(i)+'nm' for i in range(650,1000,10)]+['rho']]\n",
    "df_nm2 = df_test[[str(i)+'nm' for i in range(650,1000,10)]+['rho']]"
   ]
  },
  {
   "cell_type": "code",
   "execution_count": 8,
   "metadata": {
    "scrolled": true
   },
   "outputs": [
    {
     "data": {
      "text/html": [
       "<div>\n",
       "<style scoped>\n",
       "    .dataframe tbody tr th:only-of-type {\n",
       "        vertical-align: middle;\n",
       "    }\n",
       "\n",
       "    .dataframe tbody tr th {\n",
       "        vertical-align: top;\n",
       "    }\n",
       "\n",
       "    .dataframe thead th {\n",
       "        text-align: right;\n",
       "    }\n",
       "</style>\n",
       "<table border=\"1\" class=\"dataframe\">\n",
       "  <thead>\n",
       "    <tr style=\"text-align: right;\">\n",
       "      <th></th>\n",
       "      <th>650nm</th>\n",
       "      <th>660nm</th>\n",
       "      <th>670nm</th>\n",
       "      <th>680nm</th>\n",
       "      <th>690nm</th>\n",
       "      <th>700nm</th>\n",
       "      <th>710nm</th>\n",
       "      <th>720nm</th>\n",
       "      <th>730nm</th>\n",
       "      <th>740nm</th>\n",
       "      <th>...</th>\n",
       "      <th>910nm</th>\n",
       "      <th>920nm</th>\n",
       "      <th>930nm</th>\n",
       "      <th>940nm</th>\n",
       "      <th>950nm</th>\n",
       "      <th>960nm</th>\n",
       "      <th>970nm</th>\n",
       "      <th>980nm</th>\n",
       "      <th>990nm</th>\n",
       "      <th>rho</th>\n",
       "    </tr>\n",
       "  </thead>\n",
       "  <tbody>\n",
       "    <tr>\n",
       "      <th>0</th>\n",
       "      <td>6.449954e-18</td>\n",
       "      <td>4.406712e-18</td>\n",
       "      <td>0.000000e+00</td>\n",
       "      <td>1.121805e-17</td>\n",
       "      <td>1.619863e-17</td>\n",
       "      <td>1.180129e-18</td>\n",
       "      <td>1.000000e+00</td>\n",
       "      <td>0.000000e+00</td>\n",
       "      <td>1.000000e+00</td>\n",
       "      <td>0.000000e+00</td>\n",
       "      <td>...</td>\n",
       "      <td>2.682411e-17</td>\n",
       "      <td>1.000000e+00</td>\n",
       "      <td>5.985132e-18</td>\n",
       "      <td>1.000000e+00</td>\n",
       "      <td>0.000000e+00</td>\n",
       "      <td>1.000000e+00</td>\n",
       "      <td>1.437910e-17</td>\n",
       "      <td>7.713706e-17</td>\n",
       "      <td>7.909164e-16</td>\n",
       "      <td>25</td>\n",
       "    </tr>\n",
       "    <tr>\n",
       "      <th>1</th>\n",
       "      <td>1.000000e+00</td>\n",
       "      <td>1.000000e+00</td>\n",
       "      <td>0.000000e+00</td>\n",
       "      <td>1.000000e+00</td>\n",
       "      <td>1.000000e+00</td>\n",
       "      <td>0.000000e+00</td>\n",
       "      <td>0.000000e+00</td>\n",
       "      <td>1.000000e+00</td>\n",
       "      <td>1.000000e+00</td>\n",
       "      <td>0.000000e+00</td>\n",
       "      <td>...</td>\n",
       "      <td>1.000000e+00</td>\n",
       "      <td>6.213321e-09</td>\n",
       "      <td>1.296920e-08</td>\n",
       "      <td>1.345783e-08</td>\n",
       "      <td>6.292266e-09</td>\n",
       "      <td>2.447638e-09</td>\n",
       "      <td>1.000000e+00</td>\n",
       "      <td>1.531222e-08</td>\n",
       "      <td>1.000000e+00</td>\n",
       "      <td>10</td>\n",
       "    </tr>\n",
       "    <tr>\n",
       "      <th>2</th>\n",
       "      <td>1.000000e+00</td>\n",
       "      <td>1.144296e-18</td>\n",
       "      <td>1.000000e+00</td>\n",
       "      <td>0.000000e+00</td>\n",
       "      <td>1.000000e+00</td>\n",
       "      <td>1.000000e+00</td>\n",
       "      <td>6.010206e-18</td>\n",
       "      <td>1.046767e-18</td>\n",
       "      <td>3.176558e-18</td>\n",
       "      <td>7.170964e-19</td>\n",
       "      <td>...</td>\n",
       "      <td>3.603440e-18</td>\n",
       "      <td>1.161261e-17</td>\n",
       "      <td>0.000000e+00</td>\n",
       "      <td>0.000000e+00</td>\n",
       "      <td>0.000000e+00</td>\n",
       "      <td>0.000000e+00</td>\n",
       "      <td>0.000000e+00</td>\n",
       "      <td>3.386971e-17</td>\n",
       "      <td>1.000000e+00</td>\n",
       "      <td>25</td>\n",
       "    </tr>\n",
       "    <tr>\n",
       "      <th>3</th>\n",
       "      <td>1.470740e-10</td>\n",
       "      <td>1.000000e+00</td>\n",
       "      <td>1.624829e-10</td>\n",
       "      <td>2.218973e-11</td>\n",
       "      <td>4.038590e-11</td>\n",
       "      <td>6.854783e-11</td>\n",
       "      <td>1.228799e-12</td>\n",
       "      <td>1.000000e+00</td>\n",
       "      <td>1.983145e-10</td>\n",
       "      <td>1.000000e+00</td>\n",
       "      <td>...</td>\n",
       "      <td>4.041843e-10</td>\n",
       "      <td>1.000000e+00</td>\n",
       "      <td>1.242449e-09</td>\n",
       "      <td>1.576471e-09</td>\n",
       "      <td>1.283341e-09</td>\n",
       "      <td>7.839067e-10</td>\n",
       "      <td>1.000000e+00</td>\n",
       "      <td>3.885699e-09</td>\n",
       "      <td>1.000000e+00</td>\n",
       "      <td>10</td>\n",
       "    </tr>\n",
       "    <tr>\n",
       "      <th>4</th>\n",
       "      <td>4.713065e-14</td>\n",
       "      <td>1.000000e+00</td>\n",
       "      <td>0.000000e+00</td>\n",
       "      <td>1.166221e-13</td>\n",
       "      <td>0.000000e+00</td>\n",
       "      <td>0.000000e+00</td>\n",
       "      <td>1.056896e-13</td>\n",
       "      <td>0.000000e+00</td>\n",
       "      <td>0.000000e+00</td>\n",
       "      <td>2.660915e-14</td>\n",
       "      <td>...</td>\n",
       "      <td>1.000000e+00</td>\n",
       "      <td>1.552445e-14</td>\n",
       "      <td>4.931379e-14</td>\n",
       "      <td>1.435575e-13</td>\n",
       "      <td>8.676045e-14</td>\n",
       "      <td>1.000000e+00</td>\n",
       "      <td>1.349166e-13</td>\n",
       "      <td>1.000000e+00</td>\n",
       "      <td>1.000000e+00</td>\n",
       "      <td>15</td>\n",
       "    </tr>\n",
       "  </tbody>\n",
       "</table>\n",
       "<p>5 rows × 36 columns</p>\n",
       "</div>"
      ],
      "text/plain": [
       "          650nm         660nm         670nm         680nm         690nm  \\\n",
       "0  6.449954e-18  4.406712e-18  0.000000e+00  1.121805e-17  1.619863e-17   \n",
       "1  1.000000e+00  1.000000e+00  0.000000e+00  1.000000e+00  1.000000e+00   \n",
       "2  1.000000e+00  1.144296e-18  1.000000e+00  0.000000e+00  1.000000e+00   \n",
       "3  1.470740e-10  1.000000e+00  1.624829e-10  2.218973e-11  4.038590e-11   \n",
       "4  4.713065e-14  1.000000e+00  0.000000e+00  1.166221e-13  0.000000e+00   \n",
       "\n",
       "          700nm         710nm         720nm         730nm         740nm  ...  \\\n",
       "0  1.180129e-18  1.000000e+00  0.000000e+00  1.000000e+00  0.000000e+00  ...   \n",
       "1  0.000000e+00  0.000000e+00  1.000000e+00  1.000000e+00  0.000000e+00  ...   \n",
       "2  1.000000e+00  6.010206e-18  1.046767e-18  3.176558e-18  7.170964e-19  ...   \n",
       "3  6.854783e-11  1.228799e-12  1.000000e+00  1.983145e-10  1.000000e+00  ...   \n",
       "4  0.000000e+00  1.056896e-13  0.000000e+00  0.000000e+00  2.660915e-14  ...   \n",
       "\n",
       "          910nm         920nm         930nm         940nm         950nm  \\\n",
       "0  2.682411e-17  1.000000e+00  5.985132e-18  1.000000e+00  0.000000e+00   \n",
       "1  1.000000e+00  6.213321e-09  1.296920e-08  1.345783e-08  6.292266e-09   \n",
       "2  3.603440e-18  1.161261e-17  0.000000e+00  0.000000e+00  0.000000e+00   \n",
       "3  4.041843e-10  1.000000e+00  1.242449e-09  1.576471e-09  1.283341e-09   \n",
       "4  1.000000e+00  1.552445e-14  4.931379e-14  1.435575e-13  8.676045e-14   \n",
       "\n",
       "          960nm         970nm         980nm         990nm  rho  \n",
       "0  1.000000e+00  1.437910e-17  7.713706e-17  7.909164e-16   25  \n",
       "1  2.447638e-09  1.000000e+00  1.531222e-08  1.000000e+00   10  \n",
       "2  0.000000e+00  0.000000e+00  3.386971e-17  1.000000e+00   25  \n",
       "3  7.839067e-10  1.000000e+00  3.885699e-09  1.000000e+00   10  \n",
       "4  1.000000e+00  1.349166e-13  1.000000e+00  1.000000e+00   15  \n",
       "\n",
       "[5 rows x 36 columns]"
      ]
     },
     "execution_count": 8,
     "metadata": {},
     "output_type": "execute_result"
    }
   ],
   "source": [
    "df_nm.head()"
   ]
  },
  {
   "cell_type": "code",
   "execution_count": 9,
   "metadata": {
    "scrolled": true
   },
   "outputs": [
    {
     "name": "stderr",
     "output_type": "stream",
     "text": [
      "C:\\Users\\Playdata\\anaconda3\\lib\\site-packages\\ipykernel_launcher.py:2: RuntimeWarning: divide by zero encountered in log\n",
      "  \n",
      "C:\\Users\\Playdata\\anaconda3\\lib\\site-packages\\ipykernel_launcher.py:2: SettingWithCopyWarning: \n",
      "A value is trying to be set on a copy of a slice from a DataFrame.\n",
      "Try using .loc[row_indexer,col_indexer] = value instead\n",
      "\n",
      "See the caveats in the documentation: https://pandas.pydata.org/pandas-docs/stable/user_guide/indexing.html#returning-a-view-versus-a-copy\n",
      "  \n"
     ]
    }
   ],
   "source": [
    "for i in range(650,1000,10):\n",
    "    df_nm[str(i)+'nm'] = df_nm[str(i)+'nm'].map(lambda x:-np.log(x))"
   ]
  },
  {
   "cell_type": "code",
   "execution_count": 10,
   "metadata": {},
   "outputs": [
    {
     "name": "stderr",
     "output_type": "stream",
     "text": [
      "C:\\Users\\Playdata\\anaconda3\\lib\\site-packages\\ipykernel_launcher.py:2: RuntimeWarning: divide by zero encountered in log\n",
      "  \n",
      "C:\\Users\\Playdata\\anaconda3\\lib\\site-packages\\ipykernel_launcher.py:2: SettingWithCopyWarning: \n",
      "A value is trying to be set on a copy of a slice from a DataFrame.\n",
      "Try using .loc[row_indexer,col_indexer] = value instead\n",
      "\n",
      "See the caveats in the documentation: https://pandas.pydata.org/pandas-docs/stable/user_guide/indexing.html#returning-a-view-versus-a-copy\n",
      "  \n"
     ]
    }
   ],
   "source": [
    "for i in range(650,1000,10):\n",
    "    df_nm2[str(i)+'nm'] = df_nm2[str(i)+'nm'].map(lambda x:-np.log(x))"
   ]
  },
  {
   "cell_type": "code",
   "execution_count": 11,
   "metadata": {},
   "outputs": [],
   "source": [
    "df_nm = df_nm.replace(np.inf,0)\n",
    "df_nm2 = df_nm2.replace(np.inf,0)"
   ]
  },
  {
   "cell_type": "code",
   "execution_count": 12,
   "metadata": {
    "scrolled": true
   },
   "outputs": [],
   "source": [
    "for i in range(650,1000,10):\n",
    "    df_nm[str(i)+'nm'] = df_nm[str(i)+'nm']/df_nm['rho']\n",
    "\n",
    "for i in range(650,1000,10):\n",
    "    df_nm2[str(i)+'nm'] = df_nm2[str(i)+'nm']/df_nm2['rho']"
   ]
  },
  {
   "cell_type": "code",
   "execution_count": 18,
   "metadata": {},
   "outputs": [
    {
     "data": {
      "image/png": "[encoded data removed]",
      "text/plain": [
       "<Figure size 576x576 with 1 Axes>"
      ]
     },
     "metadata": {
      "needs_background": "light"
     },
     "output_type": "display_data"
    }
   ],
   "source": [
    "f,ax = plt.subplots(1,1,figsize=(8,8))\n",
    "g = sns.distplot(df_nm['800nm'],color='b',label='Skewness :{:.2f}'.format(df_nm['800nm'].skew()),ax=ax)\n",
    "g = g.legend(loc='best')"
   ]
  },
  {
   "cell_type": "code",
   "execution_count": 16,
   "metadata": {},
   "outputs": [],
   "source": [
    "df_nm.drop('rho',axis=1,inplace=True)\n",
    "df_nm2.drop('rho',axis=1,inplace=True)"
   ]
  },
  {
   "cell_type": "code",
   "execution_count": 35,
   "metadata": {},
   "outputs": [],
   "source": [
    "from sklearn.ensemble import RandomForestRegressor"
   ]
  },
  {
   "cell_type": "code",
   "execution_count": 36,
   "metadata": {},
   "outputs": [],
   "source": [
    "df_lable = df_train[['hhb', 'hbo2','ca', 'na']]\n",
    "X_train = df_nm.values\n",
    "ta1 = df_lable['hhb'].values\n",
    "ta2 = df_lable['hbo2'].values\n",
    "ta3 = df_lable['ca'].values\n",
    "ta4 = df_lable['na'].values"
   ]
  },
  {
   "cell_type": "code",
   "execution_count": 37,
   "metadata": {},
   "outputs": [
    {
     "data": {
      "text/plain": [
       "RandomForestRegressor(bootstrap=True, ccp_alpha=0.0, criterion='mse',\n",
       "                      max_depth=None, max_features='auto', max_leaf_nodes=None,\n",
       "                      max_samples=None, min_impurity_decrease=0.0,\n",
       "                      min_impurity_split=None, min_samples_leaf=1,\n",
       "                      min_samples_split=2, min_weight_fraction_leaf=0.0,\n",
       "                      n_estimators=100, n_jobs=None, oob_score=False,\n",
       "                      random_state=None, verbose=0, warm_start=False)"
      ]
     },
     "execution_count": 37,
     "metadata": {},
     "output_type": "execute_result"
    }
   ],
   "source": [
    "model1 = RandomForestRegressor()\n",
    "model1.fit(X_train,ta1)"
   ]
  },
  {
   "cell_type": "code",
   "execution_count": 38,
   "metadata": {},
   "outputs": [
    {
     "data": {
      "text/plain": [
       "RandomForestRegressor(bootstrap=True, ccp_alpha=0.0, criterion='mse',\n",
       "                      max_depth=None, max_features='auto', max_leaf_nodes=None,\n",
       "                      max_samples=None, min_impurity_decrease=0.0,\n",
       "                      min_impurity_split=None, min_samples_leaf=1,\n",
       "                      min_samples_split=2, min_weight_fraction_leaf=0.0,\n",
       "                      n_estimators=100, n_jobs=None, oob_score=False,\n",
       "                      random_state=None, verbose=0, warm_start=False)"
      ]
     },
     "execution_count": 38,
     "metadata": {},
     "output_type": "execute_result"
    }
   ],
   "source": [
    "model2 = RandomForestRegressor()\n",
    "model2.fit(X_train,ta2)"
   ]
  },
  {
   "cell_type": "code",
   "execution_count": 39,
   "metadata": {},
   "outputs": [
    {
     "data": {
      "text/plain": [
       "RandomForestRegressor(bootstrap=True, ccp_alpha=0.0, criterion='mse',\n",
       "                      max_depth=None, max_features='auto', max_leaf_nodes=None,\n",
       "                      max_samples=None, min_impurity_decrease=0.0,\n",
       "                      min_impurity_split=None, min_samples_leaf=1,\n",
       "                      min_samples_split=2, min_weight_fraction_leaf=0.0,\n",
       "                      n_estimators=100, n_jobs=None, oob_score=False,\n",
       "                      random_state=None, verbose=0, warm_start=False)"
      ]
     },
     "execution_count": 39,
     "metadata": {},
     "output_type": "execute_result"
    }
   ],
   "source": [
    "model3 = RandomForestRegressor()\n",
    "model3.fit(X_train,ta3)"
   ]
  },
  {
   "cell_type": "code",
   "execution_count": 40,
   "metadata": {},
   "outputs": [
    {
     "data": {
      "text/plain": [
       "RandomForestRegressor(bootstrap=True, ccp_alpha=0.0, criterion='mse',\n",
       "                      max_depth=None, max_features='auto', max_leaf_nodes=None,\n",
       "                      max_samples=None, min_impurity_decrease=0.0,\n",
       "                      min_impurity_split=None, min_samples_leaf=1,\n",
       "                      min_samples_split=2, min_weight_fraction_leaf=0.0,\n",
       "                      n_estimators=100, n_jobs=None, oob_score=False,\n",
       "                      random_state=None, verbose=0, warm_start=False)"
      ]
     },
     "execution_count": 40,
     "metadata": {},
     "output_type": "execute_result"
    }
   ],
   "source": [
    "model4 = RandomForestRegressor()\n",
    "model4.fit(X_train,ta4)"
   ]
  },
  {
   "cell_type": "code",
   "execution_count": 41,
   "metadata": {},
   "outputs": [],
   "source": [
    "submission = pd.read_csv('databio/sample_submission.csv')"
   ]
  },
  {
   "cell_type": "code",
   "execution_count": 42,
   "metadata": {},
   "outputs": [],
   "source": [
    "submission['hhb'] = model1.predict(df_nm2.values)\n",
    "submission['hbo2'] = model2.predict(df_nm2.values)\n",
    "submission['ca'] = model3.predict(df_nm2.values)\n",
    "submission['na'] = model4.predict(df_nm2.values)"
   ]
  },
  {
   "cell_type": "code",
   "execution_count": 43,
   "metadata": {},
   "outputs": [],
   "source": [
    "submission.to_csv('./bio4_submission.csv',index=False)"
   ]
  },
  {
   "cell_type": "code",
   "execution_count": 1,
   "metadata": {},
   "outputs": [
    {
     "ename": "NameError",
     "evalue": "name 'plt' is not defined",
     "output_type": "error",
     "traceback": [
      "\u001b[1;31m---------------------------------------------------------------------------\u001b[0m",
      "\u001b[1;31mNameError\u001b[0m                                 Traceback (most recent call last)",
      "\u001b[1;32m<ipython-input-1-4d1ef128f1de>\u001b[0m in \u001b[0;36m<module>\u001b[1;34m\u001b[0m\n\u001b[1;32m----> 1\u001b[1;33m \u001b[0mf\u001b[0m\u001b[1;33m,\u001b[0m\u001b[0max\u001b[0m \u001b[1;33m=\u001b[0m \u001b[0mplt\u001b[0m\u001b[1;33m.\u001b[0m\u001b[0msubplots\u001b[0m\u001b[1;33m(\u001b[0m\u001b[1;36m1\u001b[0m\u001b[1;33m,\u001b[0m\u001b[1;36m1\u001b[0m\u001b[1;33m,\u001b[0m\u001b[0mfigsize\u001b[0m\u001b[1;33m=\u001b[0m\u001b[1;33m(\u001b[0m\u001b[1;36m8\u001b[0m\u001b[1;33m,\u001b[0m\u001b[1;36m8\u001b[0m\u001b[1;33m)\u001b[0m\u001b[1;33m)\u001b[0m\u001b[1;33m\u001b[0m\u001b[1;33m\u001b[0m\u001b[0m\n\u001b[0m\u001b[0;32m      2\u001b[0m \u001b[0mg\u001b[0m \u001b[1;33m=\u001b[0m \u001b[0msns\u001b[0m\u001b[1;33m.\u001b[0m\u001b[0mdistplot\u001b[0m\u001b[1;33m(\u001b[0m\u001b[0mdf_train\u001b[0m\u001b[1;33m[\u001b[0m\u001b[1;34m'700nm'\u001b[0m\u001b[1;33m]\u001b[0m\u001b[1;33m,\u001b[0m\u001b[0mcolor\u001b[0m\u001b[1;33m=\u001b[0m\u001b[1;34m'b'\u001b[0m\u001b[1;33m,\u001b[0m\u001b[0mlabel\u001b[0m\u001b[1;33m=\u001b[0m\u001b[1;34m'Skewness :{:.2f}'\u001b[0m\u001b[1;33m.\u001b[0m\u001b[0mformat\u001b[0m\u001b[1;33m(\u001b[0m\u001b[0mdf_train\u001b[0m\u001b[1;33m[\u001b[0m\u001b[1;34m'Fare'\u001b[0m\u001b[1;33m]\u001b[0m\u001b[1;33m.\u001b[0m\u001b[0mskew\u001b[0m\u001b[1;33m(\u001b[0m\u001b[1;33m)\u001b[0m\u001b[1;33m)\u001b[0m\u001b[1;33m,\u001b[0m\u001b[0max\u001b[0m\u001b[1;33m=\u001b[0m\u001b[0max\u001b[0m\u001b[1;33m)\u001b[0m\u001b[1;33m\u001b[0m\u001b[1;33m\u001b[0m\u001b[0m\n\u001b[0;32m      3\u001b[0m \u001b[0mg\u001b[0m \u001b[1;33m=\u001b[0m \u001b[0mg\u001b[0m\u001b[1;33m.\u001b[0m\u001b[0mlegend\u001b[0m\u001b[1;33m(\u001b[0m\u001b[0mloc\u001b[0m\u001b[1;33m=\u001b[0m\u001b[1;34m'best'\u001b[0m\u001b[1;33m)\u001b[0m\u001b[1;33m\u001b[0m\u001b[1;33m\u001b[0m\u001b[0m\n",
      "\u001b[1;31mNameError\u001b[0m: name 'plt' is not defined"
     ]
    }
   ],
   "source": [
    "f,ax = plt.subplots(1,1,figsize=(8,8))\n",
    "g = sns.distplot(df_train['700nm'],color='b',label='Skewness :{:.2f}'.format(df_train['Fare'].skew()),ax=ax)\n",
    "g = g.legend(loc='best')"
   ]
  },
  {
   "cell_type": "code",
   "execution_count": null,
   "metadata": {},
   "outputs": [],
   "source": [
    "'''\n",
    "2 : 700 ~ 900\n",
    "3 : 650 ~ 990\n",
    "4 : inf => 0\n",
    "'''"
   ]
  }
 ],
 "metadata": {
  "kernelspec": {
   "display_name": "Python 3",
   "language": "python",
   "name": "python3"
  },
  "language_info": {
   "codemirror_mode": {
    "name": "ipython",
    "version": 3
   },
   "file_extension": ".py",
   "mimetype": "text/x-python",
   "name": "python",
   "nbconvert_exporter": "python",
   "pygments_lexer": "ipython3",
   "version": "3.7.6"
  }
 },
 "nbformat": 4,
 "nbformat_minor": 4
}
