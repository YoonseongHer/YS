{
 "cells": [
  {
   "cell_type": "code",
   "execution_count": 70,
   "metadata": {},
   "outputs": [],
   "source": [
    "import numpy as np"
   ]
  },
  {
   "cell_type": "code",
   "execution_count": 71,
   "metadata": {},
   "outputs": [
    {
     "data": {
      "text/plain": [
       "array([ 0,  1,  2,  3,  4,  5,  6,  7,  8,  9, 10, 11, 12, 13, 14, 15, 16,\n",
       "       17, 18, 19, 20, 21, 22, 23, 24, 25, 26, 27, 28, 29, 30, 31, 32, 33,\n",
       "       34, 35, 36, 37, 38, 39, 40, 41, 42, 43, 44, 45, 46, 47, 48, 49, 50,\n",
       "       51, 52, 53, 54, 55, 56, 57, 58, 59, 60, 61, 62, 63, 64, 65, 66, 67,\n",
       "       68, 69, 70, 71, 72, 73, 74, 75, 76, 77, 78, 79, 80, 81, 82, 83, 84,\n",
       "       85, 86, 87, 88, 89, 90, 91, 92, 93, 94, 95, 96, 97, 98, 99])"
      ]
     },
     "execution_count": 71,
     "metadata": {},
     "output_type": "execute_result"
    }
   ],
   "source": [
    "my_arr = np.arange(100)\n",
    "my_arr"
   ]
  },
  {
   "cell_type": "code",
   "execution_count": 72,
   "metadata": {},
   "outputs": [
    {
     "data": {
      "text/plain": [
       "array([   0,    1,    4,    9,   16,   25,   36,   49,   64,   81,  100,\n",
       "        121,  144,  169,  196,  225,  256,  289,  324,  361,  400,  441,\n",
       "        484,  529,  576,  625,  676,  729,  784,  841,  900,  961, 1024,\n",
       "       1089, 1156, 1225, 1296, 1369, 1444, 1521, 1600, 1681, 1764, 1849,\n",
       "       1936, 2025, 2116, 2209, 2304, 2401, 2500, 2601, 2704, 2809, 2916,\n",
       "       3025, 3136, 3249, 3364, 3481, 3600, 3721, 3844, 3969, 4096, 4225,\n",
       "       4356, 4489, 4624, 4761, 4900, 5041, 5184, 5329, 5476, 5625, 5776,\n",
       "       5929, 6084, 6241, 6400, 6561, 6724, 6889, 7056, 7225, 7396, 7569,\n",
       "       7744, 7921, 8100, 8281, 8464, 8649, 8836, 9025, 9216, 9409, 9604,\n",
       "       9801], dtype=int32)"
      ]
     },
     "execution_count": 72,
     "metadata": {},
     "output_type": "execute_result"
    }
   ],
   "source": [
    "my_arr**2"
   ]
  },
  {
   "cell_type": "code",
   "execution_count": 73,
   "metadata": {},
   "outputs": [
    {
     "data": {
      "text/plain": [
       "array([[-2.53890667,  1.52313006, -0.60629801],\n",
       "       [-0.10094749, -0.98167324,  1.23374853]])"
      ]
     },
     "execution_count": 73,
     "metadata": {},
     "output_type": "execute_result"
    }
   ],
   "source": [
    "data = np.random.randn(2,3) #임의의 값을 갖는 2x3행렬\n",
    "data"
   ]
  },
  {
   "cell_type": "code",
   "execution_count": 74,
   "metadata": {},
   "outputs": [
    {
     "data": {
      "text/plain": [
       "array([[-25.38906671,  15.2313006 ,  -6.06298012],\n",
       "       [ -1.00947495,  -9.81673235,  12.33748529]])"
      ]
     },
     "execution_count": 74,
     "metadata": {},
     "output_type": "execute_result"
    }
   ],
   "source": [
    "data*10"
   ]
  },
  {
   "cell_type": "code",
   "execution_count": 75,
   "metadata": {},
   "outputs": [
    {
     "data": {
      "text/plain": [
       "array([[-5.07781334,  3.04626012, -1.21259602],\n",
       "       [-0.20189499, -1.96334647,  2.46749706]])"
      ]
     },
     "execution_count": 75,
     "metadata": {},
     "output_type": "execute_result"
    }
   ],
   "source": [
    "data+data"
   ]
  },
  {
   "cell_type": "code",
   "execution_count": 76,
   "metadata": {},
   "outputs": [
    {
     "data": {
      "text/plain": [
       "(2, 3)"
      ]
     },
     "execution_count": 76,
     "metadata": {},
     "output_type": "execute_result"
    }
   ],
   "source": [
    "data.shape"
   ]
  },
  {
   "cell_type": "code",
   "execution_count": 77,
   "metadata": {},
   "outputs": [
    {
     "data": {
      "text/plain": [
       "dtype('float64')"
      ]
     },
     "execution_count": 77,
     "metadata": {},
     "output_type": "execute_result"
    }
   ],
   "source": [
    "data.dtype"
   ]
  },
  {
   "cell_type": "code",
   "execution_count": 78,
   "metadata": {},
   "outputs": [
    {
     "data": {
      "text/plain": [
       "array([4. , 5. , 7.2, 3. , 1. ])"
      ]
     },
     "execution_count": 78,
     "metadata": {},
     "output_type": "execute_result"
    }
   ],
   "source": [
    "data1 = [4,5,7.2,3,1]\n",
    "arr1 = np.array(data1)\n",
    "arr1"
   ]
  },
  {
   "cell_type": "code",
   "execution_count": 79,
   "metadata": {},
   "outputs": [
    {
     "data": {
      "text/plain": [
       "array([[1, 2, 3, 4],\n",
       "       [5, 6, 7, 8]])"
      ]
     },
     "execution_count": 79,
     "metadata": {},
     "output_type": "execute_result"
    }
   ],
   "source": [
    "data2 = [[1,2,3,4],[5,6,7,8]]\n",
    "arr2 = np.array(data2)\n",
    "arr2 # 행렬이된다."
   ]
  },
  {
   "cell_type": "code",
   "execution_count": 80,
   "metadata": {},
   "outputs": [
    {
     "data": {
      "text/plain": [
       "(2, (2, 4))"
      ]
     },
     "execution_count": 80,
     "metadata": {},
     "output_type": "execute_result"
    }
   ],
   "source": [
    "arr2.ndim, arr2.shape # 차원, 구조"
   ]
  },
  {
   "cell_type": "code",
   "execution_count": 81,
   "metadata": {},
   "outputs": [
    {
     "data": {
      "text/plain": [
       "array([0., 0., 0., 0., 0., 0., 0., 0., 0., 0.])"
      ]
     },
     "execution_count": 81,
     "metadata": {},
     "output_type": "execute_result"
    }
   ],
   "source": [
    "np.zeros(10)"
   ]
  },
  {
   "cell_type": "code",
   "execution_count": 82,
   "metadata": {},
   "outputs": [
    {
     "data": {
      "text/plain": [
       "array([[0., 0., 0., 0.],\n",
       "       [0., 0., 0., 0.],\n",
       "       [0., 0., 0., 0.]])"
      ]
     },
     "execution_count": 82,
     "metadata": {},
     "output_type": "execute_result"
    }
   ],
   "source": [
    "np.zeros((3,4))"
   ]
  },
  {
   "cell_type": "code",
   "execution_count": 83,
   "metadata": {},
   "outputs": [
    {
     "data": {
      "text/plain": [
       "array([[1., 1., 1., 1.],\n",
       "       [1., 1., 1., 1.]])"
      ]
     },
     "execution_count": 83,
     "metadata": {},
     "output_type": "execute_result"
    }
   ],
   "source": [
    "np.ones((2,4))"
   ]
  },
  {
   "cell_type": "code",
   "execution_count": 84,
   "metadata": {},
   "outputs": [
    {
     "data": {
      "text/plain": [
       "array([8.21079937e-312, 0.00000000e+000, 6.78690052e+199])"
      ]
     },
     "execution_count": 84,
     "metadata": {},
     "output_type": "execute_result"
    }
   ],
   "source": [
    "np.empty(3) # 비어있는 값"
   ]
  },
  {
   "cell_type": "code",
   "execution_count": 85,
   "metadata": {},
   "outputs": [
    {
     "data": {
      "text/plain": [
       "array([3, 5, 7, 9])"
      ]
     },
     "execution_count": 85,
     "metadata": {},
     "output_type": "execute_result"
    }
   ],
   "source": [
    "np.arange(3,10,2) # range와 같은 사용법"
   ]
  },
  {
   "cell_type": "code",
   "execution_count": 86,
   "metadata": {},
   "outputs": [
    {
     "data": {
      "text/plain": [
       "(array([2, 3, 4]), array([5., 6., 7.]))"
      ]
     },
     "execution_count": 86,
     "metadata": {},
     "output_type": "execute_result"
    }
   ],
   "source": [
    "arr1 = np.array([2,3,4],dtype = np.int32)\n",
    "arr2 = np.array([5,6,7],dtype = np.float64)\n",
    "arr1,arr2"
   ]
  },
  {
   "cell_type": "code",
   "execution_count": 87,
   "metadata": {},
   "outputs": [
    {
     "data": {
      "text/plain": [
       "array([5, 6, 7])"
      ]
     },
     "execution_count": 87,
     "metadata": {},
     "output_type": "execute_result"
    }
   ],
   "source": [
    "# 자료형 변경\n",
    "arr2 = arr2.astype(np.int32)\n",
    "arr2"
   ]
  },
  {
   "cell_type": "code",
   "execution_count": 88,
   "metadata": {},
   "outputs": [
    {
     "data": {
      "text/plain": [
       "array([1, 3, 5], dtype=int8)"
      ]
     },
     "execution_count": 88,
     "metadata": {},
     "output_type": "execute_result"
    }
   ],
   "source": [
    "arr = np.array([1.2,3.4,5.6])\n",
    "arr = arr.astype(np.int8) # 소수점 버려짐\n",
    "arr"
   ]
  },
  {
   "cell_type": "code",
   "execution_count": 89,
   "metadata": {},
   "outputs": [
    {
     "data": {
      "text/plain": [
       "array([1., 4., 5.])"
      ]
     },
     "execution_count": 89,
     "metadata": {},
     "output_type": "execute_result"
    }
   ],
   "source": [
    "arr_str = np.array(['1','4','5'])\n",
    "arr_num = arr_str.astype(float)\n",
    "arr_num"
   ]
  },
  {
   "cell_type": "code",
   "execution_count": 90,
   "metadata": {},
   "outputs": [
    {
     "data": {
      "text/plain": [
       "array([[1, 2, 3],\n",
       "       [4, 5, 6]])"
      ]
     },
     "execution_count": 90,
     "metadata": {},
     "output_type": "execute_result"
    }
   ],
   "source": [
    "arr = np.array([[1,2,3],[4,5,6]])\n",
    "arr"
   ]
  },
  {
   "cell_type": "code",
   "execution_count": 91,
   "metadata": {},
   "outputs": [
    {
     "data": {
      "text/plain": [
       "array([[ 1,  4,  9],\n",
       "       [16, 25, 36]])"
      ]
     },
     "execution_count": 91,
     "metadata": {},
     "output_type": "execute_result"
    }
   ],
   "source": [
    "arr*arr"
   ]
  },
  {
   "cell_type": "code",
   "execution_count": 92,
   "metadata": {},
   "outputs": [
    {
     "data": {
      "text/plain": [
       "array([[0, 0, 0],\n",
       "       [0, 0, 0]])"
      ]
     },
     "execution_count": 92,
     "metadata": {},
     "output_type": "execute_result"
    }
   ],
   "source": [
    "arr-arr"
   ]
  },
  {
   "cell_type": "code",
   "execution_count": 93,
   "metadata": {},
   "outputs": [
    {
     "data": {
      "text/plain": [
       "array([[1.        , 0.5       , 0.33333333],\n",
       "       [0.25      , 0.2       , 0.16666667]])"
      ]
     },
     "execution_count": 93,
     "metadata": {},
     "output_type": "execute_result"
    }
   ],
   "source": [
    "1/arr"
   ]
  },
  {
   "cell_type": "code",
   "execution_count": 94,
   "metadata": {},
   "outputs": [
    {
     "data": {
      "text/plain": [
       "array([[9, 4, 1],\n",
       "       [3, 7, 5]])"
      ]
     },
     "execution_count": 94,
     "metadata": {},
     "output_type": "execute_result"
    }
   ],
   "source": [
    "arr2 = np.array([[9,4,1],[3,7,5]])\n",
    "arr2"
   ]
  },
  {
   "cell_type": "code",
   "execution_count": 95,
   "metadata": {},
   "outputs": [
    {
     "data": {
      "text/plain": [
       "array([[False, False,  True],\n",
       "       [ True, False,  True]])"
      ]
     },
     "execution_count": 95,
     "metadata": {},
     "output_type": "execute_result"
    }
   ],
   "source": [
    "arr > arr2"
   ]
  },
  {
   "cell_type": "code",
   "execution_count": 96,
   "metadata": {},
   "outputs": [
    {
     "data": {
      "text/plain": [
       "array([0, 1, 2, 3, 4, 5, 6, 7, 8, 9])"
      ]
     },
     "execution_count": 96,
     "metadata": {},
     "output_type": "execute_result"
    }
   ],
   "source": [
    "arr = np.arange(10)\n",
    "arr"
   ]
  },
  {
   "cell_type": "code",
   "execution_count": 97,
   "metadata": {},
   "outputs": [
    {
     "data": {
      "text/plain": [
       "5"
      ]
     },
     "execution_count": 97,
     "metadata": {},
     "output_type": "execute_result"
    }
   ],
   "source": [
    "arr[5]"
   ]
  },
  {
   "cell_type": "code",
   "execution_count": 98,
   "metadata": {},
   "outputs": [
    {
     "data": {
      "text/plain": [
       "array([5, 6, 7, 8, 9])"
      ]
     },
     "execution_count": 98,
     "metadata": {},
     "output_type": "execute_result"
    }
   ],
   "source": [
    "arr[5:]"
   ]
  },
  {
   "cell_type": "code",
   "execution_count": 99,
   "metadata": {},
   "outputs": [
    {
     "data": {
      "text/plain": [
       "array([0, 1, 2, 3, 4, 5, 6, 7, 8, 9])"
      ]
     },
     "execution_count": 99,
     "metadata": {},
     "output_type": "execute_result"
    }
   ],
   "source": [
    "# 스플라이싱으로 복사가 아닌 뷰가 생성된다.\n",
    "arr.copy()"
   ]
  },
  {
   "cell_type": "code",
   "execution_count": 100,
   "metadata": {},
   "outputs": [
    {
     "data": {
      "text/plain": [
       "array([[1, 2, 3],\n",
       "       [4, 5, 6],\n",
       "       [7, 8, 9]])"
      ]
     },
     "execution_count": 100,
     "metadata": {},
     "output_type": "execute_result"
    }
   ],
   "source": [
    "arr_2d = np.array([[1,2,3],[4,5,6],[7,8,9]])\n",
    "arr_2d"
   ]
  },
  {
   "cell_type": "code",
   "execution_count": 101,
   "metadata": {},
   "outputs": [
    {
     "data": {
      "text/plain": [
       "9"
      ]
     },
     "execution_count": 101,
     "metadata": {},
     "output_type": "execute_result"
    }
   ],
   "source": [
    "arr_2d[2,2]"
   ]
  },
  {
   "cell_type": "code",
   "execution_count": 102,
   "metadata": {},
   "outputs": [
    {
     "data": {
      "text/plain": [
       "array([[4, 5],\n",
       "       [7, 8]])"
      ]
     },
     "execution_count": 102,
     "metadata": {},
     "output_type": "execute_result"
    }
   ],
   "source": [
    "arr_2d[1:,:2]"
   ]
  },
  {
   "cell_type": "code",
   "execution_count": 103,
   "metadata": {
    "scrolled": true
   },
   "outputs": [
    {
     "data": {
      "text/plain": [
       "array([[False, False,  True],\n",
       "       [False, False, False],\n",
       "       [False, False, False]])"
      ]
     },
     "execution_count": 103,
     "metadata": {},
     "output_type": "execute_result"
    }
   ],
   "source": [
    "arr_2d == 3 "
   ]
  },
  {
   "cell_type": "markdown",
   "metadata": {},
   "source": [
    "## 팬시 색인\n",
    "\n",
    " - 복제된다."
   ]
  },
  {
   "cell_type": "code",
   "execution_count": 104,
   "metadata": {},
   "outputs": [
    {
     "data": {
      "text/plain": [
       "array([[0., 0., 0., 0.],\n",
       "       [1., 1., 1., 1.],\n",
       "       [2., 2., 2., 2.],\n",
       "       [3., 3., 3., 3.],\n",
       "       [4., 4., 4., 4.],\n",
       "       [5., 5., 5., 5.],\n",
       "       [6., 6., 6., 6.],\n",
       "       [7., 7., 7., 7.]])"
      ]
     },
     "execution_count": 104,
     "metadata": {},
     "output_type": "execute_result"
    }
   ],
   "source": [
    "arr=np.empty((8,4))\n",
    "\n",
    "for i in range(8):\n",
    "    arr[i] = i\n",
    "\n",
    "arr"
   ]
  },
  {
   "cell_type": "code",
   "execution_count": 105,
   "metadata": {},
   "outputs": [
    {
     "data": {
      "text/plain": [
       "array([[4., 4., 4., 4.],\n",
       "       [5., 5., 5., 5.],\n",
       "       [0., 0., 0., 0.],\n",
       "       [7., 7., 7., 7.]])"
      ]
     },
     "execution_count": 105,
     "metadata": {},
     "output_type": "execute_result"
    }
   ],
   "source": [
    "arr[[4,5,0,7]]"
   ]
  },
  {
   "cell_type": "code",
   "execution_count": 106,
   "metadata": {
    "scrolled": true
   },
   "outputs": [
    {
     "data": {
      "text/plain": [
       "array([[ 0,  1,  2,  3],\n",
       "       [ 4,  5,  6,  7],\n",
       "       [ 8,  9, 10, 11],\n",
       "       [12, 13, 14, 15],\n",
       "       [16, 17, 18, 19],\n",
       "       [20, 21, 22, 23],\n",
       "       [24, 25, 26, 27],\n",
       "       [28, 29, 30, 31]])"
      ]
     },
     "execution_count": 106,
     "metadata": {},
     "output_type": "execute_result"
    }
   ],
   "source": [
    "arr = np.arange(32).reshape((8,4))\n",
    "arr"
   ]
  },
  {
   "cell_type": "markdown",
   "metadata": {},
   "source": [
    "### 배열 전치와 축 바꾸기"
   ]
  },
  {
   "cell_type": "code",
   "execution_count": 107,
   "metadata": {},
   "outputs": [
    {
     "data": {
      "text/plain": [
       "array([ 4, 19, 21])"
      ]
     },
     "execution_count": 107,
     "metadata": {},
     "output_type": "execute_result"
    }
   ],
   "source": [
    "arr[[1,4,5],[0,3,1]]"
   ]
  },
  {
   "cell_type": "code",
   "execution_count": 108,
   "metadata": {},
   "outputs": [
    {
     "data": {
      "text/plain": [
       "(array([[ 0,  1,  2,  3],\n",
       "        [ 4,  5,  6,  7],\n",
       "        [ 8,  9, 10, 11],\n",
       "        [12, 13, 14, 15],\n",
       "        [16, 17, 18, 19],\n",
       "        [20, 21, 22, 23],\n",
       "        [24, 25, 26, 27],\n",
       "        [28, 29, 30, 31]]),\n",
       " array([[ 0,  4,  8, 12, 16, 20, 24, 28],\n",
       "        [ 1,  5,  9, 13, 17, 21, 25, 29],\n",
       "        [ 2,  6, 10, 14, 18, 22, 26, 30],\n",
       "        [ 3,  7, 11, 15, 19, 23, 27, 31]]))"
      ]
     },
     "execution_count": 108,
     "metadata": {},
     "output_type": "execute_result"
    }
   ],
   "source": [
    "arr,arr.T"
   ]
  },
  {
   "cell_type": "code",
   "execution_count": 109,
   "metadata": {},
   "outputs": [
    {
     "data": {
      "text/plain": [
       "array([[2240, 2352, 2464, 2576],\n",
       "       [2352, 2472, 2592, 2712],\n",
       "       [2464, 2592, 2720, 2848],\n",
       "       [2576, 2712, 2848, 2984]])"
      ]
     },
     "execution_count": 109,
     "metadata": {},
     "output_type": "execute_result"
    }
   ],
   "source": [
    "np.dot(arr.T,arr) # 행렬의 곱 연산"
   ]
  },
  {
   "cell_type": "code",
   "execution_count": 111,
   "metadata": {},
   "outputs": [
    {
     "data": {
      "text/plain": [
       "array([[ 0,  4,  8, 12, 16, 20, 24, 28],\n",
       "       [ 1,  5,  9, 13, 17, 21, 25, 29],\n",
       "       [ 2,  6, 10, 14, 18, 22, 26, 30],\n",
       "       [ 3,  7, 11, 15, 19, 23, 27, 31]])"
      ]
     },
     "execution_count": 111,
     "metadata": {},
     "output_type": "execute_result"
    }
   ],
   "source": [
    "arr.T # 전치행렬"
   ]
  },
  {
   "cell_type": "code",
   "execution_count": 114,
   "metadata": {},
   "outputs": [
    {
     "data": {
      "text/plain": [
       "array([[[ 0,  1,  2,  3],\n",
       "        [ 4,  5,  6,  7]],\n",
       "\n",
       "       [[ 8,  9, 10, 11],\n",
       "        [12, 13, 14, 15]]])"
      ]
     },
     "execution_count": 114,
     "metadata": {},
     "output_type": "execute_result"
    }
   ],
   "source": [
    "arr = np.arange(16).reshape((2,2,4))\n",
    "arr"
   ]
  },
  {
   "cell_type": "code",
   "execution_count": 118,
   "metadata": {},
   "outputs": [
    {
     "data": {
      "text/plain": [
       "array([[[ 0,  1,  2,  3],\n",
       "        [ 8,  9, 10, 11]],\n",
       "\n",
       "       [[ 4,  5,  6,  7],\n",
       "        [12, 13, 14, 15]]])"
      ]
     },
     "execution_count": 118,
     "metadata": {},
     "output_type": "execute_result"
    }
   ],
   "source": [
    "arr.transpose((1,0,2)) # index를 이용하여 원하는 모양으로 변경"
   ]
  },
  {
   "cell_type": "code",
   "execution_count": 120,
   "metadata": {},
   "outputs": [
    {
     "data": {
      "text/plain": [
       "array([[ 2,  4,  6],\n",
       "       [ 4,  8, 12],\n",
       "       [ 6, 12, 18]])"
      ]
     },
     "execution_count": 120,
     "metadata": {},
     "output_type": "execute_result"
    }
   ],
   "source": [
    "a = np.array([[1,2,3],[1,2,3]])\n",
    "b = np.array([[1,1],[2,2],[3,3]])\n",
    "\n",
    "np.dot(b,a)"
   ]
  },
  {
   "cell_type": "code",
   "execution_count": 121,
   "metadata": {},
   "outputs": [
    {
     "data": {
      "text/plain": [
       "array([[[ 0,  4],\n",
       "        [ 1,  5],\n",
       "        [ 2,  6],\n",
       "        [ 3,  7]],\n",
       "\n",
       "       [[ 8, 12],\n",
       "        [ 9, 13],\n",
       "        [10, 14],\n",
       "        [11, 15]]])"
      ]
     },
     "execution_count": 121,
     "metadata": {},
     "output_type": "execute_result"
    }
   ],
   "source": [
    "arr.swapaxes(1,2) # 2개의 축을 입력받아 바꾼다(둘을 바꿈)"
   ]
  },
  {
   "cell_type": "markdown",
   "metadata": {},
   "source": [
    "### 유니버셜 함수\n",
    "\n",
    "- 각 원소를 빠르게 처리"
   ]
  },
  {
   "cell_type": "code",
   "execution_count": 122,
   "metadata": {},
   "outputs": [
    {
     "data": {
      "text/plain": [
       "array([0, 1, 2, 3, 4, 5, 6, 7, 8, 9])"
      ]
     },
     "execution_count": 122,
     "metadata": {},
     "output_type": "execute_result"
    }
   ],
   "source": [
    "arr = np.arange(10)\n",
    "arr"
   ]
  },
  {
   "cell_type": "code",
   "execution_count": 123,
   "metadata": {},
   "outputs": [
    {
     "data": {
      "text/plain": [
       "array([0.        , 1.        , 1.41421356, 1.73205081, 2.        ,\n",
       "       2.23606798, 2.44948974, 2.64575131, 2.82842712, 3.        ])"
      ]
     },
     "execution_count": 123,
     "metadata": {},
     "output_type": "execute_result"
    }
   ],
   "source": [
    "np.sqrt(arr) # 루트"
   ]
  },
  {
   "cell_type": "code",
   "execution_count": 124,
   "metadata": {},
   "outputs": [
    {
     "data": {
      "text/plain": [
       "array([1.00000000e+00, 2.71828183e+00, 7.38905610e+00, 2.00855369e+01,\n",
       "       5.45981500e+01, 1.48413159e+02, 4.03428793e+02, 1.09663316e+03,\n",
       "       2.98095799e+03, 8.10308393e+03])"
      ]
     },
     "execution_count": 124,
     "metadata": {},
     "output_type": "execute_result"
    }
   ],
   "source": [
    "np.exp(arr) # e^x"
   ]
  },
  {
   "cell_type": "code",
   "execution_count": 125,
   "metadata": {},
   "outputs": [
    {
     "data": {
      "text/plain": [
       "(array([-0.0191359 ,  1.64431887, -1.58934008,  0.4949318 , -0.46710701,\n",
       "        -0.84060573,  0.20317028,  0.3748081 ]),\n",
       " array([ 5.77090118e-01,  1.08577689e+00,  3.12950936e-01,  3.09667773e-04,\n",
       "         1.98351664e-01, -6.67419321e-01,  3.29702061e-01,  6.28460074e-01]))"
      ]
     },
     "execution_count": 125,
     "metadata": {},
     "output_type": "execute_result"
    }
   ],
   "source": [
    "x = np.random.randn(8)\n",
    "y = np.random.randn(8)\n",
    "\n",
    "x,y"
   ]
  },
  {
   "cell_type": "code",
   "execution_count": 126,
   "metadata": {},
   "outputs": [
    {
     "data": {
      "text/plain": [
       "array([ 0.57709012,  1.64431887,  0.31295094,  0.4949318 ,  0.19835166,\n",
       "       -0.66741932,  0.32970206,  0.62846007])"
      ]
     },
     "execution_count": 126,
     "metadata": {},
     "output_type": "execute_result"
    }
   ],
   "source": [
    "np.maximum(x,y) # 비교해서 큰것만 남긴다."
   ]
  },
  {
   "cell_type": "code",
   "execution_count": 127,
   "metadata": {},
   "outputs": [
    {
     "data": {
      "text/plain": [
       "array([  2.67556593,   0.62588607,   4.53205055,   4.15777665,\n",
       "        -7.33563911,  -0.5371883 , -10.33185717])"
      ]
     },
     "execution_count": 127,
     "metadata": {},
     "output_type": "execute_result"
    }
   ],
   "source": [
    "arr = np.random.randn(7)*5\n",
    "arr"
   ]
  },
  {
   "cell_type": "code",
   "execution_count": 129,
   "metadata": {},
   "outputs": [
    {
     "data": {
      "text/plain": [
       "(array([ 0.67556593,  0.62588607,  0.53205055,  0.15777665, -0.33563911,\n",
       "        -0.5371883 , -0.33185717]),\n",
       " array([  2.,   0.,   4.,   4.,  -7.,  -0., -10.]))"
      ]
     },
     "execution_count": 129,
     "metadata": {},
     "output_type": "execute_result"
    }
   ],
   "source": [
    "remainder, whole_part = np.modf(arr) # 나머지와 몫을 반환\n",
    "remainder,whole_part"
   ]
  },
  {
   "cell_type": "code",
   "execution_count": 130,
   "metadata": {},
   "outputs": [
    {
     "data": {
      "text/plain": [
       "array([  2.67556593,   0.62588607,   4.53205055,   4.15777665,\n",
       "        -7.33563911,  -0.5371883 , -10.33185717])"
      ]
     },
     "execution_count": 130,
     "metadata": {},
     "output_type": "execute_result"
    }
   ],
   "source": [
    "arr"
   ]
  },
  {
   "cell_type": "code",
   "execution_count": 132,
   "metadata": {},
   "outputs": [
    {
     "name": "stderr",
     "output_type": "stream",
     "text": [
      "C:\\Users\\Playdata\\anaconda3\\lib\\site-packages\\ipykernel_launcher.py:1: RuntimeWarning: invalid value encountered in sqrt\n",
      "  \"\"\"Entry point for launching an IPython kernel.\n"
     ]
    },
    {
     "data": {
      "text/plain": [
       "array([1.63571572, 0.79112962, 2.12886133, 2.03906269,        nan,\n",
       "              nan,        nan])"
      ]
     },
     "execution_count": 132,
     "metadata": {},
     "output_type": "execute_result"
    }
   ],
   "source": [
    "np.sqrt(arr,arr)"
   ]
  },
  {
   "cell_type": "code",
   "execution_count": 133,
   "metadata": {},
   "outputs": [
    {
     "data": {
      "text/plain": [
       "array([1.63571572, 0.79112962, 2.12886133, 2.03906269,        nan,\n",
       "              nan,        nan])"
      ]
     },
     "execution_count": 133,
     "metadata": {},
     "output_type": "execute_result"
    }
   ],
   "source": [
    "arr"
   ]
  },
  {
   "cell_type": "markdown",
   "metadata": {},
   "source": [
    "### 배열을 이용한 배열지향 프로그래밍"
   ]
  },
  {
   "cell_type": "code",
   "execution_count": 135,
   "metadata": {},
   "outputs": [
    {
     "data": {
      "text/plain": [
       "(array([[-5, -4, -3, -2, -1,  0,  1,  2,  3,  4],\n",
       "        [-5, -4, -3, -2, -1,  0,  1,  2,  3,  4],\n",
       "        [-5, -4, -3, -2, -1,  0,  1,  2,  3,  4],\n",
       "        [-5, -4, -3, -2, -1,  0,  1,  2,  3,  4],\n",
       "        [-5, -4, -3, -2, -1,  0,  1,  2,  3,  4],\n",
       "        [-5, -4, -3, -2, -1,  0,  1,  2,  3,  4],\n",
       "        [-5, -4, -3, -2, -1,  0,  1,  2,  3,  4],\n",
       "        [-5, -4, -3, -2, -1,  0,  1,  2,  3,  4],\n",
       "        [-5, -4, -3, -2, -1,  0,  1,  2,  3,  4],\n",
       "        [-5, -4, -3, -2, -1,  0,  1,  2,  3,  4]]),\n",
       " array([[-5, -5, -5, -5, -5, -5, -5, -5, -5, -5],\n",
       "        [-4, -4, -4, -4, -4, -4, -4, -4, -4, -4],\n",
       "        [-3, -3, -3, -3, -3, -3, -3, -3, -3, -3],\n",
       "        [-2, -2, -2, -2, -2, -2, -2, -2, -2, -2],\n",
       "        [-1, -1, -1, -1, -1, -1, -1, -1, -1, -1],\n",
       "        [ 0,  0,  0,  0,  0,  0,  0,  0,  0,  0],\n",
       "        [ 1,  1,  1,  1,  1,  1,  1,  1,  1,  1],\n",
       "        [ 2,  2,  2,  2,  2,  2,  2,  2,  2,  2],\n",
       "        [ 3,  3,  3,  3,  3,  3,  3,  3,  3,  3],\n",
       "        [ 4,  4,  4,  4,  4,  4,  4,  4,  4,  4]]))"
      ]
     },
     "execution_count": 135,
     "metadata": {},
     "output_type": "execute_result"
    }
   ],
   "source": [
    "points = np.arange(-5,5,1)\n",
    "\n",
    "xs, ys = np.meshgrid(points,points) # 1차원 베열 2개에서 서로 매칭될 수 있는 (x,y)의 모든 경우의 수를 위해 2개의 2차원 배열을 만들어준다.\n",
    "xs,ys"
   ]
  },
  {
   "cell_type": "code",
   "execution_count": 137,
   "metadata": {},
   "outputs": [
    {
     "data": {
      "text/plain": [
       "array([[7.07106781, 6.40312424, 5.83095189, 5.38516481, 5.09901951,\n",
       "        5.        , 5.09901951, 5.38516481, 5.83095189, 6.40312424],\n",
       "       [6.40312424, 5.65685425, 5.        , 4.47213595, 4.12310563,\n",
       "        4.        , 4.12310563, 4.47213595, 5.        , 5.65685425],\n",
       "       [5.83095189, 5.        , 4.24264069, 3.60555128, 3.16227766,\n",
       "        3.        , 3.16227766, 3.60555128, 4.24264069, 5.        ],\n",
       "       [5.38516481, 4.47213595, 3.60555128, 2.82842712, 2.23606798,\n",
       "        2.        , 2.23606798, 2.82842712, 3.60555128, 4.47213595],\n",
       "       [5.09901951, 4.12310563, 3.16227766, 2.23606798, 1.41421356,\n",
       "        1.        , 1.41421356, 2.23606798, 3.16227766, 4.12310563],\n",
       "       [5.        , 4.        , 3.        , 2.        , 1.        ,\n",
       "        0.        , 1.        , 2.        , 3.        , 4.        ],\n",
       "       [5.09901951, 4.12310563, 3.16227766, 2.23606798, 1.41421356,\n",
       "        1.        , 1.41421356, 2.23606798, 3.16227766, 4.12310563],\n",
       "       [5.38516481, 4.47213595, 3.60555128, 2.82842712, 2.23606798,\n",
       "        2.        , 2.23606798, 2.82842712, 3.60555128, 4.47213595],\n",
       "       [5.83095189, 5.        , 4.24264069, 3.60555128, 3.16227766,\n",
       "        3.        , 3.16227766, 3.60555128, 4.24264069, 5.        ],\n",
       "       [6.40312424, 5.65685425, 5.        , 4.47213595, 4.12310563,\n",
       "        4.        , 4.12310563, 4.47213595, 5.        , 5.65685425]])"
      ]
     },
     "execution_count": 137,
     "metadata": {},
     "output_type": "execute_result"
    }
   ],
   "source": [
    "z = np.sqrt(xs**2 + ys**2)\n",
    "z"
   ]
  },
  {
   "cell_type": "code",
   "execution_count": 138,
   "metadata": {},
   "outputs": [],
   "source": [
    "import matplotlib.pyplot as plt"
   ]
  },
  {
   "cell_type": "code",
   "execution_count": 139,
   "metadata": {},
   "outputs": [
    {
     "data": {
      "text/plain": [
       "<matplotlib.colorbar.Colorbar at 0x182f62ebfc8>"
      ]
     },
     "execution_count": 139,
     "metadata": {},
     "output_type": "execute_result"
    },
    {
     "data": {
      "image/png": "[encoded data removed]",
      "text/plain": [
       "<Figure size 432x288 with 2 Axes>"
      ]
     },
     "metadata": {
      "needs_background": "light"
     },
     "output_type": "display_data"
    }
   ],
   "source": [
    "plt.imshow(z, cmap=plt.cm.gray)\n",
    "plt.colorbar()"
   ]
  },
  {
   "cell_type": "markdown",
   "metadata": {},
   "source": [
    "### 배열 연산으로 조건절 표현하기"
   ]
  },
  {
   "cell_type": "code",
   "execution_count": 140,
   "metadata": {},
   "outputs": [],
   "source": [
    "xarr = np.array([1.1,1.2,1.3,1.4,1.5])\n",
    "yarr = np.array([2.1,2.2,2.3,2.4,2.5])\n",
    "cond = np.array([True,False,True,True,False])"
   ]
  },
  {
   "cell_type": "code",
   "execution_count": 142,
   "metadata": {},
   "outputs": [
    {
     "data": {
      "text/plain": [
       "[1.1, 2.2, 1.3, 1.4, 2.5]"
      ]
     },
     "execution_count": 142,
     "metadata": {},
     "output_type": "execute_result"
    }
   ],
   "source": [
    "result = [x if c else y for x,y,c in zip(xarr,yarr,cond)] \n",
    "result"
   ]
  },
  {
   "cell_type": "code",
   "execution_count": 144,
   "metadata": {},
   "outputs": [
    {
     "data": {
      "text/plain": [
       "array([1.1, 2.2, 1.3, 1.4, 2.5])"
      ]
     },
     "execution_count": 144,
     "metadata": {},
     "output_type": "execute_result"
    }
   ],
   "source": [
    "result = np.where(cond,xarr,yarr) # 위와 같은 함수지만 빠르다\n",
    "result"
   ]
  },
  {
   "cell_type": "code",
   "execution_count": 146,
   "metadata": {},
   "outputs": [
    {
     "data": {
      "text/plain": [
       "array([[ 1.23861135,  0.67528834,  0.17905521,  0.08846228],\n",
       "       [ 1.85002644, -0.66693879, -0.68625561, -1.01598711],\n",
       "       [-0.47093989, -0.12323967,  0.12923282,  0.883785  ],\n",
       "       [-1.07768144,  0.61150448,  2.08162251,  1.38386306]])"
      ]
     },
     "execution_count": 146,
     "metadata": {},
     "output_type": "execute_result"
    }
   ],
   "source": [
    "arr = np.random.randn(4,4)\n",
    "arr"
   ]
  },
  {
   "cell_type": "code",
   "execution_count": 147,
   "metadata": {},
   "outputs": [
    {
     "data": {
      "text/plain": [
       "array([[ True,  True,  True,  True],\n",
       "       [ True, False, False, False],\n",
       "       [False, False,  True,  True],\n",
       "       [False,  True,  True,  True]])"
      ]
     },
     "execution_count": 147,
     "metadata": {},
     "output_type": "execute_result"
    }
   ],
   "source": [
    "arr>0"
   ]
  },
  {
   "cell_type": "code",
   "execution_count": 148,
   "metadata": {},
   "outputs": [
    {
     "data": {
      "text/plain": [
       "array([[ 2,  2,  2,  2],\n",
       "       [ 2, -2, -2, -2],\n",
       "       [-2, -2,  2,  2],\n",
       "       [-2,  2,  2,  2]])"
      ]
     },
     "execution_count": 148,
     "metadata": {},
     "output_type": "execute_result"
    }
   ],
   "source": [
    "np.where(arr>0,2,-2)"
   ]
  },
  {
   "cell_type": "code",
   "execution_count": 149,
   "metadata": {},
   "outputs": [
    {
     "data": {
      "text/plain": [
       "array([[ 2.        ,  2.        ,  2.        ,  2.        ],\n",
       "       [ 2.        , -0.66693879, -0.68625561, -1.01598711],\n",
       "       [-0.47093989, -0.12323967,  2.        ,  2.        ],\n",
       "       [-1.07768144,  2.        ,  2.        ,  2.        ]])"
      ]
     },
     "execution_count": 149,
     "metadata": {},
     "output_type": "execute_result"
    }
   ],
   "source": [
    "np.where(arr>0,2,arr)"
   ]
  },
  {
   "cell_type": "markdown",
   "metadata": {},
   "source": [
    "### 수학, 통계"
   ]
  },
  {
   "cell_type": "code",
   "execution_count": 167,
   "metadata": {
    "scrolled": true
   },
   "outputs": [
    {
     "data": {
      "text/plain": [
       "array([[-0.79011351,  0.58339836, -0.65600474, -1.46593251],\n",
       "       [ 0.76081983, -1.39300544,  0.45340609, -0.59015492],\n",
       "       [-1.04554923, -1.01484302, -0.14106064,  2.02316753],\n",
       "       [-0.56750412, -2.22818004, -0.34016026,  1.74987608],\n",
       "       [ 1.66078493, -0.5677753 ,  0.32510811,  0.16006934]])"
      ]
     },
     "execution_count": 167,
     "metadata": {},
     "output_type": "execute_result"
    }
   ],
   "source": [
    "arr = np.random.randn(5,4)\n",
    "arr"
   ]
  },
  {
   "cell_type": "code",
   "execution_count": 168,
   "metadata": {},
   "outputs": [
    {
     "data": {
      "text/plain": [
       "-0.15418267253540557"
      ]
     },
     "execution_count": 168,
     "metadata": {},
     "output_type": "execute_result"
    }
   ],
   "source": [
    "arr.mean()"
   ]
  },
  {
   "cell_type": "code",
   "execution_count": 169,
   "metadata": {},
   "outputs": [
    {
     "data": {
      "text/plain": [
       "-0.15418267253540557"
      ]
     },
     "execution_count": 169,
     "metadata": {},
     "output_type": "execute_result"
    }
   ],
   "source": [
    "np.mean(arr)"
   ]
  },
  {
   "cell_type": "code",
   "execution_count": 170,
   "metadata": {},
   "outputs": [
    {
     "data": {
      "text/plain": [
       "-3.0836534507081117"
      ]
     },
     "execution_count": 170,
     "metadata": {},
     "output_type": "execute_result"
    }
   ],
   "source": [
    "arr.sum()"
   ]
  },
  {
   "cell_type": "code",
   "execution_count": 171,
   "metadata": {
    "scrolled": true
   },
   "outputs": [
    {
     "data": {
      "text/plain": [
       "array([-0.5821631 , -0.19223361, -0.04457134, -0.34649208,  0.39454677])"
      ]
     },
     "execution_count": 171,
     "metadata": {},
     "output_type": "execute_result"
    }
   ],
   "source": [
    "arr.mean(axis=1) # 행 단위"
   ]
  },
  {
   "cell_type": "code",
   "execution_count": 172,
   "metadata": {},
   "outputs": [
    {
     "data": {
      "text/plain": [
       "array([-0.5821631 , -0.19223361, -0.04457134, -0.34649208,  0.39454677])"
      ]
     },
     "execution_count": 172,
     "metadata": {},
     "output_type": "execute_result"
    }
   ],
   "source": [
    "arr.mean(1)"
   ]
  },
  {
   "cell_type": "code",
   "execution_count": 161,
   "metadata": {},
   "outputs": [
    {
     "data": {
      "text/plain": [
       "array([ 0.25374705,  0.37828891,  0.24170477, -0.53921888])"
      ]
     },
     "execution_count": 161,
     "metadata": {},
     "output_type": "execute_result"
    }
   ],
   "source": [
    "arr.mean(axis=0) # 열 단위"
   ]
  },
  {
   "cell_type": "code",
   "execution_count": 173,
   "metadata": {},
   "outputs": [
    {
     "data": {
      "text/plain": [
       "array([0, 1, 2, 3, 4, 5, 6, 7])"
      ]
     },
     "execution_count": 173,
     "metadata": {},
     "output_type": "execute_result"
    }
   ],
   "source": [
    "arr = np.array(np.arange(8))\n",
    "arr"
   ]
  },
  {
   "cell_type": "code",
   "execution_count": 174,
   "metadata": {
    "scrolled": true
   },
   "outputs": [
    {
     "data": {
      "text/plain": [
       "array([ 0,  1,  3,  6, 10, 15, 21, 28], dtype=int32)"
      ]
     },
     "execution_count": 174,
     "metadata": {},
     "output_type": "execute_result"
    }
   ],
   "source": [
    "arr.cumsum() #누적합"
   ]
  },
  {
   "cell_type": "code",
   "execution_count": 178,
   "metadata": {},
   "outputs": [
    {
     "data": {
      "text/plain": [
       "array([[0, 1, 2],\n",
       "       [3, 4, 5],\n",
       "       [6, 7, 8]])"
      ]
     },
     "execution_count": 178,
     "metadata": {},
     "output_type": "execute_result"
    }
   ],
   "source": [
    "arr = np.array(np.arange(9)).reshape((3,3))\n",
    "arr"
   ]
  },
  {
   "cell_type": "code",
   "execution_count": 179,
   "metadata": {},
   "outputs": [
    {
     "data": {
      "text/plain": [
       "array([[ 0,  1,  2],\n",
       "       [ 3,  5,  7],\n",
       "       [ 9, 12, 15]], dtype=int32)"
      ]
     },
     "execution_count": 179,
     "metadata": {},
     "output_type": "execute_result"
    }
   ],
   "source": [
    "arr.cumsum(axis = 0)"
   ]
  },
  {
   "cell_type": "code",
   "execution_count": 180,
   "metadata": {},
   "outputs": [
    {
     "data": {
      "text/plain": [
       "array([[  0,   0,   0],\n",
       "       [  3,  12,  60],\n",
       "       [  6,  42, 336]], dtype=int32)"
      ]
     },
     "execution_count": 180,
     "metadata": {},
     "output_type": "execute_result"
    }
   ],
   "source": [
    "arr.cumprod(axis=1)"
   ]
  },
  {
   "cell_type": "markdown",
   "metadata": {},
   "source": [
    "### bool 배열 메서드"
   ]
  },
  {
   "cell_type": "code",
   "execution_count": 182,
   "metadata": {},
   "outputs": [
    {
     "data": {
      "text/plain": [
       "59"
      ]
     },
     "execution_count": 182,
     "metadata": {},
     "output_type": "execute_result"
    }
   ],
   "source": [
    "arr = np.random.randn(100)\n",
    "(arr>0).sum() # 양수의 합 True =1, False=0"
   ]
  },
  {
   "cell_type": "code",
   "execution_count": 183,
   "metadata": {},
   "outputs": [],
   "source": [
    "bools = np.array([False, False, True, True])"
   ]
  },
  {
   "cell_type": "code",
   "execution_count": 184,
   "metadata": {},
   "outputs": [
    {
     "data": {
      "text/plain": [
       "True"
      ]
     },
     "execution_count": 184,
     "metadata": {},
     "output_type": "execute_result"
    }
   ],
   "source": [
    "bools.any()"
   ]
  },
  {
   "cell_type": "code",
   "execution_count": 185,
   "metadata": {},
   "outputs": [
    {
     "data": {
      "text/plain": [
       "False"
      ]
     },
     "execution_count": 185,
     "metadata": {},
     "output_type": "execute_result"
    }
   ],
   "source": [
    "bools.all()"
   ]
  },
  {
   "cell_type": "markdown",
   "metadata": {},
   "source": [
    "### 정렬"
   ]
  },
  {
   "cell_type": "code",
   "execution_count": 191,
   "metadata": {},
   "outputs": [
    {
     "data": {
      "text/plain": [
       "array([-0.60200214, -2.06761563,  1.00895925,  0.6605587 , -0.84169877,\n",
       "       -0.4000787 ])"
      ]
     },
     "execution_count": 191,
     "metadata": {},
     "output_type": "execute_result"
    }
   ],
   "source": [
    "arr = np.random.randn(6)\n",
    "arr"
   ]
  },
  {
   "cell_type": "code",
   "execution_count": 194,
   "metadata": {},
   "outputs": [
    {
     "data": {
      "text/plain": [
       "array([-2.06761563, -0.84169877, -0.60200214, -0.4000787 ,  0.6605587 ,\n",
       "        1.00895925])"
      ]
     },
     "execution_count": 194,
     "metadata": {},
     "output_type": "execute_result"
    }
   ],
   "source": [
    "arr.sort()\n",
    "arr"
   ]
  },
  {
   "cell_type": "code",
   "execution_count": 202,
   "metadata": {},
   "outputs": [
    {
     "data": {
      "text/plain": [
       "array([[-0.87768381,  0.10154772, -0.57787101],\n",
       "       [-0.58615394, -1.76374537, -2.10590641],\n",
       "       [-0.1586241 , -0.14949864,  0.47258483],\n",
       "       [ 0.59373776, -0.31750486,  0.6515354 ],\n",
       "       [-0.05322067, -0.65868316,  0.32329072]])"
      ]
     },
     "execution_count": 202,
     "metadata": {},
     "output_type": "execute_result"
    }
   ],
   "source": [
    "arr = np.random.randn(5,3)\n",
    "arr"
   ]
  },
  {
   "cell_type": "code",
   "execution_count": 203,
   "metadata": {},
   "outputs": [
    {
     "data": {
      "text/plain": [
       "array([[-0.87768381, -0.57787101,  0.10154772],\n",
       "       [-2.10590641, -1.76374537, -0.58615394],\n",
       "       [-0.1586241 , -0.14949864,  0.47258483],\n",
       "       [-0.31750486,  0.59373776,  0.6515354 ],\n",
       "       [-0.65868316, -0.05322067,  0.32329072]])"
      ]
     },
     "execution_count": 203,
     "metadata": {},
     "output_type": "execute_result"
    }
   ],
   "source": [
    "arr.sort(1) # 지정한 행만 변경됨\n",
    "arr"
   ]
  },
  {
   "cell_type": "code",
   "execution_count": 205,
   "metadata": {
    "collapsed": true
   },
   "outputs": [
    {
     "data": {
      "text/plain": [
       "array([ 2.29628543e-01,  3.86863223e-01, -6.39857415e-01, -2.23183810e+00,\n",
       "        2.47110825e-01, -1.07102812e+00, -1.91078523e+00, -8.72957526e-01,\n",
       "        1.22289569e+00, -2.25069392e+00,  2.65578294e+00, -2.79145026e-01,\n",
       "       -5.00952429e-01, -3.28406080e-01,  3.18050637e+00, -1.09389953e+00,\n",
       "        2.28386313e-02, -1.19833559e+00, -6.91101046e-01,  1.06002411e+00,\n",
       "       -1.89702234e+00, -5.19136234e-01, -7.67769230e-01, -1.04420945e+00,\n",
       "        7.85635706e-02, -4.97548455e-01,  1.68341443e+00, -2.47653738e-01,\n",
       "        7.27709117e-01, -1.22751143e+00,  2.27290591e+00, -3.28693414e-02,\n",
       "       -1.21565554e+00,  8.58775471e-01,  3.70959773e-01, -1.95092686e+00,\n",
       "       -4.12275064e-01,  4.71629323e-01,  4.15426855e-01, -1.64818486e-01,\n",
       "        2.45887149e+00, -3.41105895e-01, -1.34877528e+00,  8.82106991e-01,\n",
       "       -1.98095697e+00,  1.75797362e+00,  8.44671660e-01, -1.31682841e-01,\n",
       "        6.38346523e-01,  9.59312201e-01, -1.33199839e+00,  7.62251930e-01,\n",
       "        9.02212633e-01,  4.64489086e-01,  1.85312031e+00, -1.02335124e+00,\n",
       "       -1.84670340e+00, -2.03667078e+00, -1.16302943e+00, -5.66813973e-01,\n",
       "        7.28943503e-01, -1.32408578e+00, -1.12251891e-01,  1.57032259e+00,\n",
       "       -1.67595817e+00,  5.35467450e-01, -1.63908744e+00, -1.39100131e+00,\n",
       "        7.84575143e-01,  3.23915713e-01, -4.57732215e-01, -2.16706795e-01,\n",
       "        1.26190441e+00,  3.54936844e-01,  1.48245382e+00, -1.55469834e+00,\n",
       "        2.20225732e-01,  7.27321698e-02,  2.98459282e-01,  1.21775885e+00,\n",
       "        2.83647892e-01, -1.24800459e+00,  8.53812139e-01, -3.31116357e-01,\n",
       "       -1.03295947e+00, -3.74224494e-01,  1.99830500e+00, -1.76923674e+00,\n",
       "       -3.37225185e-01, -1.50507309e+00,  1.58401662e+00,  2.26893787e-01,\n",
       "        4.61459994e-01, -5.57599140e-01,  1.08728652e+00,  4.55583661e-01,\n",
       "        1.49023302e+00,  3.06937070e-01,  3.94356160e-01,  8.29256217e-01,\n",
       "        1.01289104e+00,  1.26686647e+00, -6.14598140e-01,  1.28772620e-01,\n",
       "        8.98735946e-01,  2.49105263e+00, -4.78946202e-01, -7.20673839e-01,\n",
       "       -1.17990972e+00, -3.54512823e-01, -1.95461429e-01, -4.59769102e-01,\n",
       "        6.97577615e-01,  6.99290712e-01,  7.97015898e-01, -1.17226624e+00,\n",
       "       -3.03638800e-01, -1.93230080e+00,  5.13203530e-01,  1.17092283e+00,\n",
       "        3.44949133e-01, -7.11991717e-01, -5.76889506e-01, -7.20852789e-01,\n",
       "       -1.30340430e-01,  6.65771623e-01,  1.43483980e+00, -8.60308401e-01,\n",
       "        3.06698023e-01, -4.92384194e-01, -1.02964037e+00,  8.50051599e-01,\n",
       "       -2.62260815e-01,  6.09270823e-01,  9.75754763e-02,  2.27532892e+00,\n",
       "       -1.69053985e+00,  9.21671657e-01, -1.01326473e+00,  1.49334475e+00,\n",
       "       -1.11805386e+00, -4.15621160e-01,  5.00119764e-01,  1.69619022e+00,\n",
       "        2.70424489e-01, -8.54328225e-01, -1.66659246e-01, -7.42214326e-01,\n",
       "        2.17316603e+00,  2.38397245e-01, -1.66848703e+00,  3.95526457e-01,\n",
       "        5.69199744e-01, -5.57206483e-02,  6.08690902e-01, -7.90009288e-01,\n",
       "       -1.67478386e+00,  4.64113017e-01,  2.65050109e-01,  1.12822559e+00,\n",
       "        1.43081584e+00, -1.02635513e+00,  1.21325476e-01, -7.04591615e-01,\n",
       "        8.01823247e-01,  1.06026396e+00, -1.81919465e-01, -7.28377446e-01,\n",
       "        6.19414793e-01,  1.06098158e+00, -5.20637979e-02,  2.23896236e-01,\n",
       "        1.71968149e+00,  8.99371889e-01,  7.34787171e-02, -1.18086675e-01,\n",
       "        1.07439921e+00, -1.26375820e+00,  1.39841632e-01, -8.47826779e-01,\n",
       "        1.66418998e-02, -1.31873610e+00, -3.10266039e-02, -1.16398276e-01,\n",
       "       -3.09429110e-01,  1.71127882e+00, -1.79399710e-01,  1.28102002e+00,\n",
       "        1.35219364e+00, -8.59588332e-01, -2.06167087e-01,  7.23672918e-01,\n",
       "       -1.27303543e+00,  1.47398820e+00,  6.31373082e-01, -1.03441385e-01,\n",
       "       -1.24300303e+00,  2.30094524e+00,  6.68714813e-01, -1.84178985e+00,\n",
       "       -1.69853728e+00,  1.10753790e+00, -6.30984136e-01,  6.09796516e-01,\n",
       "        2.09186448e+00, -4.78079422e-01, -4.25988286e-01,  2.11719136e-02,\n",
       "       -4.62965666e-01,  1.90576757e-01, -2.22112578e-02, -3.80019778e-01,\n",
       "        9.44677763e-03,  1.59161554e-01, -1.28355193e+00, -6.23919740e-01,\n",
       "        1.26075248e+00, -2.07387484e-01,  1.46221331e+00, -1.68652047e-02,\n",
       "        8.02784393e-01, -4.72006844e-02, -1.78292713e+00,  5.21495365e-01,\n",
       "       -2.29767696e-01, -2.45047399e-01, -2.84218688e-02,  1.41705707e+00,\n",
       "       -3.32092184e-01, -8.80714421e-01, -7.99578178e-01,  9.51668732e-02,\n",
       "       -3.29235640e-01,  1.31491482e-01,  4.07474011e-01,  1.29535167e+00,\n",
       "        3.73425947e-01,  4.26124332e-02,  3.76293937e-01,  4.28588769e-01,\n",
       "        1.59518610e+00,  2.15764200e-02,  1.91932502e+00, -4.30454300e-01,\n",
       "       -2.33628913e-01,  1.67739089e+00,  5.87788993e-02,  2.46260058e-01,\n",
       "        4.51666636e-02,  6.86079944e-01,  1.56529595e+00, -5.11958153e-01,\n",
       "        7.68473485e-02,  2.17562892e+00,  3.26464097e-01, -1.10737630e+00,\n",
       "       -1.07975041e+00, -2.85531256e-01, -9.08497645e-01,  1.10240997e+00,\n",
       "       -1.55222728e+00,  4.61637761e-02, -2.92386495e-01,  8.21318102e-01,\n",
       "       -7.51430673e-01, -1.49834021e+00, -1.21669301e+00,  4.14649554e-02,\n",
       "       -2.96944816e-01, -5.11383034e-02, -1.22285068e+00, -5.80551094e-02,\n",
       "       -1.58657184e+00,  8.81797070e-01,  8.65498382e-01, -2.51944825e-01,\n",
       "        3.44926558e-01,  1.12429143e-01, -1.39005523e+00, -1.77088713e+00,\n",
       "        2.05624127e+00,  7.50050747e-02, -3.34374714e-01, -2.13989810e-01,\n",
       "        2.25080800e+00,  1.52616240e-02,  7.14868899e-01, -7.89114367e-01,\n",
       "        1.26716471e-01, -8.26004028e-01, -4.19745957e-01,  1.24219497e-01,\n",
       "       -1.12129204e-01, -1.09141102e+00,  7.22590699e-01, -6.06347993e-01,\n",
       "        4.57332541e-01,  6.79387860e-01,  1.53525230e+00, -5.29690536e-01,\n",
       "        5.55169929e-01,  2.99559274e-01,  5.37773902e-01, -1.06277049e+00,\n",
       "       -1.38095221e+00,  1.24848030e+00, -8.43521297e-01,  4.57844408e-01,\n",
       "        1.06419135e+00,  1.01714699e-02,  4.59698297e-03,  1.83376001e+00,\n",
       "        9.48821397e-01,  1.16302060e+00, -1.17461993e-01, -3.16894364e-01,\n",
       "        2.87191526e-02, -4.35403332e-01,  8.62766657e-01, -1.40038824e-01,\n",
       "        1.06152245e-01, -8.03199186e-01,  1.31146868e+00, -1.80684872e-01,\n",
       "        6.68703568e-01, -1.14274223e-01, -1.11624921e+00, -1.12741290e+00,\n",
       "        1.04522328e+00,  1.69981782e-01, -6.62539999e-01, -1.37610446e+00,\n",
       "        2.86207658e-01, -1.44566944e+00,  1.94146986e-01,  1.55186044e+00,\n",
       "       -3.61530176e-01,  1.82460217e-01,  1.15713813e+00,  1.03726078e+00,\n",
       "        5.56923409e-01,  2.35859203e-01,  3.44687080e-01,  5.06423466e-01,\n",
       "        4.59535543e-01,  3.69578477e-01, -2.46730009e+00, -6.07257250e-01,\n",
       "        1.72366411e+00,  1.58153411e+00, -1.31503841e+00,  3.00964645e-01,\n",
       "        1.30835227e+00,  5.12048880e-01,  3.88377344e-01,  2.18726344e-01,\n",
       "       -1.80383696e-01,  2.20873770e+00,  9.50561521e-01,  5.19424110e-01,\n",
       "        2.20144998e+00,  6.99892737e-01, -2.54937760e+00,  4.33685314e-01,\n",
       "       -1.41166301e+00,  1.08042748e-01,  1.25755223e+00, -4.13242771e-01,\n",
       "        5.81723437e-01, -5.28116660e-01, -3.82210290e-01, -2.08332498e+00,\n",
       "        3.02869083e-01,  1.84455113e+00,  7.67614267e-01, -9.18216391e-01,\n",
       "       -1.28460994e-02, -1.48604202e+00, -2.99676451e-01, -5.59503358e-01,\n",
       "        1.91498657e-01,  5.10447994e-01, -1.73934454e+00,  1.10368336e-02,\n",
       "       -2.26440421e-01, -8.94632342e-01,  1.44682144e+00, -5.77552800e-01,\n",
       "        1.46394018e+00, -8.77921017e-01,  6.34395259e-01, -9.63972406e-01,\n",
       "        1.29178734e+00,  4.20797771e+00, -1.32432256e+00,  2.15516612e+00,\n",
       "       -7.02462377e-01,  1.67709652e+00, -2.17648867e-01, -2.46726947e-01,\n",
       "        1.86909534e+00,  1.87524828e-01, -3.21215935e-01,  9.43882130e-02,\n",
       "        4.88305489e-01, -2.39059607e-01,  2.45991169e-01, -1.68011857e-01,\n",
       "       -1.49790791e-01,  8.43022996e-01, -2.18137503e+00,  6.80444334e-01,\n",
       "       -6.01160921e-01,  1.64771705e+00,  5.61206206e-01, -1.86071563e+00,\n",
       "       -1.55973537e+00,  1.56143579e+00,  6.79139859e-01, -1.27715857e+00,\n",
       "        3.72841004e-01,  3.54013749e-01,  8.04908334e-01, -4.94129084e-01,\n",
       "        4.79525905e-01,  8.09559993e-01, -2.85371957e-01, -8.46696729e-02,\n",
       "        2.64945344e+00,  2.36013025e+00,  1.20036335e-01,  2.20193378e-01,\n",
       "        4.79406913e-01,  1.27373741e-01, -9.64643978e-01,  1.40042681e-01,\n",
       "       -3.23678177e+00,  4.05366684e-01, -5.69948068e-01, -1.47949911e-01,\n",
       "       -1.12867700e+00,  1.08802224e+00, -1.19689924e+00,  1.76632553e+00,\n",
       "        9.26738609e-01, -2.72938938e-01, -1.73623767e+00,  2.49860924e-01,\n",
       "        9.70959098e-01,  1.81382950e-01,  9.86588507e-01, -4.12959717e-01,\n",
       "        2.21441258e-01,  2.61135892e-01,  1.24205260e-01, -1.53888904e+00,\n",
       "       -4.68436246e-01,  1.75159046e-01, -1.53825030e+00, -1.20761369e+00,\n",
       "        1.14067579e-02, -7.00008838e-01,  9.02670783e-01, -4.69950983e-01,\n",
       "       -4.51246249e-01, -9.25502924e-01,  8.96837298e-01, -7.43180068e-01,\n",
       "        6.02793534e-01,  4.40935964e-01,  8.36104518e-01, -4.05112897e-01,\n",
       "       -8.09699715e-01, -8.80798919e-01,  7.48235948e-01,  4.40322267e-01,\n",
       "        1.04117608e+00,  1.57602430e+00,  1.10746293e+00, -1.97261714e-01,\n",
       "       -2.30030833e+00, -5.44693840e-01, -1.04011445e+00, -1.22396469e+00,\n",
       "       -1.19551811e+00, -2.48062077e-01,  1.62772375e+00,  1.45412718e+00,\n",
       "       -2.61561624e-01,  2.63990814e-01, -2.79502370e-01, -1.15998191e+00,\n",
       "       -2.99835375e+00, -7.82714100e-02,  2.02394677e+00,  1.29414165e+00,\n",
       "       -1.14726648e+00, -1.31355347e-01,  6.47865634e-01,  1.88146736e+00,\n",
       "        2.59926069e-01,  3.57401826e-01,  2.42846534e+00,  1.85969311e+00,\n",
       "        1.26971996e+00, -1.07554802e+00,  6.03534938e-01,  9.79381847e-01,\n",
       "       -1.07251650e+00,  1.06663554e-01, -9.63040454e-01, -5.13243163e-01,\n",
       "        4.43110521e-01,  9.89447030e-01, -8.40925669e-01, -1.23363396e+00,\n",
       "       -9.88094187e-02, -6.36717604e-01, -1.08339455e+00,  2.68183767e-01,\n",
       "       -5.09474872e-01, -6.07073812e-02,  1.78890726e+00, -2.64275914e-01,\n",
       "       -5.85543110e-01,  1.16558453e+00, -1.35044012e-01,  2.86825488e-01,\n",
       "       -2.12659561e-01, -1.15698134e+00, -5.79888857e-01,  4.62320903e-01,\n",
       "        2.58176665e-01,  2.81388485e-01, -1.84999753e+00, -6.70386991e-01,\n",
       "       -1.91339433e-01,  2.75613381e-01,  8.02235625e-01, -2.02889887e+00,\n",
       "       -1.74693448e+00, -6.25541790e-01, -4.42298292e-01,  1.34467930e+00,\n",
       "        1.68790883e+00,  2.22644691e+00, -1.14775384e+00, -6.90024705e-01,\n",
       "       -5.59050914e-02, -5.79843191e-01,  1.82487358e+00,  9.26837546e-01,\n",
       "       -9.25175292e-01, -5.07524333e-01, -7.10992336e-01,  1.28849829e-01,\n",
       "        5.93492149e-01,  1.89563135e-01,  1.15145012e+00,  5.98928371e-01,\n",
       "       -4.36703609e-01, -5.98031779e-01,  1.04294832e+00,  7.96372204e-01,\n",
       "       -1.35793454e+00,  8.72424314e-01,  2.53456889e-01, -7.04559536e-01,\n",
       "        5.58445650e-01,  2.64888484e-01, -3.65412901e-01, -6.55433848e-01,\n",
       "        4.61084627e-01, -1.74656269e+00, -1.20921113e+00,  5.17815322e-01,\n",
       "       -4.07631407e-01,  3.46235302e-01,  8.06333720e-01,  1.12468012e+00,\n",
       "        9.38321239e-01,  2.21261535e-01,  7.30338642e-01, -7.10586667e-01,\n",
       "        2.32885511e-01,  5.29381995e-01, -1.98247552e-01,  7.68082192e-03,\n",
       "        4.46818649e-01, -2.71094940e-01,  2.40677391e-01, -6.73152226e-01,\n",
       "       -1.55048142e+00,  2.64001659e-02,  7.63028794e-02, -1.67132083e+00,\n",
       "        1.35980058e+00,  3.18178530e-01,  4.10417853e-01,  5.70648083e-01,\n",
       "        1.12660471e+00,  1.02093252e+00, -8.64788610e-01,  9.24381575e-01,\n",
       "       -1.37289490e+00,  2.45198101e+00, -4.82504225e-01,  1.69302395e+00,\n",
       "       -6.44571082e-01, -1.53845354e+00,  5.24351927e-01, -3.86143671e-01,\n",
       "        2.15083468e-01,  1.00240748e+00, -2.16967503e-01, -2.92801567e-01,\n",
       "        1.29296071e+00,  5.08039863e-01,  1.39513473e+00,  1.12890280e+00,\n",
       "       -6.92666558e-01, -1.36972367e+00,  1.13181265e+00,  6.25560856e-01,\n",
       "        6.84870173e-01,  1.33766238e+00,  3.21978852e-01,  8.73340443e-01,\n",
       "       -2.04079321e-01, -2.60774485e-01,  7.88195299e-01, -1.36207231e+00,\n",
       "       -1.00848490e+00, -1.20011266e+00,  2.13584385e-01, -1.93135138e-01,\n",
       "        1.00009627e+00,  9.95078817e-02,  1.81254996e+00,  5.85933392e-01,\n",
       "       -7.82756382e-02, -5.00197334e-02, -1.09210554e+00, -7.21972525e-01,\n",
       "       -3.94837386e-02,  7.42190811e-01, -1.14398437e+00, -1.50756229e+00,\n",
       "       -7.84444108e-01,  4.24644833e-01, -1.47425794e+00,  7.32552430e-01,\n",
       "        1.79380878e+00,  1.81672053e-01,  1.51291912e+00,  2.16421980e-01,\n",
       "       -6.40679761e-01,  6.44676588e-01,  2.48781458e-01, -2.43382715e-01,\n",
       "       -3.48430235e-01, -1.45538925e-02,  2.21427430e-01,  4.35564933e-01,\n",
       "        3.39913115e-01,  3.05792759e-01, -1.02808995e+00, -1.76286980e-01,\n",
       "       -3.45255977e-01, -6.37350381e-01,  4.22965752e-01,  3.66447614e-01,\n",
       "       -1.08719246e-01, -3.33324559e-01,  1.17325589e+00,  1.53782223e+00,\n",
       "       -1.31008455e+00, -9.52854970e-01, -5.49081660e-01, -6.16251751e-01,\n",
       "       -8.54114640e-01,  6.96480334e-01, -1.90120016e-01,  3.07555423e-01,\n",
       "       -4.27815155e-01,  5.24802677e-01, -7.98080411e-01, -1.64572206e+00,\n",
       "       -2.57094309e-01, -1.26145961e+00,  1.34083588e+00, -6.71133480e-02,\n",
       "        5.91475333e-01, -4.16111741e-01, -1.46362212e+00,  1.49053180e+00,\n",
       "        8.13914160e-01,  3.75054580e-01,  3.64665136e+00, -1.91075967e-01,\n",
       "       -8.79220946e-01, -2.81749303e-01, -2.54673977e-01, -7.85170313e-01,\n",
       "       -1.19071569e+00,  7.61182210e-01, -1.53216164e+00, -9.03542117e-01,\n",
       "        8.74590591e-01,  9.60212378e-02,  1.03688143e+00,  4.08341101e-01,\n",
       "       -2.70814187e+00, -4.50226484e-01,  4.27216021e-01,  2.14626450e-01,\n",
       "        3.17428730e-01, -6.10904455e-01, -2.46828225e-01, -1.94389019e-01,\n",
       "       -1.01503532e+00,  4.13119452e-01, -8.18997406e-01,  2.68128202e-01,\n",
       "       -3.35461787e-01, -3.70830454e-01, -7.85643532e-01, -1.33203295e+00,\n",
       "        1.41056774e+00, -1.59752647e+00, -2.05119733e+00,  1.88965784e+00,\n",
       "       -1.04093805e+00, -6.99810483e-01, -4.66969088e-01, -2.20046361e-01,\n",
       "       -5.64198366e-01, -4.77282281e-01, -5.68394685e-01, -1.04466899e+00,\n",
       "       -3.13179551e-01, -2.36954547e-01, -1.34110531e+00, -7.85985507e-01,\n",
       "        4.95172530e-01, -1.41060474e+00,  1.05586029e+00, -9.41039322e-01,\n",
       "       -1.14764669e-01,  2.78561296e+00, -1.84090783e-01, -3.86723499e-01,\n",
       "       -9.01225467e-01, -8.27328788e-01,  1.15713777e+00,  1.42863354e+00,\n",
       "        1.46459337e-01, -5.36675683e-01, -1.80667505e-01, -3.73580321e-01,\n",
       "        1.28696133e+00, -1.77971582e+00,  1.30968638e+00,  1.19765102e+00,\n",
       "       -4.76629801e-03,  1.82950077e-01,  1.70409516e+00, -8.98392728e-01,\n",
       "       -2.03528980e-01,  4.54631521e-01, -9.97396234e-01,  1.71095585e-01,\n",
       "        2.50279369e-01,  7.37404343e-01, -2.88464371e+00,  2.52716778e-01,\n",
       "        1.24491765e-02,  4.24445121e-01, -2.18281609e-01, -5.32767712e-01,\n",
       "        1.31338618e+00,  3.13105856e-01,  6.95517604e-01, -8.60426016e-01,\n",
       "        1.78604081e+00, -1.97363647e-03,  2.07589316e+00,  8.81774133e-01,\n",
       "       -6.69547623e-01,  6.84375071e-01,  1.40494512e-01, -3.13921517e-01,\n",
       "        8.20326227e-01, -2.79833783e-01,  2.51672019e-01, -2.05006896e-02,\n",
       "       -1.12468006e-01,  3.71771142e-01, -6.31042768e-03,  1.38302241e+00,\n",
       "       -1.44337495e+00, -1.78207385e-01,  2.44959364e-01,  4.49690729e-02,\n",
       "        7.28439619e-01,  1.87147423e+00, -4.72883900e-01, -1.71292536e+00,\n",
       "       -2.65941193e-01,  6.02906587e-01, -2.58121963e+00,  1.67887363e-02,\n",
       "        8.55043420e-01, -1.76552048e-01,  1.23320271e-01, -3.05742173e-01,\n",
       "        1.04227555e+00, -8.93521223e-01,  2.70770452e-01,  1.70626238e-01,\n",
       "        1.37395589e+00, -1.49678043e+00,  1.17315262e-01, -4.15978677e-01,\n",
       "        5.54868749e-02,  3.31759045e-02, -5.92372979e-01, -4.11917288e-03,\n",
       "       -1.21441399e-01,  1.35818229e-01, -2.35165792e+00,  3.29969756e-01,\n",
       "        6.93473303e-02,  5.03155574e-02,  2.09469766e-04, -2.26067075e+00,\n",
       "       -4.12236693e-01,  9.87754622e-01, -2.14129266e+00, -1.49657028e+00,\n",
       "        5.77826342e-02,  5.72127278e-01,  1.21123870e+00,  3.75841688e-01,\n",
       "        9.40362627e-01, -1.49177897e-01,  4.72615298e-01, -8.02736232e-01,\n",
       "       -6.24707851e-03, -6.03010152e-01,  3.48936747e-02, -2.02558635e+00,\n",
       "       -4.87255833e-01, -4.40794699e-01,  4.15319635e-01,  8.81222755e-01,\n",
       "        6.32026858e-01, -5.56042596e-02, -5.70957104e-01, -9.48011029e-01,\n",
       "       -1.20957206e+00,  6.28018611e-01,  3.25246248e-02,  5.13226515e-01,\n",
       "        9.61407248e-01, -9.74196785e-02, -3.62522502e-01, -1.82938397e+00,\n",
       "       -1.06498583e+00,  3.35599754e-01,  1.55514704e+00,  1.04839662e+00,\n",
       "        1.41765169e+00,  1.43797476e+00,  3.90161912e-01, -1.00411513e+00,\n",
       "        1.22213444e+00, -6.39893898e-01,  4.66576507e-01,  2.55775750e+00,\n",
       "       -2.56448115e+00, -4.50246157e-01, -2.90576769e-01,  8.50836270e-01,\n",
       "       -2.63299520e-02, -1.15237400e+00,  2.94282299e-01, -1.67496525e+00,\n",
       "       -6.73268806e-01,  2.02453421e+00, -1.72929174e+00, -1.19986638e-01,\n",
       "        1.66190766e+00, -2.42719070e+00,  2.66708786e+00,  2.13162753e-03,\n",
       "       -8.65694851e-01,  1.54121678e-01,  4.49065532e-01, -2.15947070e-01,\n",
       "        1.22505511e+00,  9.30444378e-01, -1.69775887e+00, -4.01588387e-01,\n",
       "       -5.03442201e-02,  1.26170113e+00,  5.06852899e-01, -1.22287152e+00,\n",
       "        3.32275701e-01,  4.36619831e-01, -1.41628478e+00,  7.23119670e-01,\n",
       "       -1.44945698e-01, -9.81668880e-02,  2.95256983e-02, -2.05314821e+00,\n",
       "        7.67351540e-01,  4.46373509e-01, -6.94570597e-01,  1.17613642e-01,\n",
       "       -8.06308154e-01,  1.64497801e+00,  2.85066531e-01,  4.65194872e-01,\n",
       "        9.90180030e-01, -1.13225164e+00,  1.17382938e-01, -1.35019118e+00,\n",
       "        1.21398447e-01,  1.27442997e+00, -2.91773006e-01, -1.02040530e+00,\n",
       "        1.13002584e+00, -8.38926883e-01, -1.32713003e+00, -5.28086522e-01,\n",
       "       -5.60687850e-01,  1.10937021e+00,  8.26311398e-01, -7.84113454e-01,\n",
       "        6.33255026e-01,  5.34939201e-01,  1.33347183e+00,  7.31775343e-01,\n",
       "       -8.77091934e-01,  4.51168826e-01,  9.49149736e-02,  8.14011029e-01,\n",
       "       -2.39884400e-01,  7.93541705e-01,  5.28416032e-01, -4.71011876e-01,\n",
       "        1.04407953e+00,  1.34900858e-01,  5.38009746e-01,  7.16612164e-01,\n",
       "        9.81811443e-02, -3.43735591e-01, -2.33179659e-01,  8.44398123e-01,\n",
       "       -5.42677008e-01, -7.64465636e-01,  4.47209343e-01,  2.51193945e+00,\n",
       "       -1.00961284e+00,  1.45447044e+00,  1.95355501e+00,  9.65519100e-01,\n",
       "        1.63474282e-01,  1.40669153e+00,  9.83682887e-01,  8.62986789e-01,\n",
       "        5.27193998e-01, -5.43052563e-01, -5.19285407e-01, -4.19806624e-02,\n",
       "        4.18745643e-01,  1.41364442e-01,  1.33874074e+00,  7.17470359e-01,\n",
       "        1.27164273e-01,  7.80253453e-01, -3.18889461e-01, -1.67567165e+00,\n",
       "        1.06766154e+00,  3.47248906e-01, -1.12292723e+00,  1.56013570e-01,\n",
       "       -6.39211732e-01, -4.18028391e-01, -3.31769175e-01, -2.75297270e-01,\n",
       "        1.44207423e+00, -8.61645905e-01,  2.23258391e+00, -1.60330211e+00,\n",
       "        8.97460070e-01, -3.90340062e-02, -1.07527096e+00,  9.88832149e-01])"
      ]
     },
     "execution_count": 205,
     "metadata": {},
     "output_type": "execute_result"
    }
   ],
   "source": [
    "large_arr = np.random.randn(1000)\n",
    "large_arr"
   ]
  },
  {
   "cell_type": "code",
   "execution_count": 207,
   "metadata": {
    "collapsed": true
   },
   "outputs": [
    {
     "data": {
      "text/plain": [
       "array([-3.23678177e+00, -2.99835375e+00, -2.88464371e+00, -2.70814187e+00,\n",
       "       -2.58121963e+00, -2.56448115e+00, -2.54937760e+00, -2.46730009e+00,\n",
       "       -2.42719070e+00, -2.35165792e+00, -2.30030833e+00, -2.26067075e+00,\n",
       "       -2.25069392e+00, -2.23183810e+00, -2.18137503e+00, -2.14129266e+00,\n",
       "       -2.08332498e+00, -2.05314821e+00, -2.05119733e+00, -2.03667078e+00,\n",
       "       -2.02889887e+00, -2.02558635e+00, -1.98095697e+00, -1.95092686e+00,\n",
       "       -1.93230080e+00, -1.91078523e+00, -1.89702234e+00, -1.86071563e+00,\n",
       "       -1.84999753e+00, -1.84670340e+00, -1.84178985e+00, -1.82938397e+00,\n",
       "       -1.78292713e+00, -1.77971582e+00, -1.77088713e+00, -1.76923674e+00,\n",
       "       -1.74693448e+00, -1.74656269e+00, -1.73934454e+00, -1.73623767e+00,\n",
       "       -1.72929174e+00, -1.71292536e+00, -1.69853728e+00, -1.69775887e+00,\n",
       "       -1.69053985e+00, -1.67595817e+00, -1.67567165e+00, -1.67496525e+00,\n",
       "       -1.67478386e+00, -1.67132083e+00, -1.66848703e+00, -1.64572206e+00,\n",
       "       -1.63908744e+00, -1.60330211e+00, -1.59752647e+00, -1.58657184e+00,\n",
       "       -1.55973537e+00, -1.55469834e+00, -1.55222728e+00, -1.55048142e+00,\n",
       "       -1.53888904e+00, -1.53845354e+00, -1.53825030e+00, -1.53216164e+00,\n",
       "       -1.50756229e+00, -1.50507309e+00, -1.49834021e+00, -1.49678043e+00,\n",
       "       -1.49657028e+00, -1.48604202e+00, -1.47425794e+00, -1.46362212e+00,\n",
       "       -1.44566944e+00, -1.44337495e+00, -1.41628478e+00, -1.41166301e+00,\n",
       "       -1.41060474e+00, -1.39100131e+00, -1.39005523e+00, -1.38095221e+00,\n",
       "       -1.37610446e+00, -1.37289490e+00, -1.36972367e+00, -1.36207231e+00,\n",
       "       -1.35793454e+00, -1.35019118e+00, -1.34877528e+00, -1.34110531e+00,\n",
       "       -1.33203295e+00, -1.33199839e+00, -1.32713003e+00, -1.32432256e+00,\n",
       "       -1.32408578e+00, -1.31873610e+00, -1.31503841e+00, -1.31008455e+00,\n",
       "       -1.28355193e+00, -1.27715857e+00, -1.27303543e+00, -1.26375820e+00,\n",
       "       -1.26145961e+00, -1.24800459e+00, -1.24300303e+00, -1.23363396e+00,\n",
       "       -1.22751143e+00, -1.22396469e+00, -1.22287152e+00, -1.22285068e+00,\n",
       "       -1.21669301e+00, -1.21565554e+00, -1.20957206e+00, -1.20921113e+00,\n",
       "       -1.20761369e+00, -1.20011266e+00, -1.19833559e+00, -1.19689924e+00,\n",
       "       -1.19551811e+00, -1.19071569e+00, -1.17990972e+00, -1.17226624e+00,\n",
       "       -1.16302943e+00, -1.15998191e+00, -1.15698134e+00, -1.15237400e+00,\n",
       "       -1.14775384e+00, -1.14726648e+00, -1.14398437e+00, -1.13225164e+00,\n",
       "       -1.12867700e+00, -1.12741290e+00, -1.12292723e+00, -1.11805386e+00,\n",
       "       -1.11624921e+00, -1.10737630e+00, -1.09389953e+00, -1.09210554e+00,\n",
       "       -1.09141102e+00, -1.08339455e+00, -1.07975041e+00, -1.07554802e+00,\n",
       "       -1.07527096e+00, -1.07251650e+00, -1.07102812e+00, -1.06498583e+00,\n",
       "       -1.06277049e+00, -1.04466899e+00, -1.04420945e+00, -1.04093805e+00,\n",
       "       -1.04011445e+00, -1.03295947e+00, -1.02964037e+00, -1.02808995e+00,\n",
       "       -1.02635513e+00, -1.02335124e+00, -1.02040530e+00, -1.01503532e+00,\n",
       "       -1.01326473e+00, -1.00961284e+00, -1.00848490e+00, -1.00411513e+00,\n",
       "       -9.97396234e-01, -9.64643978e-01, -9.63972406e-01, -9.63040454e-01,\n",
       "       -9.52854970e-01, -9.48011029e-01, -9.41039322e-01, -9.25502924e-01,\n",
       "       -9.25175292e-01, -9.18216391e-01, -9.08497645e-01, -9.03542117e-01,\n",
       "       -9.01225467e-01, -8.98392728e-01, -8.94632342e-01, -8.93521223e-01,\n",
       "       -8.80798919e-01, -8.80714421e-01, -8.79220946e-01, -8.77921017e-01,\n",
       "       -8.77091934e-01, -8.72957526e-01, -8.65694851e-01, -8.64788610e-01,\n",
       "       -8.61645905e-01, -8.60426016e-01, -8.60308401e-01, -8.59588332e-01,\n",
       "       -8.54328225e-01, -8.54114640e-01, -8.47826779e-01, -8.43521297e-01,\n",
       "       -8.40925669e-01, -8.38926883e-01, -8.27328788e-01, -8.26004028e-01,\n",
       "       -8.18997406e-01, -8.09699715e-01, -8.06308154e-01, -8.03199186e-01,\n",
       "       -8.02736232e-01, -7.99578178e-01, -7.98080411e-01, -7.90009288e-01,\n",
       "       -7.89114367e-01, -7.85985507e-01, -7.85643532e-01, -7.85170313e-01,\n",
       "       -7.84444108e-01, -7.84113454e-01, -7.67769230e-01, -7.64465636e-01,\n",
       "       -7.51430673e-01, -7.43180068e-01, -7.42214326e-01, -7.28377446e-01,\n",
       "       -7.21972525e-01, -7.20852789e-01, -7.20673839e-01, -7.11991717e-01,\n",
       "       -7.10992336e-01, -7.10586667e-01, -7.04591615e-01, -7.04559536e-01,\n",
       "       -7.02462377e-01, -7.00008838e-01, -6.99810483e-01, -6.94570597e-01,\n",
       "       -6.92666558e-01, -6.91101046e-01, -6.90024705e-01, -6.73268806e-01,\n",
       "       -6.73152226e-01, -6.70386991e-01, -6.69547623e-01, -6.62539999e-01,\n",
       "       -6.55433848e-01, -6.44571082e-01, -6.40679761e-01, -6.39893898e-01,\n",
       "       -6.39857415e-01, -6.39211732e-01, -6.37350381e-01, -6.36717604e-01,\n",
       "       -6.30984136e-01, -6.25541790e-01, -6.23919740e-01, -6.16251751e-01,\n",
       "       -6.14598140e-01, -6.10904455e-01, -6.07257250e-01, -6.06347993e-01,\n",
       "       -6.03010152e-01, -6.01160921e-01, -5.98031779e-01, -5.92372979e-01,\n",
       "       -5.85543110e-01, -5.79888857e-01, -5.79843191e-01, -5.77552800e-01,\n",
       "       -5.76889506e-01, -5.70957104e-01, -5.69948068e-01, -5.68394685e-01,\n",
       "       -5.66813973e-01, -5.64198366e-01, -5.60687850e-01, -5.59503358e-01,\n",
       "       -5.57599140e-01, -5.49081660e-01, -5.44693840e-01, -5.43052563e-01,\n",
       "       -5.42677008e-01, -5.36675683e-01, -5.32767712e-01, -5.29690536e-01,\n",
       "       -5.28116660e-01, -5.28086522e-01, -5.19285407e-01, -5.19136234e-01,\n",
       "       -5.13243163e-01, -5.11958153e-01, -5.09474872e-01, -5.07524333e-01,\n",
       "       -5.00952429e-01, -4.97548455e-01, -4.94129084e-01, -4.92384194e-01,\n",
       "       -4.87255833e-01, -4.82504225e-01, -4.78946202e-01, -4.78079422e-01,\n",
       "       -4.77282281e-01, -4.72883900e-01, -4.71011876e-01, -4.69950983e-01,\n",
       "       -4.68436246e-01, -4.66969088e-01, -4.62965666e-01, -4.59769102e-01,\n",
       "       -4.57732215e-01, -4.51246249e-01, -4.50246157e-01, -4.50226484e-01,\n",
       "       -4.42298292e-01, -4.40794699e-01, -4.36703609e-01, -4.35403332e-01,\n",
       "       -4.30454300e-01, -4.27815155e-01, -4.25988286e-01, -4.19745957e-01,\n",
       "       -4.18028391e-01, -4.16111741e-01, -4.15978677e-01, -4.15621160e-01,\n",
       "       -4.13242771e-01, -4.12959717e-01, -4.12275064e-01, -4.12236693e-01,\n",
       "       -4.07631407e-01, -4.05112897e-01, -4.01588387e-01, -3.86723499e-01,\n",
       "       -3.86143671e-01, -3.82210290e-01, -3.80019778e-01, -3.74224494e-01,\n",
       "       -3.73580321e-01, -3.70830454e-01, -3.65412901e-01, -3.62522502e-01,\n",
       "       -3.61530176e-01, -3.54512823e-01, -3.48430235e-01, -3.45255977e-01,\n",
       "       -3.43735591e-01, -3.41105895e-01, -3.37225185e-01, -3.35461787e-01,\n",
       "       -3.34374714e-01, -3.33324559e-01, -3.32092184e-01, -3.31769175e-01,\n",
       "       -3.31116357e-01, -3.29235640e-01, -3.28406080e-01, -3.21215935e-01,\n",
       "       -3.18889461e-01, -3.16894364e-01, -3.13921517e-01, -3.13179551e-01,\n",
       "       -3.09429110e-01, -3.05742173e-01, -3.03638800e-01, -2.99676451e-01,\n",
       "       -2.96944816e-01, -2.92801567e-01, -2.92386495e-01, -2.91773006e-01,\n",
       "       -2.90576769e-01, -2.85531256e-01, -2.85371957e-01, -2.81749303e-01,\n",
       "       -2.79833783e-01, -2.79502370e-01, -2.79145026e-01, -2.75297270e-01,\n",
       "       -2.72938938e-01, -2.71094940e-01, -2.65941193e-01, -2.64275914e-01,\n",
       "       -2.62260815e-01, -2.61561624e-01, -2.60774485e-01, -2.57094309e-01,\n",
       "       -2.54673977e-01, -2.51944825e-01, -2.48062077e-01, -2.47653738e-01,\n",
       "       -2.46828225e-01, -2.46726947e-01, -2.45047399e-01, -2.43382715e-01,\n",
       "       -2.39884400e-01, -2.39059607e-01, -2.36954547e-01, -2.33628913e-01,\n",
       "       -2.33179659e-01, -2.29767696e-01, -2.26440421e-01, -2.20046361e-01,\n",
       "       -2.18281609e-01, -2.17648867e-01, -2.16967503e-01, -2.16706795e-01,\n",
       "       -2.15947070e-01, -2.13989810e-01, -2.12659561e-01, -2.07387484e-01,\n",
       "       -2.06167087e-01, -2.04079321e-01, -2.03528980e-01, -1.98247552e-01,\n",
       "       -1.97261714e-01, -1.95461429e-01, -1.94389019e-01, -1.93135138e-01,\n",
       "       -1.91339433e-01, -1.91075967e-01, -1.90120016e-01, -1.84090783e-01,\n",
       "       -1.81919465e-01, -1.80684872e-01, -1.80667505e-01, -1.80383696e-01,\n",
       "       -1.79399710e-01, -1.78207385e-01, -1.76552048e-01, -1.76286980e-01,\n",
       "       -1.68011857e-01, -1.66659246e-01, -1.64818486e-01, -1.49790791e-01,\n",
       "       -1.49177897e-01, -1.47949911e-01, -1.44945698e-01, -1.40038824e-01,\n",
       "       -1.35044012e-01, -1.31682841e-01, -1.31355347e-01, -1.30340430e-01,\n",
       "       -1.21441399e-01, -1.19986638e-01, -1.18086675e-01, -1.17461993e-01,\n",
       "       -1.16398276e-01, -1.14764669e-01, -1.14274223e-01, -1.12468006e-01,\n",
       "       -1.12251891e-01, -1.12129204e-01, -1.08719246e-01, -1.03441385e-01,\n",
       "       -9.88094187e-02, -9.81668880e-02, -9.74196785e-02, -8.46696729e-02,\n",
       "       -7.82756382e-02, -7.82714100e-02, -6.71133480e-02, -6.07073812e-02,\n",
       "       -5.80551094e-02, -5.59050914e-02, -5.57206483e-02, -5.56042596e-02,\n",
       "       -5.20637979e-02, -5.11383034e-02, -5.03442201e-02, -5.00197334e-02,\n",
       "       -4.72006844e-02, -4.19806624e-02, -3.94837386e-02, -3.90340062e-02,\n",
       "       -3.28693414e-02, -3.10266039e-02, -2.84218688e-02, -2.63299520e-02,\n",
       "       -2.22112578e-02, -2.05006896e-02, -1.68652047e-02, -1.45538925e-02,\n",
       "       -1.28460994e-02, -6.31042768e-03, -6.24707851e-03, -4.76629801e-03,\n",
       "       -4.11917288e-03, -1.97363647e-03,  2.09469766e-04,  2.13162753e-03,\n",
       "        4.59698297e-03,  7.68082192e-03,  9.44677763e-03,  1.01714699e-02,\n",
       "        1.10368336e-02,  1.14067579e-02,  1.24491765e-02,  1.52616240e-02,\n",
       "        1.66418998e-02,  1.67887363e-02,  2.11719136e-02,  2.15764200e-02,\n",
       "        2.28386313e-02,  2.64001659e-02,  2.87191526e-02,  2.95256983e-02,\n",
       "        3.25246248e-02,  3.31759045e-02,  3.48936747e-02,  4.14649554e-02,\n",
       "        4.26124332e-02,  4.49690729e-02,  4.51666636e-02,  4.61637761e-02,\n",
       "        5.03155574e-02,  5.54868749e-02,  5.77826342e-02,  5.87788993e-02,\n",
       "        6.93473303e-02,  7.27321698e-02,  7.34787171e-02,  7.50050747e-02,\n",
       "        7.63028794e-02,  7.68473485e-02,  7.85635706e-02,  9.43882130e-02,\n",
       "        9.49149736e-02,  9.51668732e-02,  9.60212378e-02,  9.75754763e-02,\n",
       "        9.81811443e-02,  9.95078817e-02,  1.06152245e-01,  1.06663554e-01,\n",
       "        1.08042748e-01,  1.12429143e-01,  1.17315262e-01,  1.17382938e-01,\n",
       "        1.17613642e-01,  1.20036335e-01,  1.21325476e-01,  1.21398447e-01,\n",
       "        1.23320271e-01,  1.24205260e-01,  1.24219497e-01,  1.26716471e-01,\n",
       "        1.27164273e-01,  1.27373741e-01,  1.28772620e-01,  1.28849829e-01,\n",
       "        1.31491482e-01,  1.34900858e-01,  1.35818229e-01,  1.39841632e-01,\n",
       "        1.40042681e-01,  1.40494512e-01,  1.41364442e-01,  1.46459337e-01,\n",
       "        1.54121678e-01,  1.56013570e-01,  1.59161554e-01,  1.63474282e-01,\n",
       "        1.69981782e-01,  1.70626238e-01,  1.71095585e-01,  1.75159046e-01,\n",
       "        1.81382950e-01,  1.81672053e-01,  1.82460217e-01,  1.82950077e-01,\n",
       "        1.87524828e-01,  1.89563135e-01,  1.90576757e-01,  1.91498657e-01,\n",
       "        1.94146986e-01,  2.13584385e-01,  2.14626450e-01,  2.15083468e-01,\n",
       "        2.16421980e-01,  2.18726344e-01,  2.20193378e-01,  2.20225732e-01,\n",
       "        2.21261535e-01,  2.21427430e-01,  2.21441258e-01,  2.23896236e-01,\n",
       "        2.26893787e-01,  2.29628543e-01,  2.32885511e-01,  2.35859203e-01,\n",
       "        2.38397245e-01,  2.40677391e-01,  2.44959364e-01,  2.45991169e-01,\n",
       "        2.46260058e-01,  2.47110825e-01,  2.48781458e-01,  2.49860924e-01,\n",
       "        2.50279369e-01,  2.51672019e-01,  2.52716778e-01,  2.53456889e-01,\n",
       "        2.58176665e-01,  2.59926069e-01,  2.61135892e-01,  2.63990814e-01,\n",
       "        2.64888484e-01,  2.65050109e-01,  2.68128202e-01,  2.68183767e-01,\n",
       "        2.70424489e-01,  2.70770452e-01,  2.75613381e-01,  2.81388485e-01,\n",
       "        2.83647892e-01,  2.85066531e-01,  2.86207658e-01,  2.86825488e-01,\n",
       "        2.94282299e-01,  2.98459282e-01,  2.99559274e-01,  3.00964645e-01,\n",
       "        3.02869083e-01,  3.05792759e-01,  3.06698023e-01,  3.06937070e-01,\n",
       "        3.07555423e-01,  3.13105856e-01,  3.17428730e-01,  3.18178530e-01,\n",
       "        3.21978852e-01,  3.23915713e-01,  3.26464097e-01,  3.29969756e-01,\n",
       "        3.32275701e-01,  3.35599754e-01,  3.39913115e-01,  3.44687080e-01,\n",
       "        3.44926558e-01,  3.44949133e-01,  3.46235302e-01,  3.47248906e-01,\n",
       "        3.54013749e-01,  3.54936844e-01,  3.57401826e-01,  3.66447614e-01,\n",
       "        3.69578477e-01,  3.70959773e-01,  3.71771142e-01,  3.72841004e-01,\n",
       "        3.73425947e-01,  3.75054580e-01,  3.75841688e-01,  3.76293937e-01,\n",
       "        3.86863223e-01,  3.88377344e-01,  3.90161912e-01,  3.94356160e-01,\n",
       "        3.95526457e-01,  4.05366684e-01,  4.07474011e-01,  4.08341101e-01,\n",
       "        4.10417853e-01,  4.13119452e-01,  4.15319635e-01,  4.15426855e-01,\n",
       "        4.18745643e-01,  4.22965752e-01,  4.24445121e-01,  4.24644833e-01,\n",
       "        4.27216021e-01,  4.28588769e-01,  4.33685314e-01,  4.35564933e-01,\n",
       "        4.36619831e-01,  4.40322267e-01,  4.40935964e-01,  4.43110521e-01,\n",
       "        4.46373509e-01,  4.46818649e-01,  4.47209343e-01,  4.49065532e-01,\n",
       "        4.51168826e-01,  4.54631521e-01,  4.55583661e-01,  4.57332541e-01,\n",
       "        4.57844408e-01,  4.59535543e-01,  4.61084627e-01,  4.61459994e-01,\n",
       "        4.62320903e-01,  4.64113017e-01,  4.64489086e-01,  4.65194872e-01,\n",
       "        4.66576507e-01,  4.71629323e-01,  4.72615298e-01,  4.79406913e-01,\n",
       "        4.79525905e-01,  4.88305489e-01,  4.95172530e-01,  5.00119764e-01,\n",
       "        5.06423466e-01,  5.06852899e-01,  5.08039863e-01,  5.10447994e-01,\n",
       "        5.12048880e-01,  5.13203530e-01,  5.13226515e-01,  5.17815322e-01,\n",
       "        5.19424110e-01,  5.21495365e-01,  5.24351927e-01,  5.24802677e-01,\n",
       "        5.27193998e-01,  5.28416032e-01,  5.29381995e-01,  5.34939201e-01,\n",
       "        5.35467450e-01,  5.37773902e-01,  5.38009746e-01,  5.55169929e-01,\n",
       "        5.56923409e-01,  5.58445650e-01,  5.61206206e-01,  5.69199744e-01,\n",
       "        5.70648083e-01,  5.72127278e-01,  5.81723437e-01,  5.85933392e-01,\n",
       "        5.91475333e-01,  5.93492149e-01,  5.98928371e-01,  6.02793534e-01,\n",
       "        6.02906587e-01,  6.03534938e-01,  6.08690902e-01,  6.09270823e-01,\n",
       "        6.09796516e-01,  6.19414793e-01,  6.25560856e-01,  6.28018611e-01,\n",
       "        6.31373082e-01,  6.32026858e-01,  6.33255026e-01,  6.34395259e-01,\n",
       "        6.38346523e-01,  6.44676588e-01,  6.47865634e-01,  6.65771623e-01,\n",
       "        6.68703568e-01,  6.68714813e-01,  6.79139859e-01,  6.79387860e-01,\n",
       "        6.80444334e-01,  6.84375071e-01,  6.84870173e-01,  6.86079944e-01,\n",
       "        6.95517604e-01,  6.96480334e-01,  6.97577615e-01,  6.99290712e-01,\n",
       "        6.99892737e-01,  7.14868899e-01,  7.16612164e-01,  7.17470359e-01,\n",
       "        7.22590699e-01,  7.23119670e-01,  7.23672918e-01,  7.27709117e-01,\n",
       "        7.28439619e-01,  7.28943503e-01,  7.30338642e-01,  7.31775343e-01,\n",
       "        7.32552430e-01,  7.37404343e-01,  7.42190811e-01,  7.48235948e-01,\n",
       "        7.61182210e-01,  7.62251930e-01,  7.67351540e-01,  7.67614267e-01,\n",
       "        7.80253453e-01,  7.84575143e-01,  7.88195299e-01,  7.93541705e-01,\n",
       "        7.96372204e-01,  7.97015898e-01,  8.01823247e-01,  8.02235625e-01,\n",
       "        8.02784393e-01,  8.04908334e-01,  8.06333720e-01,  8.09559993e-01,\n",
       "        8.13914160e-01,  8.14011029e-01,  8.20326227e-01,  8.21318102e-01,\n",
       "        8.26311398e-01,  8.29256217e-01,  8.36104518e-01,  8.43022996e-01,\n",
       "        8.44398123e-01,  8.44671660e-01,  8.50051599e-01,  8.50836270e-01,\n",
       "        8.53812139e-01,  8.55043420e-01,  8.58775471e-01,  8.62766657e-01,\n",
       "        8.62986789e-01,  8.65498382e-01,  8.72424314e-01,  8.73340443e-01,\n",
       "        8.74590591e-01,  8.81222755e-01,  8.81774133e-01,  8.81797070e-01,\n",
       "        8.82106991e-01,  8.96837298e-01,  8.97460070e-01,  8.98735946e-01,\n",
       "        8.99371889e-01,  9.02212633e-01,  9.02670783e-01,  9.21671657e-01,\n",
       "        9.24381575e-01,  9.26738609e-01,  9.26837546e-01,  9.30444378e-01,\n",
       "        9.38321239e-01,  9.40362627e-01,  9.48821397e-01,  9.50561521e-01,\n",
       "        9.59312201e-01,  9.61407248e-01,  9.65519100e-01,  9.70959098e-01,\n",
       "        9.79381847e-01,  9.83682887e-01,  9.86588507e-01,  9.87754622e-01,\n",
       "        9.88832149e-01,  9.89447030e-01,  9.90180030e-01,  1.00009627e+00,\n",
       "        1.00240748e+00,  1.01289104e+00,  1.02093252e+00,  1.03688143e+00,\n",
       "        1.03726078e+00,  1.04117608e+00,  1.04227555e+00,  1.04294832e+00,\n",
       "        1.04407953e+00,  1.04522328e+00,  1.04839662e+00,  1.05586029e+00,\n",
       "        1.06002411e+00,  1.06026396e+00,  1.06098158e+00,  1.06419135e+00,\n",
       "        1.06766154e+00,  1.07439921e+00,  1.08728652e+00,  1.08802224e+00,\n",
       "        1.10240997e+00,  1.10746293e+00,  1.10753790e+00,  1.10937021e+00,\n",
       "        1.12468012e+00,  1.12660471e+00,  1.12822559e+00,  1.12890280e+00,\n",
       "        1.13002584e+00,  1.13181265e+00,  1.15145012e+00,  1.15713777e+00,\n",
       "        1.15713813e+00,  1.16302060e+00,  1.16558453e+00,  1.17092283e+00,\n",
       "        1.17325589e+00,  1.19765102e+00,  1.21123870e+00,  1.21775885e+00,\n",
       "        1.22213444e+00,  1.22289569e+00,  1.22505511e+00,  1.24848030e+00,\n",
       "        1.25755223e+00,  1.26075248e+00,  1.26170113e+00,  1.26190441e+00,\n",
       "        1.26686647e+00,  1.26971996e+00,  1.27442997e+00,  1.28102002e+00,\n",
       "        1.28696133e+00,  1.29178734e+00,  1.29296071e+00,  1.29414165e+00,\n",
       "        1.29535167e+00,  1.30835227e+00,  1.30968638e+00,  1.31146868e+00,\n",
       "        1.31338618e+00,  1.33347183e+00,  1.33766238e+00,  1.33874074e+00,\n",
       "        1.34083588e+00,  1.34467930e+00,  1.35219364e+00,  1.35980058e+00,\n",
       "        1.37395589e+00,  1.38302241e+00,  1.39513473e+00,  1.40669153e+00,\n",
       "        1.41056774e+00,  1.41705707e+00,  1.41765169e+00,  1.42863354e+00,\n",
       "        1.43081584e+00,  1.43483980e+00,  1.43797476e+00,  1.44207423e+00,\n",
       "        1.44682144e+00,  1.45412718e+00,  1.45447044e+00,  1.46221331e+00,\n",
       "        1.46394018e+00,  1.47398820e+00,  1.48245382e+00,  1.49023302e+00,\n",
       "        1.49053180e+00,  1.49334475e+00,  1.51291912e+00,  1.53525230e+00,\n",
       "        1.53782223e+00,  1.55186044e+00,  1.55514704e+00,  1.56143579e+00,\n",
       "        1.56529595e+00,  1.57032259e+00,  1.57602430e+00,  1.58153411e+00,\n",
       "        1.58401662e+00,  1.59518610e+00,  1.62772375e+00,  1.64497801e+00,\n",
       "        1.64771705e+00,  1.66190766e+00,  1.67709652e+00,  1.67739089e+00,\n",
       "        1.68341443e+00,  1.68790883e+00,  1.69302395e+00,  1.69619022e+00,\n",
       "        1.70409516e+00,  1.71127882e+00,  1.71968149e+00,  1.72366411e+00,\n",
       "        1.75797362e+00,  1.76632553e+00,  1.78604081e+00,  1.78890726e+00,\n",
       "        1.79380878e+00,  1.81254996e+00,  1.82487358e+00,  1.83376001e+00,\n",
       "        1.84455113e+00,  1.85312031e+00,  1.85969311e+00,  1.86909534e+00,\n",
       "        1.87147423e+00,  1.88146736e+00,  1.88965784e+00,  1.91932502e+00,\n",
       "        1.95355501e+00,  1.99830500e+00,  2.02394677e+00,  2.02453421e+00,\n",
       "        2.05624127e+00,  2.07589316e+00,  2.09186448e+00,  2.15516612e+00,\n",
       "        2.17316603e+00,  2.17562892e+00,  2.20144998e+00,  2.20873770e+00,\n",
       "        2.22644691e+00,  2.23258391e+00,  2.25080800e+00,  2.27290591e+00,\n",
       "        2.27532892e+00,  2.30094524e+00,  2.36013025e+00,  2.42846534e+00,\n",
       "        2.45198101e+00,  2.45887149e+00,  2.49105263e+00,  2.51193945e+00,\n",
       "        2.55775750e+00,  2.64945344e+00,  2.65578294e+00,  2.66708786e+00,\n",
       "        2.78561296e+00,  3.18050637e+00,  3.64665136e+00,  4.20797771e+00])"
      ]
     },
     "execution_count": 207,
     "metadata": {},
     "output_type": "execute_result"
    }
   ],
   "source": [
    "large_arr.sort()\n",
    "large_arr"
   ]
  },
  {
   "cell_type": "code",
   "execution_count": 208,
   "metadata": {},
   "outputs": [
    {
     "data": {
      "text/plain": [
       "-1.6684870258196938"
      ]
     },
     "execution_count": 208,
     "metadata": {},
     "output_type": "execute_result"
    }
   ],
   "source": [
    "large_arr[int(0.05*len(large_arr))] # 100분의 5분위수"
   ]
  },
  {
   "cell_type": "markdown",
   "metadata": {},
   "source": [
    "### 집합 함수"
   ]
  },
  {
   "cell_type": "code",
   "execution_count": 210,
   "metadata": {},
   "outputs": [
    {
     "data": {
      "text/plain": [
       "array(['Bob', 'Joe', 'Will', 'Bob', 'Will', 'Joe', 'Joe'], dtype='<U4')"
      ]
     },
     "execution_count": 210,
     "metadata": {},
     "output_type": "execute_result"
    }
   ],
   "source": [
    "names = np.array(['Bob','Joe','Will','Bob','Will','Joe','Joe'])\n",
    "names"
   ]
  },
  {
   "cell_type": "code",
   "execution_count": 211,
   "metadata": {},
   "outputs": [
    {
     "data": {
      "text/plain": [
       "array(['Bob', 'Joe', 'Will'], dtype='<U4')"
      ]
     },
     "execution_count": 211,
     "metadata": {},
     "output_type": "execute_result"
    }
   ],
   "source": [
    "np.unique(names)"
   ]
  },
  {
   "cell_type": "code",
   "execution_count": 214,
   "metadata": {},
   "outputs": [
    {
     "data": {
      "text/plain": [
       "array([1, 2, 3, 4])"
      ]
     },
     "execution_count": 214,
     "metadata": {},
     "output_type": "execute_result"
    }
   ],
   "source": [
    "ints = np.array([3,3,3,2,2,1,1,4,4])\n",
    "\n",
    "np.unique(ints)"
   ]
  },
  {
   "cell_type": "code",
   "execution_count": 215,
   "metadata": {},
   "outputs": [
    {
     "data": {
      "text/plain": [
       "array([ True, False, False,  True,  True, False,  True])"
      ]
     },
     "execution_count": 215,
     "metadata": {},
     "output_type": "execute_result"
    }
   ],
   "source": [
    "values = np.array([6,0,0,3,2,5,6])\n",
    "\n",
    "np.in1d(values,[2,3,6]) # 원소가 뒤 리스트에 속하는지 여부 판단"
   ]
  },
  {
   "cell_type": "markdown",
   "metadata": {},
   "source": [
    "## 배열 데이터의 파일 입출력"
   ]
  },
  {
   "cell_type": "code",
   "execution_count": 216,
   "metadata": {},
   "outputs": [
    {
     "data": {
      "text/plain": [
       "array([0, 1, 2, 3, 4, 5, 6, 7, 8, 9])"
      ]
     },
     "execution_count": 216,
     "metadata": {},
     "output_type": "execute_result"
    }
   ],
   "source": [
    "arr = np.arange(10)\n",
    "arr"
   ]
  },
  {
   "cell_type": "code",
   "execution_count": 217,
   "metadata": {},
   "outputs": [],
   "source": [
    "np.save('some_array',arr) # 현재 디렉토리에 파일 생성함(.npy 확장자)"
   ]
  },
  {
   "cell_type": "code",
   "execution_count": 218,
   "metadata": {},
   "outputs": [
    {
     "data": {
      "text/plain": [
       "array([0, 1, 2, 3, 4, 5, 6, 7, 8, 9])"
      ]
     },
     "execution_count": 218,
     "metadata": {},
     "output_type": "execute_result"
    }
   ],
   "source": [
    "np.load('some_array.npy')"
   ]
  },
  {
   "cell_type": "code",
   "execution_count": 219,
   "metadata": {},
   "outputs": [],
   "source": [
    "np.savez('array_archive.npz',a=arr,b=arr) # 여러개 저장"
   ]
  },
  {
   "cell_type": "code",
   "execution_count": 221,
   "metadata": {},
   "outputs": [],
   "source": [
    "archive = np.load('array_archive.npz')"
   ]
  },
  {
   "cell_type": "code",
   "execution_count": 224,
   "metadata": {},
   "outputs": [
    {
     "data": {
      "text/plain": [
       "array([0, 1, 2, 3, 4, 5, 6, 7, 8, 9])"
      ]
     },
     "execution_count": 224,
     "metadata": {},
     "output_type": "execute_result"
    }
   ],
   "source": [
    "archive['a'] # dict 형식으로 호출"
   ]
  },
  {
   "cell_type": "code",
   "execution_count": 226,
   "metadata": {},
   "outputs": [],
   "source": [
    "np.savez_compressed('array_comp.npz',a=arr,b=arr) # 압축이 잘되는경우 사용하면 좋단다."
   ]
  },
  {
   "cell_type": "markdown",
   "metadata": {},
   "source": [
    "### 선형대수"
   ]
  },
  {
   "cell_type": "code",
   "execution_count": 228,
   "metadata": {},
   "outputs": [
    {
     "data": {
      "text/plain": [
       "(array([[1., 2., 3.],\n",
       "        [4., 5., 6.]]),\n",
       " array([[ 6., 23.],\n",
       "        [-1.,  7.],\n",
       "        [ 8.,  9.]]))"
      ]
     },
     "execution_count": 228,
     "metadata": {},
     "output_type": "execute_result"
    }
   ],
   "source": [
    "x = np.array(np.arange(1.,7.)).reshape((2,3))\n",
    "y = np.array([[6.,23.],[-1,7],[8,9]])\n",
    "x,y"
   ]
  },
  {
   "cell_type": "code",
   "execution_count": 229,
   "metadata": {},
   "outputs": [
    {
     "data": {
      "text/plain": [
       "array([[ 28.,  64.],\n",
       "       [ 67., 181.]])"
      ]
     },
     "execution_count": 229,
     "metadata": {},
     "output_type": "execute_result"
    }
   ],
   "source": [
    "x.dot(y) # np.dot(x,y)"
   ]
  },
  {
   "cell_type": "code",
   "execution_count": 230,
   "metadata": {},
   "outputs": [
    {
     "data": {
      "text/plain": [
       "array([[ 28.,  64.],\n",
       "       [ 67., 181.]])"
      ]
     },
     "execution_count": 230,
     "metadata": {},
     "output_type": "execute_result"
    }
   ],
   "source": [
    "x @ y # 행렬곱셈"
   ]
  },
  {
   "cell_type": "code",
   "execution_count": 253,
   "metadata": {},
   "outputs": [
    {
     "data": {
      "text/plain": [
       "array([[ 6,  2,  0, -2,  0],\n",
       "       [ 2,  3,  0,  0,  1],\n",
       "       [ 0,  0,  8,  4,  4],\n",
       "       [-2,  0,  4,  6,  4],\n",
       "       [ 0,  1,  4,  4,  5]])"
      ]
     },
     "execution_count": 253,
     "metadata": {},
     "output_type": "execute_result"
    }
   ],
   "source": [
    "from numpy.linalg import inv, qr\n",
    "\n",
    "x = np.random.randn(5,5).astype('int32')\n",
    "\n",
    "mat = x.T.dot(x)\n",
    "mat"
   ]
  },
  {
   "cell_type": "code",
   "execution_count": 257,
   "metadata": {},
   "outputs": [
    {
     "data": {
      "text/plain": [
       "array([[ 2.77777778e-01, -1.66666667e-01, -5.55555556e-02,\n",
       "         1.66666667e-01, -5.55555556e-02],\n",
       "       [-1.66666667e-01,  5.00000000e-01,  8.33333333e-02,\n",
       "         3.17206578e-17, -1.66666667e-01],\n",
       "       [-5.55555556e-02,  8.33333333e-02,  2.36111111e-01,\n",
       "        -8.33333333e-02, -1.38888889e-01],\n",
       "       [ 1.66666667e-01,  2.18680293e-17, -8.33333333e-02,\n",
       "         5.00000000e-01, -3.33333333e-01],\n",
       "       [-5.55555556e-02, -1.66666667e-01, -1.38888889e-01,\n",
       "        -3.33333333e-01,  6.11111111e-01]])"
      ]
     },
     "execution_count": 257,
     "metadata": {},
     "output_type": "execute_result"
    }
   ],
   "source": [
    "inv(mat) # 역행렬"
   ]
  },
  {
   "cell_type": "code",
   "execution_count": 261,
   "metadata": {},
   "outputs": [
    {
     "data": {
      "text/plain": [
       "array([[ 6,  2,  0, -2,  0],\n",
       "       [ 2,  3,  0,  0,  1],\n",
       "       [ 0,  0,  8,  4,  4],\n",
       "       [-2,  0,  4,  6,  4],\n",
       "       [ 0,  1,  4,  4,  5]])"
      ]
     },
     "execution_count": 261,
     "metadata": {},
     "output_type": "execute_result"
    }
   ],
   "source": [
    "mat"
   ]
  },
  {
   "cell_type": "code",
   "execution_count": 260,
   "metadata": {},
   "outputs": [
    {
     "data": {
      "text/plain": [
       "(array([[-0.90453403,  0.17644617, -0.1707804 , -0.34021608, -0.07597372],\n",
       "        [-0.30151134, -0.84694161,  0.21789223,  0.30390088, -0.22792115],\n",
       "        [-0.        ,  0.        , -0.85979097,  0.47400892, -0.18993429],\n",
       "        [ 0.30151134, -0.3176031 , -0.29444896, -0.71674736, -0.45584231],\n",
       "        [-0.        , -0.38818157, -0.3121159 , -0.23127048,  0.83571089]]),\n",
       " array([[-6.63324958, -2.7136021 ,  1.20604538,  3.61813613,  0.90453403],\n",
       "        [ 0.        , -2.57611406, -2.82313869, -3.81123724, -4.05826187],\n",
       "        [ 0.        ,  0.        , -9.30458717, -6.11276043, -5.95964697],\n",
       "        [ 0.        ,  0.        ,  0.        , -2.64909825, -1.82340529],\n",
       "        [ 0.        ,  0.        ,  0.        ,  0.        ,  1.36752692]]))"
      ]
     },
     "execution_count": 260,
     "metadata": {},
     "output_type": "execute_result"
    }
   ],
   "source": [
    "q,r = qr(mat) # qr 분해한 결과를 알려준다.\n",
    "q,r"
   ]
  },
  {
   "cell_type": "markdown",
   "metadata": {},
   "source": [
    "### 난수 생성"
   ]
  },
  {
   "cell_type": "code",
   "execution_count": 263,
   "metadata": {},
   "outputs": [
    {
     "data": {
      "text/plain": [
       "array([[-1.30453133, -1.07386535, -0.7163545 , -1.24197939],\n",
       "       [ 0.64298648,  0.77535013, -2.2757375 , -0.99292605],\n",
       "       [ 2.53142203, -0.80438694,  1.31258914,  1.38569536],\n",
       "       [ 0.69404611, -0.42669866,  0.02690344, -1.3328745 ]])"
      ]
     },
     "execution_count": 263,
     "metadata": {},
     "output_type": "execute_result"
    }
   ],
   "source": [
    "samples = np.random.normal(size=(4,4)) # 정규분포에서 랜덤하게 4,4)\n",
    "samples"
   ]
  },
  {
   "cell_type": "code",
   "execution_count": 264,
   "metadata": {},
   "outputs": [
    {
     "name": "stdout",
     "output_type": "stream",
     "text": [
      "927 ms ± 6.79 ms per loop (mean ± std. dev. of 7 runs, 1 loop each)\n"
     ]
    }
   ],
   "source": [
    "from random import normalvariate\n",
    "\n",
    "n = 1000000\n",
    "\n",
    "%timeit samples = [normalvariate(0,1) for _ in range(n)]"
   ]
  },
  {
   "cell_type": "code",
   "execution_count": 266,
   "metadata": {},
   "outputs": [
    {
     "name": "stdout",
     "output_type": "stream",
     "text": [
      "32.7 ms ± 314 µs per loop (mean ± std. dev. of 7 runs, 10 loops each)\n"
     ]
    }
   ],
   "source": [
    "%timeit np.random.normal(size=n) # numpy.random이 더 빠르다"
   ]
  },
  {
   "cell_type": "code",
   "execution_count": 268,
   "metadata": {},
   "outputs": [],
   "source": [
    "np.random.seed(1234) # 유사 난수 원하는 값을 지정하면 매번 같은 난수배열이 주어진다"
   ]
  },
  {
   "cell_type": "code",
   "execution_count": 269,
   "metadata": {},
   "outputs": [
    {
     "data": {
      "text/plain": [
       "array([ 0.47143516, -1.19097569,  1.43270697, -0.3126519 , -0.72058873,\n",
       "        0.88716294,  0.85958841, -0.6365235 ,  0.01569637, -2.24268495])"
      ]
     },
     "execution_count": 269,
     "metadata": {},
     "output_type": "execute_result"
    }
   ],
   "source": [
    "rng = np.random.RandomState(1234) #다른 난수생성기와 독립된 생성기\n",
    "\n",
    "rng.randn(10)"
   ]
  },
  {
   "cell_type": "markdown",
   "metadata": {},
   "source": [
    "## 계단오르내리기 예제"
   ]
  },
  {
   "cell_type": "code",
   "execution_count": 276,
   "metadata": {},
   "outputs": [],
   "source": [
    "import random\n",
    "position = 0\n",
    "walk = [position]\n",
    "steps = 1000\n",
    "for i in range(steps):\n",
    "    step = 1 if random.randint(0,1) else -1\n",
    "    position += step\n",
    "    walk.append(position)"
   ]
  },
  {
   "cell_type": "code",
   "execution_count": 277,
   "metadata": {},
   "outputs": [
    {
     "data": {
      "text/plain": [
       "[<matplotlib.lines.Line2D at 0x182f6377e88>]"
      ]
     },
     "execution_count": 277,
     "metadata": {},
     "output_type": "execute_result"
    },
    {
     "data": {
      "image/png": "[encoded data removed]",
      "text/plain": [
       "<Figure size 432x288 with 1 Axes>"
      ]
     },
     "metadata": {
      "needs_background": "light"
     },
     "output_type": "display_data"
    }
   ],
   "source": [
    "plt.plot(walk[:100])"
   ]
  },
  {
   "cell_type": "code",
   "execution_count": 307,
   "metadata": {
    "collapsed": true
   },
   "outputs": [
    {
     "data": {
      "text/plain": [
       "array([-1,  0, -1,  0,  1,  0,  1,  0,  1,  2,  3,  4,  3,  4,  5,  4,  3,\n",
       "        4,  3,  4,  5,  4,  3,  4,  5,  6,  5,  6,  5,  4,  5,  4,  5,  4,\n",
       "        3,  4,  5,  4,  3,  2,  3,  4,  5,  6,  7,  6,  7,  8,  9, 10,  9,\n",
       "       10,  9,  8,  7,  8,  9,  8,  7,  6,  5,  4,  3,  2,  1,  2,  3,  4,\n",
       "        5,  6,  7,  6,  7,  8,  7,  8,  9, 10,  9, 10,  9,  8,  9, 10, 11,\n",
       "       12, 11, 10, 11, 12, 11, 12, 11, 12, 13, 14, 15, 14, 15, 14, 13, 14,\n",
       "       15, 16, 17, 18, 19, 20, 19, 20, 21, 22, 21, 22, 23, 22, 21, 20, 19,\n",
       "       18, 19, 18, 17, 18, 17, 18, 19, 18, 19, 18, 19, 20, 19, 20, 19, 20,\n",
       "       19, 18, 19, 18, 19, 18, 17, 16, 15, 14, 15, 16, 17, 16, 15, 14, 13,\n",
       "       14, 15, 14, 15, 16, 17, 18, 17, 18, 17, 18, 17, 16, 17, 16, 15, 14,\n",
       "       15, 16, 15, 14, 13, 14, 13, 12, 11, 12, 13, 14, 15, 16, 17, 18, 19,\n",
       "       20, 21, 22, 23, 24, 25, 24, 25, 26, 27, 26, 25, 26, 27, 26, 27, 26,\n",
       "       27, 26, 25, 24, 23, 24, 25, 24, 23, 22, 21, 22, 23, 22, 21, 20, 21,\n",
       "       22, 23, 22, 23, 22, 23, 24, 23, 22, 23, 24, 25, 24, 23, 24, 23, 22,\n",
       "       21, 20, 19, 18, 19, 18, 17, 18, 17, 16, 17, 18, 19, 18, 17, 16, 15,\n",
       "       14, 13, 12, 11, 10,  9,  8,  7,  6,  7,  6,  5,  6,  5,  4,  5,  4,\n",
       "        3,  2,  1,  2,  1,  2,  1,  2,  3,  2,  1,  2,  3,  2,  3,  2,  1,\n",
       "        0, -1, -2, -3, -2, -3, -4, -3, -4, -3, -2, -1,  0,  1,  2,  3,  2,\n",
       "        1,  0,  1,  2,  1,  0, -1, -2, -1, -2, -1, -2, -1,  0, -1,  0,  1,\n",
       "        0,  1,  0,  1,  0,  1,  2,  1,  0, -1, -2, -1,  0, -1,  0,  1,  2,\n",
       "        3,  2,  3,  4,  5,  6,  7,  6,  5,  4,  3,  4,  5,  4,  3,  4,  3,\n",
       "        4,  5,  4,  3,  4,  5,  6,  5,  6,  7,  6,  5,  6,  5,  6,  7,  8,\n",
       "        9,  8,  7,  8,  9,  8,  9, 10, 11, 12, 13, 14, 13, 12, 11, 12, 13,\n",
       "       14, 15, 16, 17, 16, 17, 16, 15, 16, 15, 16, 15, 16, 17, 16, 17, 18,\n",
       "       19, 20, 19, 20, 21, 20, 19, 20, 19, 18, 17, 18, 19, 18, 19, 20, 19,\n",
       "       20, 21, 22, 21, 22, 23, 24, 23, 24, 23, 24, 23, 24, 23, 22, 21, 20,\n",
       "       19, 20, 21, 20, 19, 20, 19, 18, 17, 18, 19, 18, 19, 20, 19, 18, 17,\n",
       "       18, 19, 18, 17, 18, 19, 18, 17, 18, 17, 18, 19, 18, 19, 18, 17, 18,\n",
       "       19, 18, 19, 20, 19, 20, 19, 20, 19, 20, 21, 20, 21, 20, 21, 20, 19,\n",
       "       18, 19, 20, 21, 20, 19, 18, 19, 18, 19, 20, 21, 20, 21, 22, 23, 22,\n",
       "       23, 22, 21, 20, 19, 20, 19, 20, 19, 20, 19, 18, 19, 18, 17, 18, 17,\n",
       "       18, 19, 20, 19, 20, 19, 20, 19, 18, 19, 18, 19, 20, 21, 20, 21, 20,\n",
       "       21, 20, 19, 20, 19, 18, 17, 18, 17, 16, 17, 16, 17, 18, 19, 20, 19,\n",
       "       20, 19, 20, 19, 20, 21, 22, 23, 22, 23, 22, 21, 20, 21, 20, 19, 18,\n",
       "       19, 20, 19, 18, 17, 16, 17, 16, 15, 14, 13, 14, 13, 14, 15, 14, 15,\n",
       "       16, 17, 18, 19, 20, 19, 18, 17, 18, 19, 20, 21, 20, 19, 18, 17, 18,\n",
       "       19, 18, 17, 18, 17, 18, 19, 18, 19, 18, 19, 20, 19, 18, 17, 16, 15,\n",
       "       16, 15, 14, 15, 16, 17, 16, 15, 14, 13, 14, 13, 14, 15, 14, 13, 14,\n",
       "       15, 14, 13, 14, 15, 16, 17, 18, 17, 16, 15, 16, 15, 16, 15, 14, 13,\n",
       "       12, 13, 14, 13, 12, 11, 12, 11, 10,  9, 10, 11, 12, 13, 12, 13, 12,\n",
       "       13, 12, 13, 12, 11, 10,  9, 10, 11, 12, 11, 12, 13, 14, 15, 14, 15,\n",
       "       16, 15, 16, 17, 18, 19, 20, 19, 18, 19, 20, 19, 18, 17, 18, 19, 20,\n",
       "       19, 18, 19, 18, 19, 20, 19, 18, 17, 18, 19, 18, 17, 16, 15, 16, 15,\n",
       "       16, 15, 14, 15, 16, 15, 14, 15, 14, 15, 16, 17, 16, 17, 18, 17, 16,\n",
       "       15, 14, 13, 14, 13, 12, 11, 10, 11, 10, 11, 10,  9,  8,  7,  6,  7,\n",
       "        6,  7,  8,  9,  8,  9, 10, 11, 12, 13, 14, 13, 12, 13, 12, 11, 10,\n",
       "        9,  8,  9,  8,  9,  8,  7,  8,  7,  8,  9,  8,  7,  6,  5,  6,  5,\n",
       "        6,  7,  8,  7,  8,  9, 10,  9, 10, 11, 10,  9,  8,  7,  8,  7,  8,\n",
       "        9, 10, 11, 12, 11, 10, 11, 10, 11, 10,  9,  8,  9,  8,  9,  8,  9,\n",
       "       10, 11, 12, 11, 12, 13, 14, 13, 14, 13, 12, 13, 14, 13, 14, 13, 12,\n",
       "       13, 14, 13, 14, 13, 12, 11, 10, 11, 10, 11, 10, 11, 10, 11, 12, 11,\n",
       "       12, 13, 14, 15, 16, 15, 14, 15, 16, 17, 16, 15, 16, 17, 16, 15, 14,\n",
       "       13, 14, 13, 14, 13, 12, 11, 10,  9,  8,  7,  8,  7,  8,  7,  8,  9,\n",
       "       10, 11, 10, 11, 10,  9, 10,  9,  8,  9, 10,  9,  8,  9, 10, 11, 12,\n",
       "       13, 12, 13, 14, 15, 14, 15, 14, 15, 16, 17, 18, 19, 18, 19, 18, 19,\n",
       "       20, 21, 22, 23, 24, 25, 26, 27, 28, 29, 28, 27, 28, 29, 30, 31, 30,\n",
       "       29, 30, 29, 30, 31, 32, 33, 32, 33, 32, 33, 32, 31, 32, 33, 34, 35,\n",
       "       36, 35, 36, 37, 36, 37, 36, 37, 36, 37, 38, 39, 40, 41, 42, 43, 44,\n",
       "       45, 46, 47, 48, 47, 46, 45, 46, 45, 44, 43, 42, 43, 42],\n",
       "      dtype=int32)"
      ]
     },
     "execution_count": 307,
     "metadata": {},
     "output_type": "execute_result"
    }
   ],
   "source": [
    "nsteps = 1000\n",
    "draws = np.random.randint(0,2,size=nsteps) # 0~1까지 정수 랜덤 생성\n",
    "steps = np.where(draws>0,1,-1)\n",
    "walk = steps.cumsum()\n",
    "walk"
   ]
  },
  {
   "cell_type": "code",
   "execution_count": 308,
   "metadata": {},
   "outputs": [
    {
     "data": {
      "text/plain": [
       "[<matplotlib.lines.Line2D at 0x182f6aea2c8>]"
      ]
     },
     "execution_count": 308,
     "metadata": {},
     "output_type": "execute_result"
    },
    {
     "data": {
      "image/png": "[encoded data removed]",
      "text/plain": [
       "<Figure size 432x288 with 1 Axes>"
      ]
     },
     "metadata": {
      "needs_background": "light"
     },
     "output_type": "display_data"
    }
   ],
   "source": [
    "plt.plot(walk[:100])"
   ]
  },
  {
   "cell_type": "code",
   "execution_count": 309,
   "metadata": {},
   "outputs": [
    {
     "data": {
      "text/plain": [
       "(-4, 48)"
      ]
     },
     "execution_count": 309,
     "metadata": {},
     "output_type": "execute_result"
    }
   ],
   "source": [
    "min(walk),max(walk)"
   ]
  },
  {
   "cell_type": "code",
   "execution_count": 312,
   "metadata": {},
   "outputs": [
    {
     "data": {
      "text/plain": [
       "49"
      ]
     },
     "execution_count": 312,
     "metadata": {},
     "output_type": "execute_result"
    }
   ],
   "source": [
    "# 처음으로 시작점에서 10칸이상 떨어진 시점\n",
    "(np.fabs(walk)==10).argmax() # 최대값을 갖는 최초 index 반환함수(True>Flase)"
   ]
  },
  {
   "cell_type": "code",
   "execution_count": 313,
   "metadata": {},
   "outputs": [
    {
     "data": {
      "text/plain": [
       "array([[ -1,   0,   1, ...,  42,  41,  40],\n",
       "       [  1,   2,   3, ..., -40, -39, -40],\n",
       "       [  1,   2,   1, ...,   6,   5,   6],\n",
       "       ...,\n",
       "       [ -1,   0,  -1, ...,   0,   1,   0],\n",
       "       [ -1,  -2,  -3, ...,  34,  33,  32],\n",
       "       [ -1,   0,   1, ...,  -2,  -3,  -4]], dtype=int32)"
      ]
     },
     "execution_count": 313,
     "metadata": {},
     "output_type": "execute_result"
    }
   ],
   "source": [
    "# 한번에 5000번 위 오르내리기 실행하기\n",
    "\n",
    "nwalks = 5000\n",
    "nsteps = 1000\n",
    "draws = np.random.randint(0,2,size=(nwalks,nsteps))\n",
    "steps = np.where(draws>0,1,-1)\n",
    "walks = steps.cumsum(axis = 1)\n",
    "walks"
   ]
  },
  {
   "cell_type": "code",
   "execution_count": 316,
   "metadata": {},
   "outputs": [
    {
     "data": {
      "text/plain": [
       "(115, -130)"
      ]
     },
     "execution_count": 316,
     "metadata": {},
     "output_type": "execute_result"
    }
   ],
   "source": [
    "walks.max(),walks.min()"
   ]
  },
  {
   "cell_type": "code",
   "execution_count": 318,
   "metadata": {},
   "outputs": [
    {
     "data": {
      "text/plain": [
       "array([ True,  True, False, ..., False,  True, False])"
      ]
     },
     "execution_count": 318,
     "metadata": {},
     "output_type": "execute_result"
    }
   ],
   "source": [
    "# 거리30 찾기\n",
    "\n",
    "hits30 = (np.fabs(walks)==30).any(1)\n",
    "\n",
    "hits30"
   ]
  },
  {
   "cell_type": "code",
   "execution_count": 321,
   "metadata": {},
   "outputs": [
    {
     "data": {
      "text/plain": [
       "3382"
      ]
     },
     "execution_count": 321,
     "metadata": {},
     "output_type": "execute_result"
    }
   ],
   "source": [
    "hits30.sum()"
   ]
  },
  {
   "cell_type": "code",
   "execution_count": 327,
   "metadata": {},
   "outputs": [
    {
     "data": {
      "text/plain": [
       "array([[ -1,   0,   1, ...,  42,  41,  40],\n",
       "       [  1,   2,   3, ..., -40, -39, -40],\n",
       "       [  1,   2,   3, ...,  34,  35,  34],\n",
       "       ...,\n",
       "       [ -1,  -2,  -1, ..., -72, -71, -70],\n",
       "       [  1,   0,   1, ...,  64,  65,  66],\n",
       "       [ -1,  -2,  -3, ...,  34,  33,  32]], dtype=int32)"
      ]
     },
     "execution_count": 327,
     "metadata": {},
     "output_type": "execute_result"
    }
   ],
   "source": [
    "walks[hits30]"
   ]
  },
  {
   "cell_type": "code",
   "execution_count": 330,
   "metadata": {},
   "outputs": [
    {
     "data": {
      "text/plain": [
       "506.1785925487877"
      ]
     },
     "execution_count": 330,
     "metadata": {},
     "output_type": "execute_result"
    }
   ],
   "source": [
    "crossing_times = (np.abs(walks[hits30])>=30).argmax(1)\n",
    "crossing_times.mean()"
   ]
  },
  {
   "cell_type": "code",
   "execution_count": 331,
   "metadata": {},
   "outputs": [],
   "source": [
    "steps = np.random.normal(loc=0,scale=0.25,size=(nwalks,nsteps)) # 정규분포에 평균과 표준편차를 입력하여 랜덤 추출"
   ]
  }
 ],
 "metadata": {
  "kernelspec": {
   "display_name": "Python 3",
   "language": "python",
   "name": "python3"
  },
  "language_info": {
   "codemirror_mode": {
    "name": "ipython",
    "version": 3
   },
   "file_extension": ".py",
   "mimetype": "text/x-python",
   "name": "python",
   "nbconvert_exporter": "python",
   "pygments_lexer": "ipython3",
   "version": "3.7.7"
  }
 },
 "nbformat": 4,
 "nbformat_minor": 4
}
