{
 "cells": [
  {
   "cell_type": "markdown",
   "metadata": {},
   "source": [
    "# 분석 템플릿"
   ]
  },
  {
   "cell_type": "code",
   "execution_count": 5,
   "metadata": {},
   "outputs": [],
   "source": [
    "import pandas as pd\n",
    "import numpy as np\n",
    "import matplotlib.pylab as plt\n",
    "%matplotlib notebook\n",
    "import seaborn as sns\n",
    "import pro as y"
   ]
  },
  {
   "cell_type": "code",
   "execution_count": null,
   "metadata": {},
   "outputs": [],
   "source": [
    "from selenium import webdriver\n",
    "from bs4 import BeautifulSoup as bs\n",
    "import time\n",
    "from datetime import datetime\n",
    "from selenium.webdriver.common.keys import Keys"
   ]
  },
  {
   "cell_type": "code",
   "execution_count": null,
   "metadata": {},
   "outputs": [],
   "source": [
    "from matplotlib import font_manager, rc\n",
    "font_name = font_manager.FontProperties(fname=\"c:/Windows/Fonts/malgun.ttf\").get_name()\n",
    "rc('font', family=font_name)\n",
    "plt.rcParams[\"figure.figsize\"] = (8,4)"
   ]
  },
  {
   "cell_type": "markdown",
   "metadata": {},
   "source": [
    "## 데이터 준비\n",
    "1. 전체(df_ori) 데이터에서 조건에 맞는 데이터 추출 (df_main)  \n",
    "    \n",
    "    1.1 상위 25퍼센트만 남기기(top_25_df)\n",
    "\n",
    "2. link 크롤링(link_df)  \n",
    "\n",
    "    2-1. df 와 link 합치기(top_25_link_df)\n",
    "\n",
    "3. 별점 크롤링(score_df_list)"
   ]
  },
  {
   "cell_type": "code",
   "execution_count": 6,
   "metadata": {
    "collapsed": true
   },
   "outputs": [
    {
     "data": {
      "text/html": [
       "<div>\n",
       "<style scoped>\n",
       "    .dataframe tbody tr th:only-of-type {\n",
       "        vertical-align: middle;\n",
       "    }\n",
       "\n",
       "    .dataframe tbody tr th {\n",
       "        vertical-align: top;\n",
       "    }\n",
       "\n",
       "    .dataframe thead th {\n",
       "        text-align: right;\n",
       "    }\n",
       "</style>\n",
       "<table border=\"1\" class=\"dataframe\">\n",
       "  <thead>\n",
       "    <tr style=\"text-align: right;\">\n",
       "      <th></th>\n",
       "      <th>name</th>\n",
       "      <th>category</th>\n",
       "      <th>address</th>\n",
       "      <th>score</th>\n",
       "      <th>eval_cnt</th>\n",
       "      <th>review_cnt</th>\n",
       "      <th>lat</th>\n",
       "      <th>lng</th>\n",
       "      <th>distance</th>\n",
       "      <th>ZMS</th>\n",
       "    </tr>\n",
       "  </thead>\n",
       "  <tbody>\n",
       "    <tr>\n",
       "      <th>0</th>\n",
       "      <td>크래프트아일랜드 강남역점</td>\n",
       "      <td>호프,요리주점</td>\n",
       "      <td>서초동 1317-32</td>\n",
       "      <td>4.8</td>\n",
       "      <td>173</td>\n",
       "      <td>292</td>\n",
       "      <td>37.498478</td>\n",
       "      <td>127.025597</td>\n",
       "      <td>1401.450583</td>\n",
       "      <td>100.00</td>\n",
       "    </tr>\n",
       "    <tr>\n",
       "      <th>1</th>\n",
       "      <td>크래버 대게나라 서초점</td>\n",
       "      <td>게,대게</td>\n",
       "      <td>서초동 1582-16</td>\n",
       "      <td>4.8</td>\n",
       "      <td>166</td>\n",
       "      <td>101</td>\n",
       "      <td>37.486660</td>\n",
       "      <td>127.010803</td>\n",
       "      <td>870.179020</td>\n",
       "      <td>98.60</td>\n",
       "    </tr>\n",
       "    <tr>\n",
       "      <th>2</th>\n",
       "      <td>미즈컨테이너 강남웨스트점</td>\n",
       "      <td>양식</td>\n",
       "      <td>서초동 1316-29</td>\n",
       "      <td>3.4</td>\n",
       "      <td>603</td>\n",
       "      <td>354</td>\n",
       "      <td>37.498270</td>\n",
       "      <td>127.025215</td>\n",
       "      <td>1369.162723</td>\n",
       "      <td>88.51</td>\n",
       "    </tr>\n",
       "    <tr>\n",
       "      <th>3</th>\n",
       "      <td>영동족발 3호점</td>\n",
       "      <td>족발,보쌈</td>\n",
       "      <td>양재동 1-8</td>\n",
       "      <td>3.5</td>\n",
       "      <td>410</td>\n",
       "      <td>105</td>\n",
       "      <td>37.484180</td>\n",
       "      <td>127.038309</td>\n",
       "      <td>1578.216483</td>\n",
       "      <td>85.02</td>\n",
       "    </tr>\n",
       "    <tr>\n",
       "      <th>4</th>\n",
       "      <td>마키노차야 역삼점</td>\n",
       "      <td>해산물뷔페</td>\n",
       "      <td>역삼동 824-46</td>\n",
       "      <td>3.6</td>\n",
       "      <td>322</td>\n",
       "      <td>210</td>\n",
       "      <td>37.498140</td>\n",
       "      <td>127.031071</td>\n",
       "      <td>1587.181976</td>\n",
       "      <td>84.38</td>\n",
       "    </tr>\n",
       "    <tr>\n",
       "      <th>...</th>\n",
       "      <td>...</td>\n",
       "      <td>...</td>\n",
       "      <td>...</td>\n",
       "      <td>...</td>\n",
       "      <td>...</td>\n",
       "      <td>...</td>\n",
       "      <td>...</td>\n",
       "      <td>...</td>\n",
       "      <td>...</td>\n",
       "      <td>...</td>\n",
       "    </tr>\n",
       "    <tr>\n",
       "      <th>1415</th>\n",
       "      <td>명랑핫도그 서초우성점</td>\n",
       "      <td>패스트푸드</td>\n",
       "      <td>서초동 1337-14</td>\n",
       "      <td>1.0</td>\n",
       "      <td>5</td>\n",
       "      <td>2</td>\n",
       "      <td>37.492195</td>\n",
       "      <td>127.029043</td>\n",
       "      <td>973.573941</td>\n",
       "      <td>6.94</td>\n",
       "    </tr>\n",
       "    <tr>\n",
       "      <th>1416</th>\n",
       "      <td>로봇김밥 신분당선양재역점</td>\n",
       "      <td>분식</td>\n",
       "      <td>양재동</td>\n",
       "      <td>1.0</td>\n",
       "      <td>4</td>\n",
       "      <td>8</td>\n",
       "      <td>37.473198</td>\n",
       "      <td>127.038170</td>\n",
       "      <td>2138.641337</td>\n",
       "      <td>6.71</td>\n",
       "    </tr>\n",
       "    <tr>\n",
       "      <th>1417</th>\n",
       "      <td>배수경양재정육식당 17호점</td>\n",
       "      <td>육류,고기</td>\n",
       "      <td>양재동 13-13</td>\n",
       "      <td>1.0</td>\n",
       "      <td>5</td>\n",
       "      <td>0</td>\n",
       "      <td>37.482996</td>\n",
       "      <td>127.036419</td>\n",
       "      <td>1443.782964</td>\n",
       "      <td>6.29</td>\n",
       "    </tr>\n",
       "    <tr>\n",
       "      <th>1418</th>\n",
       "      <td>파스쿠찌 교대메가스터디점</td>\n",
       "      <td>커피전문점</td>\n",
       "      <td>서초동 1671-2</td>\n",
       "      <td>1.0</td>\n",
       "      <td>4</td>\n",
       "      <td>3</td>\n",
       "      <td>37.493280</td>\n",
       "      <td>127.014626</td>\n",
       "      <td>923.268458</td>\n",
       "      <td>6.23</td>\n",
       "    </tr>\n",
       "    <tr>\n",
       "      <th>1419</th>\n",
       "      <td>셰프의국수N육개장 역삼테헤란점</td>\n",
       "      <td>국수</td>\n",
       "      <td>역삼동 823</td>\n",
       "      <td>1.0</td>\n",
       "      <td>4</td>\n",
       "      <td>2</td>\n",
       "      <td>37.498746</td>\n",
       "      <td>127.031690</td>\n",
       "      <td>1673.740118</td>\n",
       "      <td>6.06</td>\n",
       "    </tr>\n",
       "  </tbody>\n",
       "</table>\n",
       "<p>1420 rows × 10 columns</p>\n",
       "</div>"
      ],
      "text/plain": [
       "                  name category      address  score  eval_cnt  review_cnt  \\\n",
       "0        크래프트아일랜드 강남역점  호프,요리주점  서초동 1317-32    4.8       173         292   \n",
       "1         크래버 대게나라 서초점     게,대게  서초동 1582-16    4.8       166         101   \n",
       "2        미즈컨테이너 강남웨스트점       양식  서초동 1316-29    3.4       603         354   \n",
       "3             영동족발 3호점    족발,보쌈      양재동 1-8    3.5       410         105   \n",
       "4            마키노차야 역삼점    해산물뷔페   역삼동 824-46    3.6       322         210   \n",
       "...                ...      ...          ...    ...       ...         ...   \n",
       "1415       명랑핫도그 서초우성점    패스트푸드  서초동 1337-14    1.0         5           2   \n",
       "1416     로봇김밥 신분당선양재역점       분식          양재동    1.0         4           8   \n",
       "1417    배수경양재정육식당 17호점    육류,고기    양재동 13-13    1.0         5           0   \n",
       "1418     파스쿠찌 교대메가스터디점    커피전문점   서초동 1671-2    1.0         4           3   \n",
       "1419  셰프의국수N육개장 역삼테헤란점       국수      역삼동 823    1.0         4           2   \n",
       "\n",
       "            lat         lng     distance     ZMS  \n",
       "0     37.498478  127.025597  1401.450583  100.00  \n",
       "1     37.486660  127.010803   870.179020   98.60  \n",
       "2     37.498270  127.025215  1369.162723   88.51  \n",
       "3     37.484180  127.038309  1578.216483   85.02  \n",
       "4     37.498140  127.031071  1587.181976   84.38  \n",
       "...         ...         ...          ...     ...  \n",
       "1415  37.492195  127.029043   973.573941    6.94  \n",
       "1416  37.473198  127.038170  2138.641337    6.71  \n",
       "1417  37.482996  127.036419  1443.782964    6.29  \n",
       "1418  37.493280  127.014626   923.268458    6.23  \n",
       "1419  37.498746  127.031690  1673.740118    6.06  \n",
       "\n",
       "[1420 rows x 10 columns]"
      ]
     },
     "execution_count": 6,
     "metadata": {},
     "output_type": "execute_result"
    }
   ],
   "source": [
    "# df_ori\n",
    "df_ori = pd.read_csv('./ZMS_200701.csv')\n",
    "df_ori"
   ]
  },
  {
   "cell_type": "code",
   "execution_count": null,
   "metadata": {},
   "outputs": [],
   "source": [
    "# df_main 만들기\n",
    "df_main ="
   ]
  },
  {
   "cell_type": "code",
   "execution_count": null,
   "metadata": {},
   "outputs": [],
   "source": [
    "# top_25_df 확인\n",
    "df_main.describe()"
   ]
  },
  {
   "cell_type": "code",
   "execution_count": null,
   "metadata": {},
   "outputs": [],
   "source": [
    "# top_25_df 만들기\n",
    "top_25_df = \n",
    "n_25 = len(top_25_df)-1 # top 25%가 되는 index\n",
    "top_25_df"
   ]
  },
  {
   "cell_type": "code",
   "execution_count": null,
   "metadata": {},
   "outputs": [],
   "source": [
    "# 드라이버 켜주고 지도위치 설정\n",
    "driver = webdriver.Chrome('./chromedriver.exe')\n",
    "driver.implicitly_wait(3) # 3초 기다려주자\n",
    "driver.get('https://map.kakao.com/')"
   ]
  },
  {
   "cell_type": "code",
   "execution_count": null,
   "metadata": {},
   "outputs": [],
   "source": [
    "# 링크 크롤링\n",
    "name_list = list(top_25_df.name)\n",
    "names = []\n",
    "link = []\n",
    "\n",
    "search = driver.find_element_by_name('q')\n",
    "bnt_cle = driver.find_element_by_id('info.main.header.clear')\n",
    "\n",
    "for name in name_list:\n",
    "    btn_c = driver.find_element_by_css_selector('#search\\.keyword\\.bounds') \n",
    "    btn_c.click()\n",
    "    search.send_keys(name)\n",
    "    search.send_keys(Keys.RETURN)\n",
    "    driver.implicitly_wait(5)\n",
    "    time.sleep(0.5)\n",
    "    soup = bs(driver.page_source,'html.parser')\n",
    "\n",
    "    name_s = soup.select('#info\\.search\\.place\\.list > li > div.head_item.clickArea > strong > a.link_name')\n",
    "    names += [i.text for i in name_s]\n",
    "    link_s = soup.select('#info\\.search\\.place\\.list > li > div.info_item > div.contact.clickArea > a.moreview')\n",
    "    link += [i.get('href') for i in link_s]\n",
    "    bnt_cle.click()\n",
    "link_df = pd.DataFrame({'name':names,'link':link})"
   ]
  },
  {
   "cell_type": "code",
   "execution_count": null,
   "metadata": {},
   "outputs": [],
   "source": [
    "top_25_link_df = pd.merge(top_25_df,link_df,on='name',how='left')\n",
    "top_25_link_df # 중복확인"
   ]
  },
  {
   "cell_type": "code",
   "execution_count": null,
   "metadata": {},
   "outputs": [],
   "source": [
    "# score_df_list 만들기\n",
    "score_df_list = []\n",
    "for row in top_25_link_df.index:\n",
    "    df = pd.DataFrame(y.yscl2(top_25_link_df.loc[row,'link']),index=['date','score'])\n",
    "    score_df_list.append(df.T)"
   ]
  },
  {
   "cell_type": "code",
   "execution_count": null,
   "metadata": {},
   "outputs": [],
   "source": [
    "# 잘 되었는지 확인\n",
    "for i in range(n_25):\n",
    "    print(i,top_25_link_df.loc[i,'eval_cnt'],len(score_df_list[i]))"
   ]
  },
  {
   "cell_type": "code",
   "execution_count": null,
   "metadata": {},
   "outputs": [],
   "source": [
    "# 전처리\n",
    "y.score_srt_int(score_df_list,n_25)"
   ]
  },
  {
   "cell_type": "markdown",
   "metadata": {},
   "source": [
    "## 데이터 살펴보기\n",
    "\n",
    "1. ZMS 점수 분포 전체와 비교하기(밀도함수)  \n",
    "  \n",
    "2. ZMS 점수 통계치 확인  \n",
    "  \n",
    "3. 2018 ~ 2020 분기별 별점,별점count 그래프 확인  \n",
    "  \n",
    "4. 2018 ~ 2020 분기별 별점count 증감 그래프 확인  "
   ]
  },
  {
   "cell_type": "code",
   "execution_count": null,
   "metadata": {},
   "outputs": [],
   "source": [
    "# 1.\n",
    "fig, ax =plt.subplots()\n",
    "ax.set_xlim([0,100])\n",
    "ax.set_ylim([0,0.04])\n",
    "ax.set_xticks([i*10 for i in range(0,11)])\n",
    "df_ori.ZMS.plot.density(label = '전체')\n",
    "df_main.ZMS.plot.density(label = '분석대상')\n",
    "plt.legend(loc='best')"
   ]
  },
  {
   "cell_type": "code",
   "execution_count": null,
   "metadata": {},
   "outputs": [],
   "source": [
    "# 2.\n",
    "df_main.ZMS.describe()"
   ]
  },
  {
   "cell_type": "code",
   "execution_count": null,
   "metadata": {},
   "outputs": [],
   "source": [
    "# 3. \n",
    "for a in range(n_25): # 숫자 넣을 것\n",
    "    y.score_1820(score_df_list,a,top_25_link_df)"
   ]
  },
  {
   "cell_type": "code",
   "execution_count": null,
   "metadata": {},
   "outputs": [],
   "source": [
    "# 4.\n",
    "for n in range(n_25): # 숫자 넣을 것\n",
    "    y.score_delta_1820(score_df_list,n,top_25_link_df)\n",
    "    plt.axhline(y=0, color='k', linewidth=2)"
   ]
  },
  {
   "cell_type": "markdown",
   "metadata": {},
   "source": [
    "## 결과 내기\n",
    "\n",
    "1. ZMS 점수와 위 3번 그래프 점수가 좋은 집 확인    \n",
    "\n",
    "    1.1 ZMS등수와 3번이 다 높은집 // 둘 중 하나가 높은 집 // \n",
    "\n",
    "2. 4번 그래프로 이상치(댓글알바 같은) 확인 후 필터링"
   ]
  },
  {
   "cell_type": "markdown",
   "metadata": {},
   "source": [
    "## 결과물 토의하기\n",
    "\n",
    "1. 맛집 리스트와 ZMS 점수, 3개년 점수?"
   ]
  }
 ],
 "metadata": {
  "kernelspec": {
   "display_name": "Python 3",
   "language": "python",
   "name": "python3"
  },
  "language_info": {
   "codemirror_mode": {
    "name": "ipython",
    "version": 3
   },
   "file_extension": ".py",
   "mimetype": "text/x-python",
   "name": "python",
   "nbconvert_exporter": "python",
   "pygments_lexer": "ipython3",
   "version": "3.7.7"
  },
  "toc": {
   "base_numbering": 1,
   "nav_menu": {},
   "number_sections": true,
   "sideBar": true,
   "skip_h1_title": true,
   "title_cell": "Table of Contents",
   "title_sidebar": "Contents",
   "toc_cell": false,
   "toc_position": {
    "height": "calc(100% - 180px)",
    "left": "10px",
    "top": "150px",
    "width": "307.2px"
   },
   "toc_section_display": true,
   "toc_window_display": true
  }
 },
 "nbformat": 4,
 "nbformat_minor": 4
}
