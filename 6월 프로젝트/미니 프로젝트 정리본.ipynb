{
 "cells": [
  {
   "cell_type": "markdown",
   "metadata": {},
   "source": [
    "# 학원 근처 음식점 분석  \n",
    "\n",
    "- 카카오 맵을 이용하여 학원 근처 음식점 정보를 크롤링하고 조건별 분석"
   ]
  },
  {
   "cell_type": "markdown",
   "metadata": {
    "heading_collapsed": true
   },
   "source": [
    "## 음식점 정보 크롤링\n",
    "\n",
    "- 이름, 카테고리, 별점, 별점 평가자 수, 리뷰수, 주소"
   ]
  },
  {
   "cell_type": "code",
   "execution_count": null,
   "metadata": {
    "hidden": true
   },
   "outputs": [],
   "source": [
    "from selenium import webdriver # 드라이버를 이용하기 위해\n",
    "import pyautogui\n",
    "from bs4 import BeautifulSoup as bs\n",
    "import time \n",
    "from datetime import datetime\n",
    "from selenium.webdriver.common.keys import Keys\n",
    "import pandas as pd\n",
    "from tqdm import tqdm_notebook"
   ]
  },
  {
   "cell_type": "code",
   "execution_count": null,
   "metadata": {
    "hidden": true
   },
   "outputs": [],
   "source": [
    "# 드라이버 연결 및 카카오맵 사이트 열기\n",
    "driver = webdriver.Chrome('./chromedriver.exe')\n",
    "driver.implicitly_wait(3) # 3초 기다려주자\n",
    "driver.get('https://map.kakao.com/')"
   ]
  },
  {
   "cell_type": "code",
   "execution_count": null,
   "metadata": {
    "hidden": true
   },
   "outputs": [],
   "source": [
    "# 검색란에 '음식점' 입력후 엔터\n",
    "search = driver.find_element_by_name('q')\n",
    "search.send_keys(\"음식점\")\n",
    "search.send_keys(Keys.RETURN)"
   ]
  },
  {
   "cell_type": "code",
   "execution_count": null,
   "metadata": {
    "hidden": true
   },
   "outputs": [],
   "source": [
    "# 현 지도에서 다시 검색 버튼 클릭\n",
    "btn_c = driver.find_element_by_css_selector('#search\\.keyword\\.bounds')\n",
    "btn_c.click()"
   ]
  },
  {
   "cell_type": "code",
   "execution_count": null,
   "metadata": {
    "hidden": true
   },
   "outputs": [],
   "source": [
    "# 장소버튼 클릭\n",
    "btn_pl = driver.find_element_by_css_selector('#info\\.main\\.options > li.option1 > a')\n",
    "btn_pl.click()"
   ]
  },
  {
   "cell_type": "code",
   "execution_count": null,
   "metadata": {
    "hidden": true
   },
   "outputs": [],
   "source": [
    "# list들\n",
    "name = []\n",
    "ctg = []\n",
    "star = []\n",
    "star_count = []\n",
    "review = []\n",
    "address = []"
   ]
  },
  {
   "cell_type": "code",
   "execution_count": null,
   "metadata": {
    "hidden": true
   },
   "outputs": [],
   "source": [
    "# 페이지 넘어가며 검색하고 리스트에 넣기\n",
    "btn_n = driver.find_element_by_id('info.search.page.next') # 다음으로 넘기는 버튼\n",
    "\n",
    "while len(name)<52:\n",
    "    for i in [1,2,3,4,5]:\n",
    "        # 페이지 하나씩 넘기는 버튼\n",
    "        btn_p = driver.find_element_by_id('info.search.page.no{}'.format(i))\n",
    "        btn_p.click()\n",
    "        driver.implicitly_wait(5)\n",
    "        time.sleep(0.5)\n",
    "        soup = bs(driver.page_source,'html.parser')\n",
    "\n",
    "        name_s = soup.select('#info\\.search\\.place\\.list > li > div.head_item.clickArea > strong > a.link_name')\n",
    "        name += [i.text for i in name_s]\n",
    "        ctg_s = soup.select('#info\\.search\\.place\\.list > li > div.head_item.clickArea > span')\n",
    "        ctg += [i.text for i in ctg_s]\n",
    "        star_s = soup.select('#info\\.search\\.place\\.list > li > div.rating.clickArea > span.score > em')\n",
    "        star += [i.text for i in star_s]\n",
    "        star_count_s = soup.select('#info\\.search\\.place\\.list > li > div.rating.clickArea > span.score > a')\n",
    "        star_count += [i.text for i in star_count_s]\n",
    "        review_s = soup.select('#info\\.search\\.place\\.list > li > div.rating.clickArea > a > em')\n",
    "        review += [i.text for i in review_s]\n",
    "        address_s = soup.select('#info\\.search\\.place\\.list > li > div.info_item > div.addr > p:nth-child(1)')\n",
    "        address += [i.text for i in address_s]\n",
    "        print(i,name_s[0].text,len(name),len(name_s)) # 진행사항 보기위해\n",
    "\n",
    "        time.sleep(0.2)\n",
    "    btn_n.click()"
   ]
  },
  {
   "cell_type": "code",
   "execution_count": null,
   "metadata": {
    "hidden": true
   },
   "outputs": [],
   "source": [
    "# 잘되었는지 확인\n",
    "len(name),len(ctg),len(star),len(star_count),len(review),len(address) "
   ]
  },
  {
   "cell_type": "code",
   "execution_count": null,
   "metadata": {
    "hidden": true
   },
   "outputs": [],
   "source": [
    "# 위 정보를 바탕으로 dataframe 생성\n",
    "df_food = pd.DataFrame({\n",
    "    'name':name, 'category':ctg, 'star':star,'star_count':star_count,'review':review, 'address':address\n",
    "}) "
   ]
  },
  {
   "cell_type": "code",
   "execution_count": null,
   "metadata": {
    "hidden": true
   },
   "outputs": [],
   "source": [
    "df_food.head() # 한번더 확인"
   ]
  },
  {
   "cell_type": "code",
   "execution_count": null,
   "metadata": {
    "hidden": true
   },
   "outputs": [],
   "source": [
    "df_food.to_csv('./구역_4.csv') # 저장"
   ]
  },
  {
   "cell_type": "markdown",
   "metadata": {
    "heading_collapsed": true
   },
   "source": [
    "## 카카오 API를 이용하여 위도 경도 구하기"
   ]
  },
  {
   "cell_type": "markdown",
   "metadata": {
    "heading_collapsed": true,
    "hidden": true
   },
   "source": [
    "### 위도, 경도 구하기"
   ]
  },
  {
   "cell_type": "code",
   "execution_count": null,
   "metadata": {
    "hidden": true
   },
   "outputs": [],
   "source": [
    "import requests\n",
    "from urllib.parse import urlparse\n",
    "import pandas as pd\n",
    "import json"
   ]
  },
  {
   "cell_type": "code",
   "execution_count": null,
   "metadata": {
    "hidden": true
   },
   "outputs": [],
   "source": [
    "# 주소를 입력 받아 위도,경도를 반환하는 함수\n",
    "def getLatLng(addr):\n",
    "    url = 'https://dapi.kakao.com/v2/local/search/address.json?query='+str(addr)\n",
    "    headers = {\"Authorization\": \"KakaoAK 8d430164aae810648e75898031ed42aa\"} # 카카오API 넘버(개인)\n",
    "    result = json.loads(str(requests.get(url,headers=headers).text)) # 정보에서 text만 가져오기\n",
    "    match_first = result['documents'][0]['address'] # 주소와 일치하는 첫번째 위도경도 가져오기\n",
    "    return float(match_first['y']),float(match_first['x'])"
   ]
  },
  {
   "cell_type": "code",
   "execution_count": null,
   "metadata": {
    "hidden": true
   },
   "outputs": [],
   "source": [
    "getLatLng('서울 서초구 사임당로 58 제일빌딩') # 테스트"
   ]
  },
  {
   "cell_type": "code",
   "execution_count": null,
   "metadata": {
    "hidden": true
   },
   "outputs": [],
   "source": [
    "er = [] # 에러난 행 모으기\n",
    "for row in tqdm_notebook(df.index): # 진행시간 확인\n",
    "    try:\n",
    "        df.loc[row,'lat'],df.loc[row,'lng'] = getLatLng(df.loc[row,'address'])\n",
    "    except:\n",
    "        er.append(row)"
   ]
  },
  {
   "cell_type": "code",
   "execution_count": null,
   "metadata": {
    "hidden": true
   },
   "outputs": [],
   "source": [
    "df.iloc[er,:] #에러행 확인 에러 난 주소를 확인"
   ]
  },
  {
   "cell_type": "code",
   "execution_count": null,
   "metadata": {
    "hidden": true
   },
   "outputs": [],
   "source": [
    "# 몇개 안되니까 직접 변경(아래는 카카오 맵에서 직접 찾아 변경)\n",
    "# 개수가 많은 경우 다른 방법을 찾는다. 전처리 전 None값을 처리한다.\n",
    "df.loc[410,'address'] = '서울 서초구 서초동 1577-11'\n",
    "df.loc[471,'address'] = '서울 서초구 사임당로 58 제일빌딩'\n",
    "df.loc[618,'address'] = '서울 서초구 서초중앙로 18'\n",
    "df.loc[479,'address'] = '서울 서초구 서초대로50길 105'"
   ]
  },
  {
   "cell_type": "code",
   "execution_count": null,
   "metadata": {
    "hidden": true
   },
   "outputs": [],
   "source": [
    "df.info() # 확인~"
   ]
  },
  {
   "cell_type": "markdown",
   "metadata": {
    "heading_collapsed": true,
    "hidden": true
   },
   "source": [
    "### 위도, 경도를 이용하여 학원과의 거리 구하기"
   ]
  },
  {
   "cell_type": "code",
   "execution_count": null,
   "metadata": {
    "hidden": true
   },
   "outputs": [],
   "source": [
    "from haversine import haversine\n",
    "\n",
    "def dis(x): # 위도와 경도로 거리 구해주는 함수 만듦\n",
    "    return haversine((37.486499, 127.020664),(x.lat,x.lng)) # km\n",
    "\n",
    "df['distance'] = df.apply(dis,axis=1) # 모든 행에 적용\n",
    "df.head()"
   ]
  },
  {
   "cell_type": "markdown",
   "metadata": {
    "heading_collapsed": true
   },
   "source": [
    "## 지표 정하기\n",
    "\n",
    "- 별점, 별점 평가자 수, 리뷰 수를 이용하여 하나의 지표 생성\n",
    "- 여러 지표를 시행해보고 결과를 확인한 뒤에 정하자\n",
    "- 도메인 지식이 많이 필요하다."
   ]
  },
  {
   "cell_type": "markdown",
   "metadata": {
    "heading_collapsed": true,
    "hidden": true
   },
   "source": [
    "### review_cnt"
   ]
  },
  {
   "cell_type": "code",
   "execution_count": null,
   "metadata": {
    "hidden": true
   },
   "outputs": [],
   "source": [
    "# review_cnt로 정렬 후 그래프 그리기\n",
    "df.sort_values('review_cnt',ignore_index=True,inplace=True)\n",
    "plt.plot(df[1500:].index,df[1500:].review_cnt,'b-')"
   ]
  },
  {
   "cell_type": "code",
   "execution_count": null,
   "metadata": {
    "hidden": true
   },
   "outputs": [],
   "source": [
    "plt.plot(df.index,np.log(df.review_cnt),'b-') # 값에 log후 그래프"
   ]
  },
  {
   "cell_type": "code",
   "execution_count": null,
   "metadata": {
    "hidden": true
   },
   "outputs": [],
   "source": [
    "sns.distplot(np.log(df[(df.review_cnt>10)].review_cnt)) #displot 그래프"
   ]
  },
  {
   "cell_type": "markdown",
   "metadata": {
    "heading_collapsed": true,
    "hidden": true
   },
   "source": [
    "### score"
   ]
  },
  {
   "cell_type": "code",
   "execution_count": null,
   "metadata": {
    "hidden": true
   },
   "outputs": [],
   "source": [
    "sns.displot(df.score) #displot"
   ]
  },
  {
   "cell_type": "markdown",
   "metadata": {
    "heading_collapsed": true,
    "hidden": true
   },
   "source": [
    "### eval_cnt"
   ]
  },
  {
   "cell_type": "code",
   "execution_count": null,
   "metadata": {
    "hidden": true
   },
   "outputs": [],
   "source": [
    "df.sort_values('eval_cnt',ignore_index=True,inplace=True)\n",
    "plt.plot(df.index,df.eval_cnt) # 정렬후 그래프"
   ]
  },
  {
   "cell_type": "markdown",
   "metadata": {
    "heading_collapsed": true,
    "hidden": true
   },
   "source": [
    "### 최종 지표(ZMS)\n",
    "\n",
    "score * log(eval_cnt) + min-max(log(review_cnt)) ==> 100점 만점 min-max"
   ]
  },
  {
   "cell_type": "code",
   "execution_count": null,
   "metadata": {
    "hidden": true
   },
   "outputs": [],
   "source": []
  },
  {
   "cell_type": "code",
   "execution_count": null,
   "metadata": {
    "hidden": true
   },
   "outputs": [],
   "source": []
  },
  {
   "cell_type": "code",
   "execution_count": null,
   "metadata": {
    "hidden": true
   },
   "outputs": [],
   "source": []
  },
  {
   "cell_type": "code",
   "execution_count": null,
   "metadata": {
    "hidden": true
   },
   "outputs": [],
   "source": []
  }
 ],
 "metadata": {
  "kernelspec": {
   "display_name": "Python 3",
   "language": "python",
   "name": "python3"
  },
  "language_info": {
   "codemirror_mode": {
    "name": "ipython",
    "version": 3
   },
   "file_extension": ".py",
   "mimetype": "text/x-python",
   "name": "python",
   "nbconvert_exporter": "python",
   "pygments_lexer": "ipython3",
   "version": "3.7.7"
  },
  "toc": {
   "base_numbering": 1,
   "nav_menu": {},
   "number_sections": true,
   "sideBar": true,
   "skip_h1_title": true,
   "title_cell": "Table of Contents",
   "title_sidebar": "Contents",
   "toc_cell": false,
   "toc_position": {},
   "toc_section_display": true,
   "toc_window_display": true
  }
 },
 "nbformat": 4,
 "nbformat_minor": 4
}
